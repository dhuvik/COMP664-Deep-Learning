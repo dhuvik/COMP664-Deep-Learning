{
 "cells": [
  {
   "cell_type": "markdown",
   "id": "ace3e782",
   "metadata": {},
   "source": [
    "# Chapter 5: Multilayer Perceptron\n",
    "\n",
    "### Dhuvi Karthikeyan\n",
    "\n",
    "##### 1/29/2023"
   ]
  },
  {
   "cell_type": "code",
   "execution_count": null,
   "id": "6c68b3e4",
   "metadata": {},
   "outputs": [],
   "source": []
  },
  {
   "cell_type": "markdown",
   "id": "994ab96e",
   "metadata": {},
   "source": [
    "### Class Notes\n",
    "\n",
    "* Pit-falls/Qualifications of \"Linear models\" \n",
    "    * increase in a feature must always increase or always decrease models output (monotonic relationship to input features)\n",
    "\n",
    "    * The effect on the output is proportional to the change in input\n",
    "    \n",
    "**How do we model non-linearities?**\n",
    "\n",
    "* Composing multiple functions (stack multiple transformations)\n",
    "* However, compositions of linear transformations results in a linear transformation\n",
    "* Introduce non-linearity -> (activation function)\n",
    "* Transformation ~ Layer: composite of linear transformation and nonlinearity\n",
    "* $\\sigma$ the nonlinearity function is *usually* elementwise\n",
    "* What to use for $\\sigma$?\n",
    "    * Simgoid(x) = $\\frac{1}{1+\\exp(-x)}$\n",
    "    \n",
    "#### Universal Approximation Theorem\n",
    "\n",
    "A sufficiently \"wide\" MLP with just one hidden layer can approximate any function arbitrarily well."
   ]
  },
  {
   "cell_type": "code",
   "execution_count": null,
   "id": "3ff9e66e",
   "metadata": {},
   "outputs": [],
   "source": []
  }
 ],
 "metadata": {
  "kernelspec": {
   "display_name": "Python 3 (ipykernel)",
   "language": "python",
   "name": "python3"
  },
  "language_info": {
   "codemirror_mode": {
    "name": "ipython",
    "version": 3
   },
   "file_extension": ".py",
   "mimetype": "text/x-python",
   "name": "python",
   "nbconvert_exporter": "python",
   "pygments_lexer": "ipython3",
   "version": "3.10.8"
  }
 },
 "nbformat": 4,
 "nbformat_minor": 5
}
