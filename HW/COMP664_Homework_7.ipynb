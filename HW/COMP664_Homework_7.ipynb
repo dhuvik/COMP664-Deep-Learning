{
  "nbformat": 4,
  "nbformat_minor": 0,
  "metadata": {
    "colab": {
      "provenance": []
    },
    "kernelspec": {
      "name": "python3",
      "display_name": "Python 3"
    }
  },
  "cells": [
    {
      "cell_type": "markdown",
      "metadata": {
        "id": "t2hPDx3Tvh0v"
      },
      "source": [
        "# Homework 7\n",
        "\n",
        "In this homework you will be training and using a \"char-RNN\". This is the name given to a character-level recurrent neural network language model by [this famous blog post by Andrej Karpathy](http://karpathy.github.io/2015/05/21/rnn-effectiveness/). Before you start on the rest of the homework, please give the blog post a read, it's quite good!\n",
        "\n",
        "I don't expect you to implement the char-RNN from scratch. Andrej's original char-rnn is in Torch (the predecessor to PyTorch that is not commonly used anymore). Fortunately, there are many other implementations of this model available; for example, there is one (in both mxnet and pytorch) in chapters 8 and 9 of [the textbook](http://d2l.ai), and another pytorch one [here](https://github.com/spro/char-rnn.pytorch). **Please use one of these example implementations (or another one that you find) when completing this homework**.\n",
        "\n",
        "For this homework, please complete the following steps:\n",
        "\n",
        "1. Download and tokenize the [Shakespeare dataset](http://www.gutenberg.org/files/100/100-0.txt) at a character level. I recommend basing your solution on the following code:\n",
        "```Python\n",
        "# Remove non-alphabetical characters, lowercase, and replace whitespace with ' '\n",
        "raw_dataset = ' '.join(re.sub('[^A-Za-z ]+', '', text).lower().split())\n",
        "# Maps token index to character\n",
        "idx_to_char = list(set(raw_dataset))\n",
        "# Maps character to token index\n",
        "char_to_idx = dict([(char, i) for i, char in enumerate(idx_to_char)])\n",
        "# Tokenize the dataset\n",
        "corpus_indices = [char_to_idx[char] for char in raw_dataset]\n",
        "```\n",
        "1. Train a \"vanilla\" RNN (as described in chapter 9 of [the textbook](http://d2l.ai)) on the Shakespeare dataset. Report the training loss and generate some samples from the model at the end of training.\n",
        "1. Train a GRU RNN (as described in chapter 10 of [the textbook](http://d2l.ai)) on the Shakespeare datatset. Is the final training loss higher or lower than the vanilla RNN? Are the samples from the model more or less realistic?\n",
        "1. Find a smaller, simpler dataset than the Shakespeare data (you can find some ideas in Andrej's blog post, but feel free to get creative!) and train either the vanilla or GRU RNN on it instead. Is the final training loss higher or lower than it was for the Shakespeare data?"
      ]
    },
    {
      "cell_type": "code",
      "source": [
        "!pip install einops"
      ],
      "metadata": {
        "colab": {
          "base_uri": "https://localhost:8080/"
        },
        "id": "LcZO1TWj7H2d",
        "outputId": "041d2153-50d9-43a7-a934-fe651d4aeb7f"
      },
      "execution_count": 1,
      "outputs": [
        {
          "output_type": "stream",
          "name": "stdout",
          "text": [
            "Looking in indexes: https://pypi.org/simple, https://us-python.pkg.dev/colab-wheels/public/simple/\n",
            "Collecting einops\n",
            "  Downloading einops-0.6.0-py3-none-any.whl (41 kB)\n",
            "\u001b[?25l     \u001b[90m━━━━━━━━━━━━━━━━━━━━━━━━━━━━━━━━━━━━━━━━\u001b[0m \u001b[32m0.0/41.6 KB\u001b[0m \u001b[31m?\u001b[0m eta \u001b[36m-:--:--\u001b[0m\r\u001b[2K     \u001b[90m━━━━━━━━━━━━━━━━━━━━━━━━━━━━━━━━━━━━━━━━\u001b[0m \u001b[32m41.6/41.6 KB\u001b[0m \u001b[31m3.9 MB/s\u001b[0m eta \u001b[36m0:00:00\u001b[0m\n",
            "\u001b[?25hInstalling collected packages: einops\n",
            "Successfully installed einops-0.6.0\n"
          ]
        }
      ]
    },
    {
      "cell_type": "code",
      "source": [
        "import requests\n",
        "import numpy as np\n",
        "import re\n",
        "import torch\n",
        "import torch.nn as nn\n",
        "import torch.nn.functional as F\n",
        "from einops import rearrange, reduce, repeat\n",
        "from torch.optim import Adam\n",
        "import matplotlib.pyplot as plt\n"
      ],
      "metadata": {
        "id": "LXkF1Om6rvkB"
      },
      "execution_count": 34,
      "outputs": []
    },
    {
      "cell_type": "markdown",
      "source": [
        "## 0. Download The Dataset"
      ],
      "metadata": {
        "id": "FJSVQFFXrwqo"
      }
    },
    {
      "cell_type": "code",
      "source": [
        "url = \"https://www.gutenberg.org/files/100/100-0.txt\"\n",
        "  \n",
        "r = requests.get(url, stream = True)\n",
        "raw_data = ' '.join(re.sub('[^A-Za-z ]+', ' ', r.text).lower().split())"
      ],
      "metadata": {
        "id": "-8Z1UZhF24bW"
      },
      "execution_count": null,
      "outputs": []
    },
    {
      "cell_type": "markdown",
      "source": [
        "## 1. Character Level Tokenizer"
      ],
      "metadata": {
        "id": "AxbYJ3Ylssgt"
      }
    },
    {
      "cell_type": "code",
      "source": [
        "class Tokenizer(object):\n",
        "    def __init__(self, \n",
        "                 pad_token=\"<PAD>\",\n",
        "                 oov_token=\"<UNK>\",\n",
        "                 token_to_index=None\n",
        "                 ):\n",
        "        self.pad_token = pad_token\n",
        "        self.oov_token = oov_token\n",
        "        if not token_to_index:\n",
        "            token_to_index = {pad_token: 0, oov_token: 1}\n",
        "        self.n_tokens = 2\n",
        "        self.token_to_index = token_to_index\n",
        "        self.index_to_token = {v: k for k, v in self.token_to_index.items()}\n",
        "\n",
        "    def __len__(self):\n",
        "        return len(self.token_to_index)\n",
        "\n",
        "    def __str__(self):\n",
        "        return f\"<Tokenizer(num_tokens={len(self)})>\"\n",
        "\n",
        "    def fit(self, texts):\n",
        "        all_tokens = set(texts)\n",
        "        for token in all_tokens:\n",
        "            self.token_to_index[token] = self.n_tokens\n",
        "            self.index_to_token[self.n_tokens] = token\n",
        "            self.n_tokens += 1\n",
        "    \n",
        "    def max_pad_sequences(self, sequences):\n",
        "        \"\"\"\n",
        "        Pad sequences to the longest length in batch.\n",
        "        \"\"\"\n",
        "        max_len = len(max(sequences, key=len))\n",
        "        padded_sequences = np.zeros((len(sequences), max_len))\n",
        "        for i, sequence in enumerate(sequences):\n",
        "            padded_sequences[i][:len(sequence)] = sequence\n",
        "        return padded_sequences\n",
        "\n",
        "    def encode(self, texts):\n",
        "        sequences = []\n",
        "        for text in texts:\n",
        "            sequence = []\n",
        "            for token in text:\n",
        "                \n",
        "                sequence.append(self.token_to_index.get(\n",
        "                    token.lower(), self.token_to_index[self.oov_token]))\n",
        "            sequences.append(np.asarray(sequence))\n",
        "        padded_seqs = self.max_pad_sequences(sequences)\n",
        "        return torch.LongTensor(np.array(padded_seqs))\n",
        "\n",
        "    def decode(self, sequences):\n",
        "        texts = []\n",
        "        for sequence in sequences.cpu().numpy():\n",
        "            text = []\n",
        "            for index in sequence:\n",
        "                text.append(self.index_to_token.get(index, self.oov_token))\n",
        "            texts.append(\"\".join([token for token in text]))\n",
        "        return texts"
      ],
      "metadata": {
        "id": "T0Zp4XQgwexT"
      },
      "execution_count": 3,
      "outputs": []
    },
    {
      "cell_type": "code",
      "source": [
        "tokenizer = Tokenizer()\n",
        "tokenizer.fit(raw_data)\n",
        "\n",
        "tokenizer.decode(tokenizer.encode(['This is a longer text',\n",
        "                 'Smaller text']))"
      ],
      "metadata": {
        "colab": {
          "base_uri": "https://localhost:8080/"
        },
        "id": "aYiQETj8sx0l",
        "outputId": "a6efe7d3-eb8c-45b2-e6e6-9eddf5a6e688"
      },
      "execution_count": 4,
      "outputs": [
        {
          "output_type": "execute_result",
          "data": {
            "text/plain": [
              "['this is a longer text',\n",
              " 'smaller text<PAD><PAD><PAD><PAD><PAD><PAD><PAD><PAD><PAD>']"
            ]
          },
          "metadata": {},
          "execution_count": 4
        }
      ]
    },
    {
      "cell_type": "code",
      "source": [
        "class Dataset(torch.utils.data.Dataset):\n",
        "    def __init__(self, raw_data, tokenizer, timesteps):\n",
        "        self.data = raw_data\n",
        "        self.tokenizer = tokenizer\n",
        "        self.timesteps = timesteps\n",
        "\n",
        "    def __len__(self):\n",
        "        return len(self.data)\n",
        "\n",
        "    def __str__(self):\n",
        "        return f\"<Dataset(N={len(self)})>\"\n",
        "\n",
        "    def __getitem__(self, index):\n",
        "        X = self.data[index: index + self.timesteps + np.random.randint(0,4)]\n",
        "        return X\n",
        "\n",
        "    def collate_fn(self, batch):\n",
        "        \"\"\"Processing on a batch.\"\"\"\n",
        "        # Get inputs\n",
        "        X = tokenizer.encode(batch) \n",
        "        return X\n",
        "\n",
        "    def create_dataloader(self, batch_size, shuffle=False, drop_last=True):\n",
        "        return torch.utils.data.DataLoader(\n",
        "            dataset=self, batch_size=batch_size, collate_fn=self.collate_fn,\n",
        "            shuffle=shuffle, drop_last=drop_last, pin_memory=True)\n"
      ],
      "metadata": {
        "id": "5Qw_6L0c2Ht3"
      },
      "execution_count": 5,
      "outputs": []
    },
    {
      "cell_type": "code",
      "source": [
        "dset = Dataset(raw_data, tokenizer, 72)\n",
        "dloader = dset.create_dataloader(64, shuffle=True)\n",
        "tokenizer.decode(next(iter(dloader)))"
      ],
      "metadata": {
        "colab": {
          "base_uri": "https://localhost:8080/"
        },
        "id": "P4Vtmp774Kpm",
        "outputId": "339e0129-86d4-49c3-b0fa-58ecbe7d5ac4"
      },
      "execution_count": 6,
      "outputs": [
        {
          "output_type": "execute_result",
          "data": {
            "text/plain": [
              "['r since jupiter our son is good take off his miseries sicilius peep throug<PAD>',\n",
              " ' it goes i writ at random very doubtfully silvia perchance you think too mu',\n",
              " 'hangman i would be glad to receive some instructions from my fellow partne<PAD>',\n",
              " 'se the iron cools warwick i had rather chop this hand off at a blow and wit',\n",
              " 'n she stops his lips and kissing speaks with lustful language broken if t<PAD><PAD>',\n",
              " 'in charge beget your happiness be happy then for it is done king richard bu',\n",
              " 'er spring this carry tale dissentious jealousy that sometime true news s<PAD><PAD><PAD>',\n",
              " 'illa ascii or other format used in the official version posted on the of<PAD><PAD><PAD>',\n",
              " 't you gentlemen i ll compound this strife tis deeds must win the prize and ',\n",
              " 'e come take it up second servant pray heaven it be not full of knight agai<PAD>',\n",
              " 'oth teach us all to render the deeds of mercy i have spoke thus much to mi<PAD>',\n",
              " 'hers death enter a messenger a fearful eye thou hast where is that blood<PAD><PAD><PAD>',\n",
              " ' a body with a dangerous physic that s sure of death without it at once pl<PAD>',\n",
              " 'shall i honour thee for this success thy promises are like adonis gardens<PAD><PAD>',\n",
              " ' with lack lustre eye says very wisely it is ten o clock thus we may see q<PAD>',\n",
              " 'e will draw his lips rich treasure dry and having felt the sweetness of th<PAD>',\n",
              " 've beheld i could not but believe she excelled many but i have not seen t<PAD><PAD>',\n",
              " 'aid if she be in love may sigh it off send after the duke and appeal to him',\n",
              " 'ert might have eat his part in me upon good friday and ne er broke his fa<PAD><PAD>',\n",
              " 'and so will i in england work your grace s full content queen margaret bes<PAD>',\n",
              " 'inkle on my sovereign s face i am the last of noble edward s sons of whom <PAD>',\n",
              " ' subject enter buckingham and old clifford buckingham health and glad tid<PAD><PAD>',\n",
              " 'ere i ll rob none but myself and let me die stealing so poorly guiderius <PAD><PAD>',\n",
              " 'and graceless traitor to her loving lord i am asham d that women are so s<PAD><PAD>',\n",
              " 'derer love him murdered the guilt of conscience take thou for thy labour <PAD><PAD>',\n",
              " 'ond murderer faith some certain dregs of conscience are yet within me first',\n",
              " 'uth in this bertram but i con him no thanks for t in the nature he delivers',\n",
              " 'nd undo a great deal of honour servilius now before the gods i am not abl<PAD><PAD>',\n",
              " 't i requited him for his lie and i think being too strong for him though h<PAD>',\n",
              " 'ld be wisely definite nor i th appetite sluttery to such neat excellence o<PAD>',\n",
              " 'otland malcolm his son donalbain his son macbeth general in the king s army',\n",
              " ' glittering gold the yearly course that brings this day about shall never<PAD><PAD>',\n",
              " 'nds but such as are his friends and none your foes but such as shall preten',\n",
              " 'ood i would remove these tedious stumbling blocks and smooth my way upon t<PAD>',\n",
              " ' falstaff my lord the man i know prince i know thou dost falstaff but to<PAD><PAD><PAD>',\n",
              " ' them and the impediment most profitably removed without the which there w<PAD>',\n",
              " 'vice gentlemen good night florish the winter s tale contents act i scene i<PAD>',\n",
              " 'ip i will feed fat the ancient grudge i bear him he hates our sacred nation',\n",
              " 'e hath put himself from rest and must needs taste his folly regan for hi<PAD><PAD><PAD>',\n",
              " 'ce it will not be accepted on my life the douglas and the hotspur both toge',\n",
              " 'such losers may have leave to speak buckingham he ll wrest the sense and ho',\n",
              " 'ger what says lord stanley will he bring his power messenger my lord he do<PAD>',\n",
              " 'rates and galen and he is a knave besides a cowardly knave as you would de<PAD>',\n",
              " 'utio no tis not so deep as a well nor so wide as a church door but tis enou',\n",
              " 've thee richard claim the english crown warwick leads york to the throne<PAD><PAD><PAD>',\n",
              " ' toby come on sir hold sir andrew nay let him alone i ll go another way to ',\n",
              " 'ave been but that my master rather play d than fought and had no help of a<PAD>',\n",
              " ' somerset well i ll find friends to wear my bleeding roses that shall mai<PAD><PAD>',\n",
              " ' is hath for your love as great a pang of heart as you have for olivia you ',\n",
              " 'of nothing but despair one day too late i fear me noble lord hath clouded <PAD>',\n",
              " 'bestow yourself this royal hand and mine are newly knit and the conjunct<PAD><PAD><PAD>',\n",
              " 'd it not it then draws near the season wherein the spirit held his wont t<PAD><PAD>',\n",
              " ' fraught with curious business that i leave out ceremony camillo sir i t<PAD><PAD><PAD>',\n",
              " 'he wrong side out and never gives to truth and virtue that which simpleness',\n",
              " 'erry song come it grows late we ll to bed thou lt forget me when i am gone<PAD>',\n",
              " 'ion turn my trust and hope an anchor s cheer in prison be my scope each op<PAD>',\n",
              " 's signal that thou hear st something approach give me those flowers do as i',\n",
              " ' is too nigh your person heaven preserve you i dare abide no longer exit la',\n",
              " 'w madam i was thinking with what manners i might safely be admitted counte<PAD>',\n",
              " 'tidings exit simple host thou art clerkly thou art clerkly sir john was the',\n",
              " 'anches by the destinies cut but thomas my dear lord my life my gloucester <PAD>',\n",
              " 'llo and iago iago will you think so othello think so iago iago what to kis<PAD>',\n",
              " ' heirs of york do pray for thee good angels guard thy battle live and flo<PAD><PAD>',\n",
              " ' rot off timon i will not kiss thee then the rot returns to thine own lips ']"
            ]
          },
          "metadata": {},
          "execution_count": 6
        }
      ]
    },
    {
      "cell_type": "markdown",
      "source": [
        "## 2. Vanilla RNN"
      ],
      "metadata": {
        "id": "dyRHgLOfsykP"
      }
    },
    {
      "cell_type": "code",
      "source": [
        "class RNNcell(nn.Module):\n",
        "    \"\"\"\n",
        "    Implement the Vanilla RNN cell from \"scratch\".\n",
        "    s/o to Torch community for handling the \n",
        "    heavy lifting.\n",
        "    \"\"\"\n",
        "    def __init__(self, input_dim, hidden_dim, sigma=.01):\n",
        "        super(RNNcell, self).__init__()\n",
        "        # Save H-params\n",
        "        self.input_dim = input_dim\n",
        "        self.hidden_dim = hidden_dim\n",
        "        self.sigma = sigma\n",
        "        # Initialize Net Parameters\n",
        "        self.W_xh = self.weight_init(input_dim, hidden_dim)\n",
        "        self.W_hh = self.weight_init(hidden_dim, hidden_dim)\n",
        "        self.b_h = self.bias_init() \n",
        "    \n",
        "    # Initialize weight\n",
        "    def weight_init(self, *shape):\n",
        "        return nn.Parameter(torch.randn(shape)*self.sigma)\n",
        "    \n",
        "    # Initialize bias\n",
        "    def bias_init(self):\n",
        "        return nn.Parameter(torch.zeros(self.hidden_dim))\n",
        "    \n",
        "    # Define the forward pass for a single timestep\n",
        "    def forward(self, x_t, h_t):\n",
        "        h_t = torch.tanh(torch.matmul(x_t, self.W_xh)\n",
        "                                  + torch.matmul(h_t, self.W_hh)\n",
        "                                  + self.b_h)\n",
        "                \n",
        "        return h_t"
      ],
      "metadata": {
        "id": "PpJlxAmZihnX"
      },
      "execution_count": 7,
      "outputs": []
    },
    {
      "cell_type": "code",
      "source": [
        "class LanguageModel(nn.Module):\n",
        "    def __init__(self, input_dim, hidden_dim, output_dim, model, m_layers):\n",
        "        # Save hyperparams\n",
        "        super(LanguageModel, self).__init__()\n",
        "        self.input_dim = input_dim\n",
        "        self.hidden_dim = hidden_dim\n",
        "        self.output_dim = output_dim\n",
        "        self.m_layers = m_layers\n",
        "        # Set up nework flow       \n",
        "        self.emb = nn.Embedding(input_dim, hidden_dim, padding_idx=0)\n",
        "        self.layers = [model(hidden_dim, hidden_dim)]*m_layers\n",
        "        self.fc = nn.Linear(hidden_dim, output_dim)\n",
        "        \n",
        "     \n",
        "    def forward(self, x_t, h_t=None):\n",
        "        \"\"\"\n",
        "        On the forward pass, compute the pass of one timestep\n",
        "        with the hidden states accumulating the info from prev steps\n",
        "        \"\"\"\n",
        "        # Initialize for the first token\n",
        "        if h_t is None:\n",
        "            hiddens = [torch.zeros((x_t.shape[0], self.hidden_dim))]*self.m_layers\n",
        "        else:\n",
        "            hiddens = h_t\n",
        "        # First embed the inputs with shape (bsz, hidden_dim)\n",
        "        inp = self.emb(x_t) \n",
        "        # Pass it through the RNN\n",
        "        for i, layer in enumerate(self.layers):\n",
        "            # Pass it through the hidden layer and update\n",
        "            hiddens[i] = layer(inp, hiddens[i])\n",
        "            # Update the input to the next layer as this hidden state\n",
        "            inp = hiddens[i]    \n",
        "\n",
        "        o_t = self.fc(inp)\n",
        "        return o_t, hiddens\n",
        "            "
      ],
      "metadata": {
        "id": "S0AxgEfXRq1t"
      },
      "execution_count": 21,
      "outputs": []
    },
    {
      "cell_type": "code",
      "source": [
        "lm = LanguageModel(tokenizer.n_tokens, 32, tokenizer.n_tokens, RNNcell, 2)\n",
        "sample = next(iter(dloader))\n",
        "rearr = rearrange(sample, 'bsz timesteps -> timesteps bsz ')\n",
        "ot, ht = lm(rearr[0])\n",
        "lm(rearr[1], ht)"
      ],
      "metadata": {
        "colab": {
          "base_uri": "https://localhost:8080/"
        },
        "id": "2E1XUYUJqf5v",
        "outputId": "ab1c2f5e-4bfd-4ab5-8feb-6c209f6b918d"
      },
      "execution_count": 37,
      "outputs": [
        {
          "output_type": "execute_result",
          "data": {
            "text/plain": [
              "(tensor([[-0.1538, -0.0206,  0.1654,  ...,  0.1515,  0.0057,  0.1145],\n",
              "         [-0.1572, -0.0189,  0.1631,  ...,  0.1528,  0.0066,  0.1140],\n",
              "         [-0.1569, -0.0198,  0.1642,  ...,  0.1526,  0.0073,  0.1132],\n",
              "         ...,\n",
              "         [-0.1533, -0.0211,  0.1646,  ...,  0.1510,  0.0066,  0.1140],\n",
              "         [-0.1557, -0.0193,  0.1641,  ...,  0.1537,  0.0078,  0.1136],\n",
              "         [-0.1538, -0.0211,  0.1646,  ...,  0.1511,  0.0066,  0.1140]],\n",
              "        grad_fn=<AddmmBackward0>),\n",
              " [tensor([[ 0.0179,  0.0370,  0.0968,  ...,  0.0176,  0.0292,  0.0124],\n",
              "          [ 0.0492, -0.0394,  0.0952,  ...,  0.0160, -0.0288, -0.0079],\n",
              "          [ 0.0747,  0.1232,  0.1251,  ..., -0.0147, -0.0520,  0.0125],\n",
              "          ...,\n",
              "          [ 0.0507,  0.0124,  0.1101,  ..., -0.0752, -0.0204,  0.0151],\n",
              "          [-0.0549,  0.0768, -0.0019,  ..., -0.0790, -0.1190, -0.0329],\n",
              "          [ 0.0520,  0.0106,  0.1100,  ..., -0.0760, -0.0245,  0.0117]],\n",
              "         grad_fn=<TanhBackward0>),\n",
              "  tensor([[ 0.0009,  0.0012, -0.0076,  ..., -0.0013,  0.0026, -0.0011],\n",
              "          [-0.0012,  0.0004,  0.0008,  ..., -0.0004,  0.0036,  0.0036],\n",
              "          [-0.0012, -0.0016, -0.0053,  ..., -0.0032,  0.0039,  0.0011],\n",
              "          ...,\n",
              "          [-0.0045,  0.0037,  0.0022,  ..., -0.0029, -0.0029, -0.0017],\n",
              "          [ 0.0021,  0.0031, -0.0003,  ..., -0.0042, -0.0021, -0.0005],\n",
              "          [-0.0037,  0.0034,  0.0016,  ..., -0.0026, -0.0025, -0.0018]],\n",
              "         grad_fn=<TanhBackward0>)])"
            ]
          },
          "metadata": {},
          "execution_count": 37
        }
      ]
    },
    {
      "cell_type": "code",
      "source": [
        "class Trainer(object):\n",
        "    def __init__(self, model, dataset, bsz, criterion=None, optimizer=None, scheduler=None):\n",
        "        # Set params\n",
        "        #self.device = torch.device(\"cuda\" if torch.cuda.is_available() else \"cpu\")\n",
        "        self.model = model\n",
        "        self.batch_size = bsz\n",
        "        self.criterion = criterion\n",
        "        self.optimizer = optimizer\n",
        "        self.scheduler = scheduler\n",
        "        self.dataloader = dataset.create_dataloader(bsz, shuffle=True)\n",
        "        self.tokenizer = dataset.tokenizer\n",
        "\n",
        "    def train_step(self):\n",
        "        \"\"\"Train step.\"\"\"\n",
        "        # Set model to train mode\n",
        "        self.model.train()\n",
        "        \n",
        "        loss = 0.0                          # Batch Loss\n",
        "        batch = next(iter(self.dataloader))    \n",
        "        # Rearrange to get (timesteps, bsz)\n",
        "        rbatch = rearrange(batch, 'bsz timesteps -> timesteps bsz')\n",
        "        inputs, targets = rbatch[:-1], rbatch[1:]\n",
        "        self.optimizer.zero_grad()\n",
        "        # Initialize hidden\n",
        "        hidden = None\n",
        "        for t in range(len(rbatch)-1):\n",
        "            out, hidden =  self.model(inputs[t], hidden)\n",
        "            loss += self.criterion(out, targets[t])\n",
        "        \n",
        "        loss.backward()  # Backward pass\n",
        "        self.optimizer.step()  # Update weights\n",
        "\n",
        "        return loss.detach().item()/len(batch)\n",
        "\n",
        "    def train_iters(self, num_iters, log_every=10):\n",
        "        batch_loss = []\n",
        "        \n",
        "        for iter in range(num_iters):\n",
        "            \n",
        "            # Steps\n",
        "            train_loss = self.train_step()\n",
        "            #self.scheduler.step()\n",
        "            batch_loss += [train_loss]\n",
        "\n",
        "            if (iter + 1) % log_every == 0: \n",
        "                # Logging\n",
        "                print(\n",
        "                    f\"Iteration: {iter+1} | \"\n",
        "                    f\"train_loss: {train_loss:.5f}, \"\n",
        "                    f\"lr: {self.optimizer.param_groups[0]['lr']:.2E}, \"\n",
        "                    f\"Sampled Output:{self.evaluate()}\"\n",
        "                )\n",
        "\n",
        "        return self.model, batch_loss\n",
        "\n",
        "    def evaluate(self, seed_sequence='Thou', output_length=25):\n",
        "        warmup = self.tokenizer.encode(seed_sequence)\n",
        "        # Start the output with the seed sequence\n",
        "        output = seed_sequence\n",
        "        #hidden = [torch.zeros((self.batch_size, self.hidden_dim))]*self.model.m_layers\n",
        "        hidden = None\n",
        "        # Warmup the RNN hidden states with the priming\n",
        "        for p in range(len(seed_sequence) - 1):\n",
        "            _, hidden = self.model(warmup[p], hidden)\n",
        "\n",
        "        # Start the from end of warmup sequence\n",
        "        inp = warmup[-1]\n",
        "\n",
        "        for t in range(output_length):\n",
        "            o_t, hidden = self.model(inp, hidden)\n",
        "            idx = torch.argmax(o_t, dim=1).unsqueeze(0)\n",
        "            char = tokenizer.decode(idx)[0]\n",
        "            output += char\n",
        "            inp = tokenizer.encode(char)[0]\n",
        "        return output"
      ],
      "metadata": {
        "id": "urQvQubOs75Q"
      },
      "execution_count": 83,
      "outputs": []
    },
    {
      "cell_type": "code",
      "source": [
        "optimizer = Adam(lm.parameters(), lr=1e-3)\n",
        "criterion = nn.CrossEntropyLoss()\n",
        "# scheduler = torch.optim.lr_scheduler.CyclicLR(optimizer, base_lr=1e-5, max_lr=1e-3)"
      ],
      "metadata": {
        "id": "wtQreD-mEOUx"
      },
      "execution_count": 84,
      "outputs": []
    },
    {
      "cell_type": "code",
      "source": [
        "tr = Trainer(lm, dset, 64, criterion, optimizer)"
      ],
      "metadata": {
        "id": "HgfEj1a9ZrXF"
      },
      "execution_count": 85,
      "outputs": []
    },
    {
      "cell_type": "code",
      "source": [
        "opt_rnn, b_loss = tr.train_iters(1000, log_every=100)"
      ],
      "metadata": {
        "colab": {
          "base_uri": "https://localhost:8080/"
        },
        "id": "lPtR8uOxaXBV",
        "outputId": "3e0d75e7-fb1d-42d4-df2b-5ebfa835c82f"
      },
      "execution_count": 86,
      "outputs": [
        {
          "output_type": "stream",
          "name": "stdout",
          "text": [
            "Iteration: 100 | train_loss: 3.79043, lr: 1.00E-03, Sampled Output:Thoutttttttttttttttttttttttttttttttttttttttttttttttttttttttttttttttttttttttttttttttttttttttttttttttttttt\n",
            "Iteration: 200 | train_loss: 3.70923, lr: 1.00E-03, Sampled Output:Thoutttttttttttttttttttttttttttttttttttttttttttttttttttttttttttttttttttttttttttttttttttttttttttttttttttt\n",
            "Iteration: 300 | train_loss: 3.64242, lr: 1.00E-03, Sampled Output:Thou ttttttttttttttttttttttttttttttttttttttttttttttttttttttttttttttttttttttttttttttttttttttttttttttttttt\n",
            "Iteration: 400 | train_loss: 3.58219, lr: 1.00E-03, Sampled Output:Thou                                                                                                    \n",
            "Iteration: 500 | train_loss: 3.53897, lr: 1.00E-03, Sampled Output:Thou                                                                                                    \n",
            "Iteration: 600 | train_loss: 3.48120, lr: 1.00E-03, Sampled Output:Thou                                                                                                    \n",
            "Iteration: 700 | train_loss: 3.44052, lr: 1.00E-03, Sampled Output:Thou                                                                                                    \n",
            "Iteration: 800 | train_loss: 3.40069, lr: 1.00E-03, Sampled Output:Thou                                                                                                    \n",
            "Iteration: 900 | train_loss: 3.35743, lr: 1.00E-03, Sampled Output:Thou                                                                                                    \n",
            "Iteration: 1000 | train_loss: 3.33469, lr: 1.00E-03, Sampled Output:Thou                                                                                                    \n"
          ]
        }
      ]
    },
    {
      "cell_type": "code",
      "source": [
        "plt.plot(b_loss)\n",
        "plt.ylabel('Cross Entropy Loss')\n",
        "plt.xlabel('Iterations')\n",
        "plt.title('Vanilla RNN Training Curve')\n",
        "plt.show()"
      ],
      "metadata": {
        "colab": {
          "base_uri": "https://localhost:8080/",
          "height": 295
        },
        "id": "ljH99xdx2f6C",
        "outputId": "d4fc6882-db04-44ea-84a7-e56c7ba55f93"
      },
      "execution_count": 87,
      "outputs": [
        {
          "output_type": "display_data",
          "data": {
            "text/plain": [
              "<Figure size 432x288 with 1 Axes>"
            ],
            "image/png": "[encoded data removed]"
          },
          "metadata": {
            "needs_background": "light"
          }
        }
      ]
    },
    {
      "cell_type": "code",
      "source": [
        "tr.evaluate(seed_sequence=\"On a dark and mysterious\", output_length=200)"
      ],
      "metadata": {
        "colab": {
          "base_uri": "https://localhost:8080/",
          "height": 53
        },
        "id": "ksgLdlXu323H",
        "outputId": "81cfc069-93fc-46d1-9c24-cfc42f028748"
      },
      "execution_count": 88,
      "outputs": [
        {
          "output_type": "execute_result",
          "data": {
            "text/plain": [
              "'On a dark an mysterious                                                                                                                                                                                                        '"
            ],
            "application/vnd.google.colaboratory.intrinsic+json": {
              "type": "string"
            }
          },
          "metadata": {},
          "execution_count": 88
        }
      ]
    },
    {
      "cell_type": "markdown",
      "source": [
        "## 3. GRU RNN"
      ],
      "metadata": {
        "id": "0Rjwbzc-tpti"
      }
    },
    {
      "cell_type": "code",
      "source": [
        "class GRUcell(nn.Module):\n",
        "    \"\"\"\n",
        "    Implement the GRU cell from \"scratch\".\n",
        "    s/o to Torch community for handling the \n",
        "    heavy lifting.\n",
        "    \"\"\"\n",
        "    def __init__(self, input_dim, hidden_dim, sigma=.01):\n",
        "        super(GRUcell, self).__init__()\n",
        "        # Save H-params\n",
        "        self.input_dim = input_dim\n",
        "        self.hidden_dim = hidden_dim\n",
        "        self.sigma = sigma\n",
        "        # Initialize Net Parameters\n",
        "        self.W_xr, self.W_hr, self.b_r = self.gate_init()\n",
        "        self.W_xz, self.W_hz, self.b_z = self.gate_init()\n",
        "        self.W_xh, self.W_hh, self.b_h = self.gate_init()\n",
        "        \n",
        "    def gate_init(self):\n",
        "        gate_params =  (self.weight_init(self.input_dim, self.hidden_dim),\n",
        "                self.weight_init(self.hidden_dim, self.hidden_dim),\n",
        "                self.bias_init())\n",
        "        return gate_params\n",
        "    \n",
        "    def weight_init(self, *shape):\n",
        "        return nn.Parameter(torch.randn(shape)*self.sigma)\n",
        "    \n",
        "    def bias_init(self):\n",
        "        return nn.Parameter(torch.zeros(self.hidden_dim))\n",
        "    \n",
        "    def init_hidden(self):\n",
        "        return (torch.zeros(self.hidden_dim), torch.zeros(self.hidden_dim))\n",
        "    \n",
        "    def forward(self, x_t, h_t):\n",
        "        \n",
        "        reset_gate = torch.sigmoid(torch.matmul(x_t, self.W_xr)\n",
        "                                  + torch.matmul(h_t, self.W_hr)\n",
        "                                  + self.b_r)\n",
        "        update_gate = torch.sigmoid(torch.matmul(x_t, self.W_xz)\n",
        "                                  + torch.matmul(h_t, self.W_hz)\n",
        "                                  + self.b_z)\n",
        "        candidate_h = torch.tanh(torch.matmul(x_t, self.W_xh)\n",
        "                                  + torch.matmul((update_gate * h_t), self.W_hh)\n",
        "                                  + self.b_h)\n",
        "        \n",
        "        h_t = update_gate * h_t + (1-update_gate) * candidate_h\n",
        "        \n",
        "        return h_t"
      ],
      "metadata": {
        "id": "gEhyyddFtpAc"
      },
      "execution_count": 36,
      "outputs": []
    },
    {
      "cell_type": "code",
      "source": [
        "lm2 = LanguageModel(tokenizer.n_tokens, 32, tokenizer.n_tokens, GRUcell, 1)\n",
        "sample = next(iter(dloader))\n",
        "rearr = rearrange(sample, 'bsz timesteps -> timesteps bsz ')\n",
        "ot, ht = lm(rearr[0])\n",
        "lm(rearr[1], ht)"
      ],
      "metadata": {
        "colab": {
          "base_uri": "https://localhost:8080/"
        },
        "id": "fNrgaUGv3RsN",
        "outputId": "5092179e-94dd-4b50-d15c-3dc6698830a5"
      },
      "execution_count": 55,
      "outputs": [
        {
          "output_type": "execute_result",
          "data": {
            "text/plain": [
              "(tensor([[-0.1563, -0.0209,  0.1632,  ...,  0.1511,  0.0077,  0.1121],\n",
              "         [-0.1533, -0.0211,  0.1645,  ...,  0.1511,  0.0065,  0.1140],\n",
              "         [-0.1533, -0.0211,  0.1645,  ...,  0.1511,  0.0065,  0.1140],\n",
              "         ...,\n",
              "         [-0.1573, -0.0229,  0.1630,  ...,  0.1509,  0.0034,  0.1163],\n",
              "         [-0.1555, -0.0223,  0.1647,  ...,  0.1542,  0.0083,  0.1129],\n",
              "         [-0.1565, -0.0213,  0.1632,  ...,  0.1510,  0.0077,  0.1123]],\n",
              "        grad_fn=<AddmmBackward0>),\n",
              " [tensor([[ 0.0405,  0.0391, -0.0526,  ..., -0.0241,  0.0223,  0.0381],\n",
              "          [ 0.0486,  0.0099,  0.1132,  ..., -0.0733, -0.0244,  0.0126],\n",
              "          [ 0.0486,  0.0099,  0.1132,  ..., -0.0733, -0.0244,  0.0126],\n",
              "          ...,\n",
              "          [-0.0024, -0.0765,  0.0086,  ...,  0.0293,  0.0365,  0.0457],\n",
              "          [-0.0538, -0.0083, -0.0453,  ...,  0.0199, -0.0565,  0.0581],\n",
              "          [ 0.0355,  0.0358, -0.0456,  ..., -0.0289,  0.0209,  0.0434]],\n",
              "         grad_fn=<TanhBackward0>),\n",
              "  tensor([[-0.0027, -0.0048, -0.0017,  ...,  0.0007,  0.0035,  0.0011],\n",
              "          [-0.0043,  0.0040,  0.0025,  ..., -0.0026, -0.0023, -0.0017],\n",
              "          [-0.0043,  0.0040,  0.0025,  ..., -0.0026, -0.0023, -0.0017],\n",
              "          ...,\n",
              "          [ 0.0053, -0.0063, -0.0070,  ..., -0.0035,  0.0024, -0.0012],\n",
              "          [ 0.0035,  0.0008,  0.0010,  ...,  0.0002,  0.0017, -0.0009],\n",
              "          [-0.0025, -0.0053, -0.0017,  ...,  0.0010,  0.0035,  0.0013]],\n",
              "         grad_fn=<TanhBackward0>)])"
            ]
          },
          "metadata": {},
          "execution_count": 55
        }
      ]
    },
    {
      "cell_type": "code",
      "source": [
        "gru_optimizer = Adam(lm2.parameters(), lr=1e-3)\n",
        "gru_criterion = nn.CrossEntropyLoss()\n",
        "# scheduler = torch.optim.lr_scheduler.CyclicLR(optimizer, base_lr=1e-5, max_lr=1e-3)"
      ],
      "metadata": {
        "id": "pPiqDykq3wBt"
      },
      "execution_count": 71,
      "outputs": []
    },
    {
      "cell_type": "code",
      "source": [
        "gru_trainer = Trainer(lm2, dset, 64, gru_criterion, gru_optimizer)"
      ],
      "metadata": {
        "id": "pwFuH4OL4WlP"
      },
      "execution_count": 72,
      "outputs": []
    },
    {
      "cell_type": "code",
      "source": [
        "opt_gru, gru_loss = gru_trainer.train_iters(100, log_every=10)"
      ],
      "metadata": {
        "colab": {
          "base_uri": "https://localhost:8080/"
        },
        "id": "vlAqOh0h4r-s",
        "outputId": "d61f1430-5e1c-49d0-aa75-3b11ce93ff13"
      },
      "execution_count": 73,
      "outputs": [
        {
          "output_type": "stream",
          "name": "stdout",
          "text": [
            "Iteration: 10 | train_loss: 3.86294, lr: 1.00E-03, \n",
            "Iteration: 20 | train_loss: 3.85018, lr: 1.00E-03, \n",
            "Iteration: 30 | train_loss: 3.83724, lr: 1.00E-03, \n",
            "Iteration: 40 | train_loss: 3.82540, lr: 1.00E-03, \n",
            "Iteration: 50 | train_loss: 3.80931, lr: 1.00E-03, \n",
            "Iteration: 60 | train_loss: 3.80024, lr: 1.00E-03, \n",
            "Iteration: 70 | train_loss: 3.78336, lr: 1.00E-03, \n",
            "Iteration: 80 | train_loss: 3.76947, lr: 1.00E-03, \n",
            "Iteration: 90 | train_loss: 3.75428, lr: 1.00E-03, \n",
            "Iteration: 100 | train_loss: 3.73905, lr: 1.00E-03, \n"
          ]
        }
      ]
    },
    {
      "cell_type": "code",
      "source": [
        "plt.plot(gru_loss)\n",
        "plt.ylabel('Cross Entropy Loss')\n",
        "plt.xlabel('Iterations')\n",
        "plt.title('GRU Training Curve')\n",
        "plt.show()"
      ],
      "metadata": {
        "colab": {
          "base_uri": "https://localhost:8080/",
          "height": 295
        },
        "id": "sd28Hw124xBi",
        "outputId": "01bd25c1-282e-4b21-fb8e-8eb8dd8c812a"
      },
      "execution_count": 74,
      "outputs": [
        {
          "output_type": "display_data",
          "data": {
            "text/plain": [
              "<Figure size 432x288 with 1 Axes>"
            ],
            "image/png": "[encoded data removed]"
          },
          "metadata": {
            "needs_background": "light"
          }
        }
      ]
    },
    {
      "cell_type": "code",
      "source": [
        "gru_trainer.evaluate(seed_sequence=\"On a dark an mysterious\", output_length=200)"
      ],
      "metadata": {
        "colab": {
          "base_uri": "https://localhost:8080/",
          "height": 53
        },
        "id": "Q1GmEXRv42Om",
        "outputId": "fd862eeb-33ac-4d75-b478-0adb599bb4d6"
      },
      "execution_count": 75,
      "outputs": [
        {
          "output_type": "execute_result",
          "data": {
            "text/plain": [
              "'On a dark an mysterious iiiiiiiiiiiiiiiiiiiiiiiiiiiiiiiiiiiiiiiiiiiiiiiiiiiiiiiiiiiiiiiiiiiiiiiiiiiiiiiiiiiiiiiiiiiiiiiiiiiiiiiiiiiiiiiiiiiiiiiiiiiiiiiiiiiiiiiiiiiiiiiiiiiiiiiiiiiiiiiiiiiiiiiiiiiiiiiiiiiiiiiiiiiiiiiiiiiiiii'"
            ],
            "application/vnd.google.colaboratory.intrinsic+json": {
              "type": "string"
            }
          },
          "metadata": {},
          "execution_count": 75
        }
      ]
    },
    {
      "cell_type": "markdown",
      "source": [
        "## 4. Truncated Dataset"
      ],
      "metadata": {
        "id": "nXvzxoC2txeZ"
      }
    },
    {
      "cell_type": "code",
      "source": [
        "url2 = \"http://web.textfiles.com/politics/disneyte.txt\"\n",
        "  \n",
        "r = requests.get(url2, stream = False)\n",
        "wd_data = ' '.join(re.sub('[^A-Za-z ]+', ' ', r.text).lower().split())"
      ],
      "metadata": {
        "id": "9SPVeQ-o60HV"
      },
      "execution_count": 66,
      "outputs": []
    },
    {
      "cell_type": "code",
      "source": [
        "wd_data"
      ],
      "metadata": {
        "colab": {
          "base_uri": "https://localhost:8080/",
          "height": 157
        },
        "id": "LVVUE0K160Ei",
        "outputId": "668c63dc-4ed4-4980-ec88-a8d11a01a448"
      },
      "execution_count": 67,
      "outputs": [
        {
          "output_type": "execute_result",
          "data": {
            "text/plain": [
              "'newsgroups rec arts disney from tanida seismo css gov tom tanida subject transcript of walt disney s testimony oct k file message id seismo css gov date may gmt lines in light of all the recent hubbub about walt as a spy for the fbi here is a copy of testimony given by walt disney in i downloaded the text from compuserve and the introductory note from uploader is from the cis uploader not myself tom the testimony of walter e disney before the house committee on un american activities october introductory note from uploader please be advised that i am uploading this transcript exactly as it ocr d with some minor reformatting from my source document that document is as was previously mentioned peary peary s anthology the american animated cartoon copyright published by dutton isbn now long out of print i have stripped out peary peary s introductory comments one page of text because their comments are copyrighted whereas the transcript itself is a public document part of the public record and is not capable of being protected by copyright law since my source document for this transcript was not a copy of the original government document but was instead a reprinting of that document s contents i must rely on the pearys affirmation that what is contained herein is the complete original unedited testimony of walter e disney on october if anyone has the time to access the original government documents and can determine that the peary s have edited the original in any way which they swear they have not done i would be extremely interested in hearing about it robert e stripling chief investigator mr disney will you state your full name and present address please walter disney walter e disney los angeles california res when and where were you born mr disney wd chicago illinois december res december wd yes sir res what is your occupation wd well i am a producer of motion picture cartoons res mr chairman the interrogation of mr disney will be done by mr smith the chairman j parnell thomas mr smith h a smith mr disney how long have you been in that business wd since has you have been in hollywood during this time wd i have been in hollywood since has at the present time you own and operate the walt disney studio at burbank california wd well i am one of the owners part owner has how many people are employed there approximately wd at the present time about has and what is the approximate largest number of employees you have had in the studio wd well close to at times has will you tell us a little about the nature of this particular studio the type of pictures you make and approximately how many per year wd well mainly cartoon films we make about twenty short subjects and about two features a year has will you talk just a little louder mr disney wd yes sir has how many did you say wd about twenty short subject cartoons and about two features per year has and some of the characters in the films consist of wd you mean such as mickey mouse and donald duck and snow white and the seven dwarfs and things of that sort has where are these films distributed wd all over the world has in all countries of the world wd well except the russian countries has why aren t they distributed in russia mr disney wd well we can t do business with them has what do you mean by that wd oh well we have sold them some films a good many years ago they bought the three little pigs and used it through russia and they looked at a lot of our pictures and i think they ran a lot of them in russia but then turned them back to us and said they didn t want them they didn t suit their purposes has is the dialogue in these films translated into the various foreign languages wd yes on one film we did ten foreign versions that was snow white and the seven dwarfs has have you ever made any pictures in your studio that contained propaganda and that were propaganda films wd well during the war we did we made quite a few working with different government agencies we did one for the treasury on taxes and i did four anti hitler films and i did one on my own for air power has from those pictures that you made have you any opinion as to whether or not the films can be used effectively to disseminate propaganda wd yes i think they proved that has how do you arrive at that conclusion wd well on the one for the treasury on taxes it was to let the people know that taxes were important in the war effort as they explained to me they had new taxpayers people who had never paid taxes and they explained that it would be impossible to prosecute all those that were delinquent and they wanted to put this story before those people so they would get their taxes in early i made the film and after the film had its run the gallup poll organization polled the public and the findings were that twenty nine percent of the people admitted that had influenced them in getting their taxes in early and giving them a picture of what taxes will do has aside from those pictures you made during the war have you made any other pictures or do you permit pictures to be made at your studio containing propaganda wd no we never have during the war we thought it was a different thing it was the first time we ever allowed anything like that to go in the films we watch so that nothing gets into the films that would be harmful in any way to any group or any country we have large audiences of children and different groups and we try to keep them as free from anything that would offend anybody as possible we work hard to see that nothing of that sort creeps in has do you have any people in your studio at the present time that you believe are communist or fascist employed there wd no at the present time i feel that everybody in my studio is one hundred percent american has have you had at any time in your opinion in the past have you at any time in the past had any communists employed at your studio wd yes in the past i had some people that i definitely feel were communists has as a matter of fact mr disney you experienced a strike at your studio did you not wd yes has and is it your opinion that that strike was instituted by members of the communist party to serve their purposes wd well it proved itself so with time and i definitely feel it was a communist group trying to take over my artists and they did take them over chairman do you say they did take them over wd they did take them over has will you explain that to the committee please wd it came to my attention when a delegation of my boys my artists came to me and told me that mr herbert sorrell has is that herbert k sorrell wd herbert k sorrell was trying to take them over i explained to them that it was none of my concern that i had been cautioned to not even talk with any of my boys on labor they said it was not a matter of labor it was just a matter of them not wanting to go with sorrell and they had heard that i was going to sign with sorrell and they said that they wanted an election to prove that sorrell didn t have the majority and i said that i had a right to demand an election so when sorrell came i demanded an election sorrell wanted me to sign on a bunch of cards that he had there that he claimed were the majority but the other side had claimed the same thing i told mr sorrell that there is only one way for me to go and that was an election and that is what the law had set up the national labor relations board was for that purpose he laughed at me and he said that he would use the labor board as it suited his purposes and that he had been sucker enough to go for that labor board ballot and he had lost some election i can t remember the name of the place by one vote he said it took him two years to get it back he said he would strike that that was his weapon he said i have all of the tools of the trade sharpened that i couldn t stand the ridicule or the smear of a strike i told him that it was a matter of principle with me that i couldn t go on working with my boys feeling that i had sold them down the river to him on his say so and he laughed at me and told me i was naive and foolish he said you can t stand this strike i will smear you and i will make a dust bowl out of your plant chairman what was that wd he said he would make a dust bowl out of my plant if he chose to i told him i would have to go that way sorry that he might be able to do all that but i would have to stand on that the result was that he struck i believed at that time that mr sorrell was a communist because of all the things that i had heard and having seen his name appearing on a number of commie front things when he pulled the strike the first people to smear me and put me on the unfair list were all of the commie front organizations i can t remember them all they change so often but one that is clear in my mind is the league of women shoppers the people s world the daily worker and the pm magazine in new york they smeared me nobody came near to find out what the true facts of the thing were and i even went through the same smear in south america through some commie periodicals in south america and generally throughout the world all of the commie groups began smear campaigns against me and my pictures john mcdowell in what fashion was that smear mr disney what type of smear wd well they distorted everything they lied there was no way you could ever counteract anything that they did they formed picket lines in front of the theaters and well they called my plant a sweatshop and that is not true and anybody in hollywood would prove it otherwise they claimed things that were not true at all and there was no way you could fight it back it was not a labor problem at all because i mean i have never had labor trouble and i think that would be backed up by anybody in hollywood has as a matter of fact you have how many unions operating in your plant chairman excuse me just a minute i would like to ask a question has pardon me chairman in other words mr disney communists out there smeared you because you wouldn t knuckle under wd i wouldn t go along with their way of operating i insisted on it going through the national labor relations board and he told me outright that he used them as it suited his purposes chairman supposing you had given in to him then what would have been the outcome wd well i would never have given in to him because it was a matter of principle with me and i fight for principles my boys have been there have grown up in the business with me and i didn t feel like i could sign them over to anybody they were vulnerable at that time they were not organized it is a new industry chairman go ahead mr smith has how many labor unions approximately do you have operating in your studios at the present time wd well we operate with around thirty five i think we have contacts with thirty has at the time of this strike you didn t have any grievances or labor troubles whatsoever in your plant wd no the only real grievance was between sorrell and the boys within my plant they demanding an election and they never got it has do you recall having had any conversations with mr sorrell relative to communism wd yes i do has will you relate that conversation wd well i didn t pull my punches on how i felt he evidently heard that i had called them all a bunch of communists and i believe they are at the meeting he leaned over and he said you think i am a communist don t you and i told him that all i knew was what i heard and what i had seen and he laughed and said well i used their money to finance my strike of and he said that he had gotten the money through the personal check of some actor but he didn t name the actor i didn t go into it any further i just listened has can you name any other individuals that were active at the time of the strike that you believe in your opinion are communists wd well i feel that there is one artist in my plant that came in there he came in about and he sort of stayed in the background he wasn t too active but he was the real brains of this and i believe he is a communist his name is david hilberman has how is it spelled wd h i l b e r m a n i believe i looked into his record and i found that number that he had no religion and number that he had spent considerable time at the moscow art theatre studying art direction or something has any others mr disney wd well i think sorrell is sure tied up with them if he isn t a communist he sure should be one has do you remember the name of william pomerance did he have anything to do with it wd yes sir he came in later sorrell put him in charge as business manager of cartoonists and later he went to the screen actors as their business agent and in turn he put in another man by the name of maurice howard the present business agent and they are all tied up with the same outfit has what is your opinion of mr pomerance and mr howard as to whether or not they are or are not communists wd in my opinion they are communists no one has any way of proving those things has were you able to produce during the strike wd yes i did because there was a very few very small majority that was on the outside and all the other unions ignored all the lines because of the setup of the thing has what is your personal opinion of the communist party mr disney as to whether or not it is a political party wd well i don t believe it is a political party i believe it is an un american thing the thing that i resent the most is that they are able to get into these unions take them over and represent to the world that a group of people that are in my plant that i know are good one hundred percent americans are trapped by this group and they are represented to the world as supporting all of those ideologies and it is not so and i feel that they really ought to be smoked out and shown up for what they are so that all of the good free causes in this country all the liberalisms that really are american can go out without the taint of communism that is my sincere feeling on it has do you feel that there is a threat of communism in the motion picture industry wd yes there is and there are many reasons why they would like to take it over or get in and control it or disrupt it but i don t think they have gotten very far and i think the industry is made up of good americans just like in my plant good solid americans my boys have been fighting it longer than i have they are trying to get out from under it and they will in time if we can just show them up has there are presently pending before this committee two bills relative to outlawing the communist party what thoughts have you as to whether or not those bills should be passed wd well i don t know as i qualify to speak on that i feel if the thing can be proven un american that it ought to be outlawed i think in some way it should be done without interfering with the rights of the people i think that will be done i have that faith without interfering i mean with the good american rights that we all have now and we want to preserve has have you any suggestions to offer as to how the industry can be helped in fighting this menace wd well i think there is a good start toward it i know that i have been handicapped out there in fighting it because they have been hiding behind this labor setup they get themselves closely tied up in the labor thing so that if you try to get rid of them they make a labor case out of it we must keep the american labor unions clean we have got to fight for them has that is all of the questions i have mr chairman chairman mr vail r b vail no questions chairman mr mcdowell j mcdowell no questions wd sir jm i have no questions you have been a good witness wd thank you chairman mr disney you are the fourth producer we have had as a witness and each one of those four producers said generally speaking the same thing and that is that the communists have made inroads have attempted inroads i just want to point that out because there seems to be a very strong unanimity among the producers that have testified before us in addition to producers we have had actors and writers testify to the same there is no doubt but what the movies are probably the greatest medium for entertainment in the united states and in the world i think you as a creator of entertainment probably are one of the greatest examples in the profession i want to congratulate you on the form of entertainment which you have given the american people and given the world and congratulate you for taking time out to come here and testify before this committee he has been very helpful do you have any more questions mr stripling has i am sure he does not have any more mr chairman res no i have no more questions chairman thank you very much mr disney'"
            ],
            "application/vnd.google.colaboratory.intrinsic+json": {
              "type": "string"
            }
          },
          "metadata": {},
          "execution_count": 67
        }
      ]
    },
    {
      "cell_type": "code",
      "source": [
        "wd_dset = Dataset(wd_data, tokenizer, 72)\n",
        "wd_dloader = dset.create_dataloader(64, shuffle=True)"
      ],
      "metadata": {
        "id": "NYhEOnjn6z98"
      },
      "execution_count": 76,
      "outputs": []
    },
    {
      "cell_type": "code",
      "source": [
        "wd_lm = LanguageModel(tokenizer.n_tokens, 32, tokenizer.n_tokens, RNNcell, 2)\n",
        "wd_optimizer = Adam(wd_lm.parameters(), lr=1e-3)\n",
        "wd_criterion = nn.CrossEntropyLoss()"
      ],
      "metadata": {
        "id": "OdYA76uT83XT"
      },
      "execution_count": 77,
      "outputs": []
    },
    {
      "cell_type": "code",
      "source": [
        "wd_trainer = Trainer(wd_lm, dset, 64, wd_criterion, wd_optimizer)"
      ],
      "metadata": {
        "id": "odTpwKHb6zz1"
      },
      "execution_count": 78,
      "outputs": []
    },
    {
      "cell_type": "code",
      "source": [
        "opt_wd, wd_loss = wd_trainer.train_iters(100, log_every=10)"
      ],
      "metadata": {
        "colab": {
          "base_uri": "https://localhost:8080/"
        },
        "id": "wSPKHZoi8_Gc",
        "outputId": "d86fa19f-353b-416d-b162-405625736711"
      },
      "execution_count": 79,
      "outputs": [
        {
          "output_type": "stream",
          "name": "stdout",
          "text": [
            "Iteration: 10 | train_loss: 3.89435, lr: 1.00E-03, \n",
            "Iteration: 20 | train_loss: 3.88755, lr: 1.00E-03, \n",
            "Iteration: 30 | train_loss: 3.87989, lr: 1.00E-03, \n",
            "Iteration: 40 | train_loss: 3.86726, lr: 1.00E-03, \n",
            "Iteration: 50 | train_loss: 3.85749, lr: 1.00E-03, \n",
            "Iteration: 60 | train_loss: 3.84965, lr: 1.00E-03, \n",
            "Iteration: 70 | train_loss: 3.84240, lr: 1.00E-03, \n",
            "Iteration: 80 | train_loss: 3.83524, lr: 1.00E-03, \n",
            "Iteration: 90 | train_loss: 3.82507, lr: 1.00E-03, \n",
            "Iteration: 100 | train_loss: 3.81777, lr: 1.00E-03, \n"
          ]
        }
      ]
    },
    {
      "cell_type": "code",
      "source": [
        "plt.plot(wd_loss)\n",
        "plt.ylabel('Cross Entropy Loss')\n",
        "plt.xlabel('Iterations')\n",
        "plt.title('Walt Disney Training Curve')\n",
        "plt.show()"
      ],
      "metadata": {
        "colab": {
          "base_uri": "https://localhost:8080/",
          "height": 295
        },
        "id": "dnwafPr98_ts",
        "outputId": "b4ecde2e-6da6-4eef-c406-0b0637757e7f"
      },
      "execution_count": 80,
      "outputs": [
        {
          "output_type": "display_data",
          "data": {
            "text/plain": [
              "<Figure size 432x288 with 1 Axes>"
            ],
            "image/png": "[encoded data removed]"
          },
          "metadata": {
            "needs_background": "light"
          }
        }
      ]
    },
    {
      "cell_type": "code",
      "source": [
        "wd_trainer.evaluate(seed_sequence=\"On a dark and mysterious\", output_length=100)"
      ],
      "metadata": {
        "colab": {
          "base_uri": "https://localhost:8080/",
          "height": 35
        },
        "id": "YW4SLZ_888Uk",
        "outputId": "f5249696-1865-40ec-d6cd-cb316a9915df"
      },
      "execution_count": 82,
      "outputs": [
        {
          "output_type": "execute_result",
          "data": {
            "text/plain": [
              "'On a dark and mysteriousnnnnnnnnnnnnnnnnnnnnnnnnnnnnnnnnnnnnnnnnnnnnnnnnnnnnnnnnnnnnnnnnnnnnnnnnnnnnnnnnnnnnnnnnnnnnnnnnnnnn'"
            ],
            "application/vnd.google.colaboratory.intrinsic+json": {
              "type": "string"
            }
          },
          "metadata": {},
          "execution_count": 82
        }
      ]
    },
    {
      "cell_type": "markdown",
      "source": [
        "#### Scrap Code"
      ],
      "metadata": {
        "id": "acDulvo361II"
      }
    },
    {
      "cell_type": "code",
      "source": [
        "class GRU(nn.Module):\n",
        "    \"\"\"\n",
        "    Implement a Deep GRU that can take an arbitrary number of GRU cells.\n",
        "    \"\"\"\n",
        "    def __init__(self, input_dim, hidden_dim, m_layers):\n",
        "        super(GRU, self).__init__()\n",
        "        self.input_dim = input_dim\n",
        "        self.hidden_dim = hidden_dim\n",
        "        self.m_layers = m_layers\n",
        "        self.layers = [GRUcell(input_dim, hidden_dim)] + [GRUcell(hidden_dim, hidden_dim)]*(m_layers-1)\n",
        "        \n",
        "        \n",
        "    def forward(self, X):\n",
        "        outs = []\n",
        "        # Initialize the hidden states as a list of tuples\n",
        "        hiddens = [torch.zeros((X.shape[1], self.hidden_dim))]*self.m_layers \n",
        "        \n",
        "        # Perform recurrent pass\n",
        "        for i, x_t in enumerate(X):\n",
        "            for j, layer in enumerate(self.layers):\n",
        "                h_t = layer(x_t, hiddens[j])\n",
        "                # Update the hidden states for that layer @this timestep\n",
        "                hiddens[j] = h_t\n",
        "                # Update the input to the next layer @this timestep\n",
        "                x_t = h_t\n",
        "            # At the end of layer append the hidden state (output)\n",
        "            outs.append(h_t)\n",
        "        return torch.stack(outs, dim=0), h_t"
      ],
      "metadata": {
        "id": "bZUXmYlIhuWH"
      },
      "execution_count": null,
      "outputs": []
    },
    {
      "cell_type": "code",
      "source": [
        "class RNN(nn.Module):\n",
        "    def __init__(self, input_dim, hidden_dim, m_layers=1):\n",
        "        super(RNN, self).__init__()\n",
        "        self.input_dim = input_dim\n",
        "        self.hidden_dim = hidden_dim\n",
        "        self.m_layers = m_layers\n",
        "        self.hidden_layers = [RNNcell(input_dim, hidden_dim)] + [RNNcell(hidden_dim, hidden_dim)]*(m_layers-1)\n",
        "        \n",
        "    def forward(self, X):\n",
        "        outs = []\n",
        "        # Initialize the hidden states as a list of zeroes, one for each layer\n",
        "        hiddens = [torch.zeros((X.shape[1], self.hidden_dim))]*self.m_layers \n",
        "        \n",
        "        # Perform recurrent pass over timesteps\n",
        "        for i, x_t in enumerate(x):\n",
        "            for j, layer in enumerate(self.hidden_layers):\n",
        "                h_t = layer(x_t, hiddens[j])\n",
        "                # Update the hidden states for that layer @this timestep\n",
        "                hiddens[j] = h_t\n",
        "                # Update the input to the next layer @this timestep\n",
        "                x_t = h_t\n",
        "            # At the end of layer append the hidden state (output)\n",
        "            outs.append(h_t)\n",
        "        return torch.stack(outs, dim=0), h_t\n",
        "    "
      ],
      "metadata": {
        "id": "6zDMkFFYtoLc"
      },
      "execution_count": 31,
      "outputs": []
    }
  ]
}