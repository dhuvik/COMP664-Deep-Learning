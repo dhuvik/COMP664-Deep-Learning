{
  "cells": [
    {
      "cell_type": "markdown",
      "metadata": {
        "id": "VYovBDSbwfYD"
      },
      "source": [
        "# 1. Batch normalization (2 points)\n",
        "\n",
        "Please make use of the model code from Homework 5 question 2 as you work on this question.\n",
        "\n",
        "1. If your model didn't use batch normalization, add it. If it already had batch normalization, remove it. How does the performance change? Please experiment with different learning rate values, since batch normalization can allow a different range of learning rates to work. You are welcome to write your own batch norm implementaiton or use a pre-existing one from mxnet or pytorch.\n",
        "1. Plot the squared L2 norm of gradients with respect to parameters over the course of training with and without batch normalization. To do this, you will need to compute the gradient of the loss over some data with respect to each parameter, square these gradients, and sum the result across all parameters. You can compute this value at each training step, or after each epoch. What difference does batch normalization make in terms of the squared L2 norm of gradients?"
      ]
    },
    {
      "cell_type": "markdown",
      "metadata": {
        "id": "Y94IXRTUgdv2"
      },
      "source": [
        "### 1.1 Batch Normalization Implementation\n",
        "\n",
        "Since in the previous homework I showed the network with and without batch norm, to do something new, I derive the following implementation of batch norm:"
      ]
    },
    {
      "cell_type": "code",
      "execution_count": 1,
      "metadata": {
        "id": "SgSL6C4WgciY"
      },
      "outputs": [],
      "source": [
        "### Import Dependencies\n",
        "\n",
        "import torch\n",
        "import torchvision\n",
        "import torchvision.transforms as transforms\n",
        "import torch.nn as nn\n",
        "import torch.nn.functional as F\n",
        "import torch.optim as optim\n",
        "import matplotlib.pyplot as plt\n",
        "import numpy as np\n",
        "\n",
        "### Define the Device\n",
        "device = torch.device(\"cuda:0\" if torch.cuda.is_available() else \"cpu\")"
      ]
    },
    {
      "cell_type": "code",
      "execution_count": 2,
      "metadata": {
        "colab": {
          "base_uri": "https://localhost:8080/",
          "height": 101,
          "referenced_widgets": [
            "6d2acb53c2ba4b8b855da780505fdad3",
            "d54cdc16f2384ca7b4c414a87e1df4e3",
            "679cfb0617ff4cfeab4fd21bc574af13",
            "0a7597dc648b4d6da6a0fc72a65e92da",
            "ca8c6d76a0b94c2d8405579604d11908",
            "a8465079a37d4e218f9dd7b5bd982bd7",
            "d3d6a98c91c6488dbd2d4bfa6588c81b",
            "2ea07b1f27174d33a95dc7164448586e",
            "09eb73a913ba434c8980c38720c8f8ac",
            "3e9279e02336496c9c6489293a8f2abf",
            "68e49db075834e55a9d4b99d5856d07b"
          ]
        },
        "id": "b9gMTYn2oxPG",
        "outputId": "b7856bf8-d12e-454f-b745-0165a2eddb33"
      },
      "outputs": [
        {
          "output_type": "stream",
          "name": "stdout",
          "text": [
            "Downloading https://www.cs.toronto.edu/~kriz/cifar-10-python.tar.gz to ./data/cifar-10-python.tar.gz\n"
          ]
        },
        {
          "output_type": "display_data",
          "data": {
            "text/plain": [
              "  0%|          | 0/170498071 [00:00<?, ?it/s]"
            ],
            "application/vnd.jupyter.widget-view+json": {
              "version_major": 2,
              "version_minor": 0,
              "model_id": "6d2acb53c2ba4b8b855da780505fdad3"
            }
          },
          "metadata": {}
        },
        {
          "output_type": "stream",
          "name": "stdout",
          "text": [
            "Extracting ./data/cifar-10-python.tar.gz to ./data\n",
            "Files already downloaded and verified\n"
          ]
        }
      ],
      "source": [
        "### Download and Pre-Process the Data [BOILERPLATE]\n",
        "\n",
        "'''\n",
        "### Default Transform\n",
        "\n",
        "transform = transforms.Compose(\n",
        "    [transforms.ToTensor(),\n",
        "     transforms.Normalize((0.5, 0.5, 0.5), (0.5, 0.5, 0.5))])\n",
        "'''\n",
        "transform = transforms.ToTensor()\n",
        "\n",
        "trainset = torchvision.datasets.CIFAR10(root='./data', train=True,\n",
        "                                        download=True, transform=transform)\n",
        "trainloader = torch.utils.data.DataLoader(trainset, batch_size=128,\n",
        "                                          shuffle=True)\n",
        "\n",
        "testset = torchvision.datasets.CIFAR10(root='./data', train=False,\n",
        "                                       download=True, transform=transform)\n",
        "testloader = torch.utils.data.DataLoader(testset, batch_size=128,\n",
        "                                         shuffle=False)\n",
        "\n",
        "classes = ('plane', 'car', 'bird', 'cat',\n",
        "           'deer', 'dog', 'frog', 'horse', 'ship', 'truck')"
      ]
    },
    {
      "cell_type": "code",
      "execution_count": 3,
      "metadata": {
        "colab": {
          "base_uri": "https://localhost:8080/",
          "height": 173
        },
        "id": "c3SoVkJ1klSc",
        "outputId": "59fa2449-dba5-4e2d-a286-0abafb755cac"
      },
      "outputs": [
        {
          "output_type": "stream",
          "name": "stdout",
          "text": [
            " ship   cat  ship   car\n",
            "torch.Size([128, 3, 32, 32])\n"
          ]
        },
        {
          "output_type": "display_data",
          "data": {
            "text/plain": [
              "<Figure size 432x288 with 1 Axes>"
            ],
            "image/png": "[encoded data removed]"
          },
          "metadata": {
            "needs_background": "light"
          }
        }
      ],
      "source": [
        "# Sample the Data to show an image [BOILERPLATE]\n",
        "\n",
        "def imshow(img):\n",
        "    # img = img / 2 + 0.5     # unnormalize\n",
        "    npimg = img.numpy()\n",
        "    plt.imshow(np.transpose(npimg, (1, 2, 0)))\n",
        "\n",
        "\n",
        "# get some random training images\n",
        "dataiter = iter(trainloader)\n",
        "images, labels = next(dataiter)\n",
        "\n",
        "# show images\n",
        "imshow(torchvision.utils.make_grid(images[:4]))\n",
        "# print labels\n",
        "print(' '.join('%5s' % classes[labels[j]] for j in range(4)))\n",
        "print(images.shape)"
      ]
    },
    {
      "cell_type": "code",
      "execution_count": 4,
      "metadata": {
        "id": "SHMWoK9xolVL"
      },
      "outputs": [],
      "source": [
        "def calc_test_loss(model, data_loader, criterion, device):\n",
        "    with torch.no_grad():\n",
        "        _, labels = next(iter(data_loader))\n",
        "        batch_size = len(labels)\n",
        "        running_loss = 0\n",
        "        for inps, labels in data_loader:\n",
        "            inps = inps.to(device)\n",
        "            labels = labels.to(device)\n",
        "            touts = model(inps)\n",
        "            tloss = criterion(touts, labels)\n",
        "            running_loss += tloss.item()\n",
        "        return running_loss / len(data_loader)\n",
        "\n",
        "def calc_test_accuracy(model, test_loader, device):\n",
        "    model = model.to(device)\n",
        "    correct = 0\n",
        "    total = 0\n",
        "    with torch.no_grad():\n",
        "        for data in test_loader:\n",
        "            images, labels = data\n",
        "            images, labels = images.to(device), labels.to(device)\n",
        "            outputs = model(images)\n",
        "            _, predicted = torch.max(outputs.data, 1)\n",
        "            total += labels.size(0)\n",
        "            correct += (predicted == labels).sum().item()\n",
        "\n",
        "    print('Accuracy of the network on the test images: %d %%' % (\n",
        "        100 * correct / total))"
      ]
    },
    {
      "cell_type": "code",
      "execution_count": 5,
      "metadata": {
        "id": "cLvoHFdgEL7L"
      },
      "outputs": [],
      "source": [
        "def plot_training_curves(train_loss, test_loss, model_name):\n",
        "    plt.plot(train_loss)\n",
        "    plt.plot(test_loss)\n",
        "    plt.legend(['Train', 'Test'])\n",
        "    plt.xlabel('Iterations')\n",
        "    plt.ylabel('Cross Entropy Loss')\n",
        "    plt.title('Training Graph: ' + model_name)\n",
        "    plt.show()"
      ]
    },
    {
      "cell_type": "code",
      "execution_count": 6,
      "metadata": {
        "id": "GYSL5oBbkyTZ"
      },
      "outputs": [],
      "source": [
        "def train_epochs(n_epochs, train_loader, test_loader, model, optimizer, criterion, log_every=1000, dev=device):\n",
        "    # See how often to log iterations\n",
        "    if log_every <= len(train_loader): # Check for log_every is equal to at least 1 epoch\n",
        "        if log_every >= 1:             \n",
        "            log_every = log_every\n",
        "    else:\n",
        "        log_every = len(train_loader) # Default to 1 epoch's n_iters\n",
        "    \n",
        "    train_loss = []\n",
        "    test_loss = []\n",
        "    grad_l2 = []\n",
        "\n",
        "    for epoch in range(n_epochs):  \n",
        "        running_loss = 0.0\n",
        "        for i, data in enumerate(train_loader, 0):\n",
        "            # get the inputs\n",
        "            inputs, labels = data\n",
        "            inputs, labels = inputs.to(dev), labels.to(dev)\n",
        "\n",
        "            # zero the parameter gradients\n",
        "            optimizer.zero_grad()\n",
        "\n",
        "            # forward + backward + optimize\n",
        "            outputs = model(inputs)\n",
        "            loss = criterion(outputs, labels)\n",
        "            loss.backward()\n",
        "            optimizer.step()\n",
        "            \n",
        "            # print statistics\n",
        "            running_loss += loss.item()\n",
        "            if i % log_every == log_every - 1:    \n",
        "                print('[%d, %5d] loss: %.3f' %\n",
        "                    (epoch + 1, i + 1, running_loss / log_every))\n",
        "                train_loss += [running_loss / log_every]\n",
        "                test_loss += [calc_test_loss(model, test_loader, criterion, dev)]\n",
        "                running_loss = 0.0\n",
        "                grad_l2 += [sum([torch.norm(value.grad).item()**2 for param, value in list(model.named_parameters())])]\n",
        "\n",
        "    print('Finished Training')\n",
        "    return model, train_loss, test_loss, grad_l2"
      ]
    },
    {
      "cell_type": "markdown",
      "metadata": {
        "id": "FfEinw5zorIb"
      },
      "source": [
        "#### Baseline Model with No Batch Norm"
      ]
    },
    {
      "cell_type": "code",
      "source": [
        "class VanillaConvStem(nn.Module):\n",
        "    def __init__(self, spec, bnorm):\n",
        "        super(VanillaConvStem, self).__init__()\n",
        "        layers = self._make_net(spec, bnorm)\n",
        "        self.net = nn.Sequential(*layers)\n",
        "\n",
        "    def forward(self, x):\n",
        "        y = self.net(x)\n",
        "        return y\n",
        "\n",
        "    def _make_net(self, spec, bnorm):\n",
        "        # specs = [(kernel, stride, padding, in_channels, out_channels)]\n",
        "        layers = []\n",
        "        kernel, stride, padding, in_channels, out_channels = spec\n",
        "        layers.append(nn.Conv2d(in_channels, out_channels, kernel_size=kernel, \n",
        "                                    stride=stride, padding=padding, bias=False))\n",
        "        if bnorm:\n",
        "            layers.append(nn.BatchNorm2d(out_channels))\n",
        "        layers.append(nn.MaxPool2d(kernel_size=2,stride=2))\n",
        "        layers.append(nn.ReLU())\n",
        "        return layers"
      ],
      "metadata": {
        "id": "FOry1a0FEao6"
      },
      "execution_count": 7,
      "outputs": []
    },
    {
      "cell_type": "code",
      "source": [
        "class ConvBlock1(nn.Module):\n",
        "    def __init__(self, spec, bnorm):\n",
        "        super(ConvBlock1, self).__init__()\n",
        "        layers = self._make_block(spec, bnorm)\n",
        "        self.net = nn.Sequential(*layers)\n",
        "        \n",
        "    def forward(self, x):\n",
        "        y = self.net(x)\n",
        "        return y\n",
        "    \n",
        "    def _make_block(self, spec, bnorm):\n",
        "        # layer_specs = [(kernel, stride, padding, in_channels, out_channels)]\n",
        "        \n",
        "        layers = []\n",
        "        kernel, stride, padding, in_channels, out_channels = spec\n",
        "        layers.append(nn.Conv2d(in_channels, out_channels, kernel_size=kernel, \n",
        "                                stride=stride, padding=padding, bias=False))\n",
        "        if bnorm:\n",
        "            layers.append(nn.BatchNorm2d(out_channels))\n",
        "        layers.append(nn.ReLU())\n",
        "        layers.append(nn.Conv2d(out_channels, out_channels, kernel_size=kernel, \n",
        "                                stride=stride, padding=padding, bias=False))\n",
        "        if bnorm:\n",
        "            layers.append(nn.BatchNorm2d(out_channels))\n",
        "        layers.append(nn.ReLU())\n",
        "\n",
        "        return layers   "
      ],
      "metadata": {
        "id": "lvcEnXTpInwC"
      },
      "execution_count": 8,
      "outputs": []
    },
    {
      "cell_type": "code",
      "source": [
        "class NNBody(nn.Module):\n",
        "    def __init__(self, blocks):\n",
        "        super(NNBody, self).__init__()\n",
        "        blocks += [nn.Flatten()]\n",
        "        self.net = nn.Sequential(*blocks)\n",
        "\n",
        "    def forward(self, x):\n",
        "        y = self.net(x)\n",
        "        return y"
      ],
      "metadata": {
        "id": "VYEoM-lZHUKz"
      },
      "execution_count": 9,
      "outputs": []
    },
    {
      "cell_type": "code",
      "source": [
        "class VanillaDenseHead(nn.Module):\n",
        "    def __init__(self, out_dims, num_classes, dropout):\n",
        "        super(VanillaDenseHead, self).__init__()\n",
        "        layers = self._make_net(out_dims, num_classes, dropout)\n",
        "        self.net = nn.Sequential(*layers)\n",
        "\n",
        "    def forward(self, x):\n",
        "        y = self.net(x)\n",
        "        return y\n",
        "\n",
        "    def _make_net(self, out_dims, num_classes, dropout):\n",
        "        layers = []\n",
        "        for out_dim in out_dims:\n",
        "            layers.append(nn.LazyLinear(out_dim))\n",
        "            layers.append(nn.ReLU())\n",
        "            layers.append(nn.Dropout(dropout))\n",
        "        layers.append(nn.Linear(out_dim, num_classes)) \n",
        "        return layers"
      ],
      "metadata": {
        "id": "HUcGj8dDQpNC"
      },
      "execution_count": 10,
      "outputs": []
    },
    {
      "cell_type": "code",
      "execution_count": 11,
      "metadata": {
        "id": "MpY_PfqTo3Hz"
      },
      "outputs": [],
      "source": [
        "class BaselineNet(nn.Module):\n",
        "    def __init__(self, arch):\n",
        "        '''Arch is a dictionary of layer specs'''\n",
        "        super(BaselineNet, self).__init__()\n",
        "        self.stem = arch['stem']\n",
        "        self.body = arch['body']\n",
        "        self.head = arch['head']\n",
        "        total_layers = [self.stem, self.body, self.head]\n",
        "        self.net = nn.Sequential(*total_layers)\n",
        "\n",
        "    def forward(self, x):\n",
        "        y = self.net(x)\n",
        "        return y"
      ]
    },
    {
      "cell_type": "code",
      "execution_count": 25,
      "metadata": {
        "id": "fOSHxT_Loq1L"
      },
      "outputs": [],
      "source": [
        "unnormed_arch = {\n",
        "    'stem': VanillaConvStem((5, 2, 3, 3, 16), bnorm=False),\n",
        "    'body': NNBody([ConvBlock1((3, 1, 1, 16, 32),bnorm=False),\n",
        "            ConvBlock1((3, 1, 1, 32, 64), bnorm=False),\n",
        "            ConvBlock1((3, 1, 1, 64, 64), bnorm=False)\n",
        "            ]),\n",
        "    'head': VanillaDenseHead([512, 128, 32], num_classes=10, dropout=0.25)\n",
        "        }"
      ]
    },
    {
      "cell_type": "code",
      "source": [
        "def warmup_model(model, sample_input, device=device):\n",
        "    loaded_model =  model.to(device)\n",
        "    inps = sample_input.to(device)\n",
        "    loaded_model(inps)"
      ],
      "metadata": {
        "id": "ne_HK2giYeWm"
      },
      "execution_count": 26,
      "outputs": []
    },
    {
      "cell_type": "code",
      "execution_count": 27,
      "metadata": {
        "colab": {
          "base_uri": "https://localhost:8080/"
        },
        "id": "WEvKXqzqCrjM",
        "outputId": "c84bc8c2-49a9-40fd-9155-3e0d68edfdaf"
      },
      "outputs": [
        {
          "output_type": "stream",
          "name": "stdout",
          "text": [
            "[1,   250] loss: 2.304\n",
            "[2,   250] loss: 2.303\n",
            "[3,   250] loss: 2.303\n",
            "[4,   250] loss: 2.303\n",
            "[5,   250] loss: 2.303\n",
            "[6,   250] loss: 2.303\n",
            "[7,   250] loss: 2.303\n",
            "[8,   250] loss: 2.303\n",
            "[9,   250] loss: 2.303\n",
            "[10,   250] loss: 2.303\n",
            "Finished Training\n"
          ]
        }
      ],
      "source": [
        "bNet = BaselineNet(unnormed_arch).to(device)\n",
        "warmup_model(bNet, images)\n",
        "criterion = nn.CrossEntropyLoss()\n",
        "optimizer = optim.SGD(bNet.parameters(), lr=.01, momentum=0.9)\n",
        "opt_base, tr_loss, tst_loss, grads = train_epochs(10, trainloader, testloader, bNet, optimizer, criterion, log_every=250)"
      ]
    },
    {
      "cell_type": "code",
      "execution_count": null,
      "metadata": {
        "colab": {
          "base_uri": "https://localhost:8080/",
          "height": 295
        },
        "id": "8_X6MeB-EotD",
        "outputId": "28a23fff-bf38-47b5-ee32-f9238932f166"
      },
      "outputs": [
        {
          "output_type": "display_data",
          "data": {
            "text/plain": [
              "<Figure size 432x288 with 1 Axes>"
            ],
            "image/png": "[encoded data removed]"
          },
          "metadata": {
            "needs_background": "light"
          }
        }
      ],
      "source": [
        "plot_training_curves(tr_loss, tst_loss, 'BaseLine No BatchNorm')"
      ]
    },
    {
      "cell_type": "code",
      "execution_count": 20,
      "metadata": {
        "id": "gCNlVYKiEL0a"
      },
      "outputs": [],
      "source": [
        "normed_arch = {\n",
        "    'stem': VanillaConvStem((5, 2, 3, 3, 16), bnorm=True),\n",
        "    'body': NNBody([ConvBlock1((3, 1, 1, 16, 32),bnorm=True),\n",
        "            ConvBlock1((3, 1, 1, 32, 64), bnorm=True),\n",
        "            ConvBlock1((3, 1, 1, 64, 64), bnorm=True)\n",
        "            ]),\n",
        "    'head': VanillaDenseHead([512, 128, 32], num_classes=10, dropout=0.25)\n",
        "        }\n",
        "\n",
        "bNet2 = BaselineNet(normed_arch).to(device)\n",
        "warmup_model(bNet2, images)\n",
        "criterion = nn.CrossEntropyLoss()\n",
        "optimizer = optim.SGD(bNet2.parameters(), lr=.01, momentum=0.9)"
      ]
    },
    {
      "cell_type": "code",
      "execution_count": 21,
      "metadata": {
        "colab": {
          "base_uri": "https://localhost:8080/"
        },
        "id": "BFjMvMe3ELyI",
        "outputId": "fe83840c-4637-4596-c5c7-ecb2b0d949b3"
      },
      "outputs": [
        {
          "output_type": "stream",
          "name": "stdout",
          "text": [
            "[1,   250] loss: 1.884\n",
            "[2,   250] loss: 1.375\n",
            "[3,   250] loss: 1.185\n",
            "[4,   250] loss: 1.056\n",
            "[5,   250] loss: 0.959\n",
            "[6,   250] loss: 0.887\n",
            "[7,   250] loss: 0.811\n",
            "[8,   250] loss: 0.758\n",
            "[9,   250] loss: 0.700\n",
            "[10,   250] loss: 0.658\n",
            "Finished Training\n"
          ]
        }
      ],
      "source": [
        "opt_bn, tr_loss, tst_loss, normed_grads = train_epochs(10, trainloader, testloader, bNet2, optimizer, criterion, log_every=250)"
      ]
    },
    {
      "cell_type": "code",
      "execution_count": null,
      "metadata": {
        "colab": {
          "base_uri": "https://localhost:8080/",
          "height": 295
        },
        "id": "vvB06eMjELrL",
        "outputId": "66f40056-0a6b-4ebd-8617-874353438e38"
      },
      "outputs": [
        {
          "output_type": "display_data",
          "data": {
            "text/plain": [
              "<Figure size 432x288 with 1 Axes>"
            ],
            "image/png": "[encoded data removed]"
          },
          "metadata": {
            "needs_background": "light"
          }
        }
      ],
      "source": [
        "plot_training_curves(tr_loss, tst_loss, 'Baseline with BatchNorm')"
      ]
    },
    {
      "cell_type": "markdown",
      "metadata": {
        "id": "1YIlr4qyErdY"
      },
      "source": [
        "**Written Answer for Pt1:**:\n",
        "\n",
        "As we can see from the above, the inclusion of batch norm results in a much more stable training at the given learning rate. I also tried modulating the learning rate by factors of 10 and we can clearly see that it is unstable without batch normalization. Across learning rates of [1, .01, and .001] only the network with batch norm was able to keep pushing loss down on the training set, althougt at eta=1 the BN net reported nan for the loss. The training curves would sometimes diverge for high values of eta without batch norm but this wasn't the case with the learning rates trialed."
      ]
    },
    {
      "cell_type": "markdown",
      "metadata": {
        "id": "GqdsOasIiZm9"
      },
      "source": [
        "#### 1.2 Squared L2 Norms of the Gradients"
      ]
    },
    {
      "cell_type": "code",
      "execution_count": null,
      "metadata": {
        "colab": {
          "base_uri": "https://localhost:8080/",
          "height": 295
        },
        "id": "-pASudRPXytI",
        "outputId": "ea0b6dc1-d388-4d8e-b018-43a4e5405008"
      },
      "outputs": [
        {
          "output_type": "display_data",
          "data": {
            "text/plain": [
              "<Figure size 432x288 with 1 Axes>"
            ],
            "image/png": "[encoded data removed]"
          },
          "metadata": {
            "needs_background": "light"
          }
        }
      ],
      "source": [
        "plt.plot(grads)\n",
        "plt.plot(normed_grads)\n",
        "plt.title('Squared L2 Norm of the Gradients')\n",
        "plt.xlabel('Iterations')\n",
        "plt.ylabel('Squared L2 Norm')\n",
        "plt.legend(['Baseline', 'BatchNorm'])\n",
        "plt.show()"
      ]
    },
    {
      "cell_type": "markdown",
      "metadata": {
        "id": "b320QNMAA2aE"
      },
      "source": [
        "**Written Asnwer for Pt2**:\n",
        "As we can see from the plot of the L2 norm, the L2-norm of the gradients are much larger in the case of the batch norm than without. This result agrees with the printed loss that was output at the end of every epoch where the loss was barely changing for the model with no batch norm until the end. Interestingly, although it looks like the model should have been trained further, when I ran the model for 20 epochs, it only dropped in loss after epoch 17/18 and remained in a plateau before. I am curious if there is some learning rate scheduler that is implicitly called in the optimizer code that is responsible for this since I don't believe that momentum (unlike Adam) explicitly includes the timestep t as a variable in its calculation."
      ]
    },
    {
      "cell_type": "markdown",
      "metadata": {
        "id": "T8t21JGZyUr-"
      },
      "source": [
        "# 2. Residual connections (2 points)\n",
        "\n",
        "Please make use of the model code from Homework 5 question 2 as you work on this question.\n",
        "\n",
        "If your model didn't use residual connections, add them. If it already had residual connections, remove them. How does the performance change? Please experiment with applying residual connections around different blocks, where a block is a subset of layers (for example, add a residual connection around a single convolution/nonlinearity combination, or a residual connection around two convolution/nonlinearity combinations). Note that you may need to add 1x1 convolutions in the residual path if your block changes the shape (spatial or number of channels) of the input."
      ]
    },
    {
      "cell_type": "code",
      "source": [
        "class ConvBlock2(nn.Module):\n",
        "    def __init__(self, spec, bnorm):\n",
        "        super(ConvBlock2, self).__init__()\n",
        "        layers = self._make_block(spec, bnorm)\n",
        "        self.net = nn.Sequential(*layers)\n",
        "        \n",
        "    def forward(self, x):\n",
        "        y = self.net(x)\n",
        "        return y\n",
        "    \n",
        "    def _make_block(self, spec, bnorm):\n",
        "        # layer_specs = [(kernel, stride, padding, in_channels, out_channels)]\n",
        "        \n",
        "        layers = []\n",
        "        kernel, stride, padding, in_channels, out_channels = spec\n",
        "        layers.append(nn.Conv2d(in_channels, out_channels, kernel_size=kernel, \n",
        "                                stride=stride, padding=padding, bias=False))\n",
        "        if bnorm:\n",
        "            layers.append(nn.BatchNorm2d(out_channels))\n",
        "        layers.append(nn.ReLU())\n",
        "        layers.append(nn.Conv2d(out_channels, out_channels, kernel_size=kernel, \n",
        "                                stride=stride, padding=padding, bias=False))\n",
        "        if bnorm:\n",
        "            layers.append(nn.BatchNorm2d(out_channels))\n",
        "        # layers.append(nn.ReLU()) Taken out for Residual ReLU operation\n",
        "        return layers   "
      ],
      "metadata": {
        "id": "mBgbNd34tvpS"
      },
      "execution_count": 13,
      "outputs": []
    },
    {
      "cell_type": "code",
      "source": [
        "class ConvBlock3(nn.Module):\n",
        "    def __init__(self, spec, bnorm):\n",
        "        super(ConvBlock3, self).__init__()\n",
        "        layers = self._make_block(spec, bnorm)\n",
        "        self.net = nn.Sequential(*layers)\n",
        "        \n",
        "    def forward(self, x):\n",
        "        y = self.net(x)\n",
        "        return y\n",
        "    \n",
        "    def _make_block(self, spec, bnorm):\n",
        "        # layer_specs = [(kernel, stride, padding, in_channels, out_channels)]\n",
        "        \n",
        "        layers = []\n",
        "        kernel, stride, padding, in_channels, out_channels = spec\n",
        "        layers.append(nn.Conv2d(in_channels, out_channels, kernel_size=kernel, \n",
        "                                stride=stride, padding=padding, bias=False))\n",
        "        if bnorm:\n",
        "            layers.append(nn.BatchNorm2d(out_channels))\n",
        "        return layers  "
      ],
      "metadata": {
        "id": "Fe1U_-xDvFmo"
      },
      "execution_count": 14,
      "outputs": []
    },
    {
      "cell_type": "code",
      "execution_count": 15,
      "metadata": {
        "id": "rw2vkj10oxnv"
      },
      "outputs": [],
      "source": [
        "class ConvResBlock(nn.Module):\n",
        "    def __init__(self, core):\n",
        "        super(ConvResBlock, self).__init__() \n",
        "        self.device = device\n",
        "        self.core = core\n",
        "    \n",
        "    def forward(self, x):\n",
        "        y = self.core(x)\n",
        "        try:\n",
        "            y += x\n",
        "        except:\n",
        "            add_conv = nn.Conv2d(x.shape[1], y.shape[1], kernel_size=1).to(x.device)\n",
        "            y+= add_conv(x)\n",
        "        return F.relu(y)"
      ]
    },
    {
      "cell_type": "code",
      "execution_count": 22,
      "metadata": {
        "id": "wABY6RJxSiqt"
      },
      "outputs": [],
      "source": [
        "res_arch1 = {\n",
        "    'stem': VanillaConvStem((5, 2, 3, 3, 16), bnorm=True),\n",
        "    'body': NNBody([ConvResBlock(ConvBlock2((3, 1, 1, 16, 32),bnorm=True)),\n",
        "            ConvResBlock(ConvBlock2((3, 1, 1, 32, 64), bnorm=True)),\n",
        "            ConvResBlock(ConvBlock2((3, 1, 1, 64, 64), bnorm=True))\n",
        "            ]),\n",
        "    'head': VanillaDenseHead([512, 128, 32], num_classes=10, dropout=0.25)\n",
        "        }\n",
        "        \n",
        "ConvResNet1 = BaselineNet(res_arch1).to(device)\n",
        "warmup_model(ConvResNet1, images)\n",
        "criterion = nn.CrossEntropyLoss()\n",
        "optimizer = optim.SGD(ConvResNet1.parameters(), lr=.01, momentum=0.9)"
      ]
    },
    {
      "cell_type": "code",
      "source": [
        "opt_resnet, tr_loss, tst_loss, resnet_grads = train_epochs(10, trainloader, testloader, ConvResNet1, optimizer, criterion, log_every=250)"
      ],
      "metadata": {
        "colab": {
          "base_uri": "https://localhost:8080/"
        },
        "id": "5h1uhClKqjyL",
        "outputId": "e7cef6d7-efc9-46a6-f096-032a24b4ea62"
      },
      "execution_count": 23,
      "outputs": [
        {
          "output_type": "stream",
          "name": "stdout",
          "text": [
            "[1,   250] loss: 1.890\n",
            "[2,   250] loss: 1.425\n",
            "[3,   250] loss: 1.255\n",
            "[4,   250] loss: 1.129\n",
            "[5,   250] loss: 1.047\n",
            "[6,   250] loss: 0.971\n",
            "[7,   250] loss: 0.891\n",
            "[8,   250] loss: 0.852\n",
            "[9,   250] loss: 0.795\n",
            "[10,   250] loss: 0.753\n",
            "Finished Training\n"
          ]
        }
      ]
    },
    {
      "cell_type": "code",
      "source": [
        "plot_training_curves(tr_loss, tst_loss, 'Baseline with BatchNorm and Deep Residual Connections')"
      ],
      "metadata": {
        "colab": {
          "base_uri": "https://localhost:8080/",
          "height": 295
        },
        "id": "IiSDUpo_q2K2",
        "outputId": "cbea9dbb-f918-4994-f5c5-36c7212ffaf5"
      },
      "execution_count": null,
      "outputs": [
        {
          "output_type": "display_data",
          "data": {
            "text/plain": [
              "<Figure size 432x288 with 1 Axes>"
            ],
            "image/png": "[encoded data removed]"
          },
          "metadata": {
            "needs_background": "light"
          }
        }
      ]
    },
    {
      "cell_type": "code",
      "source": [
        "plt.plot(grads)\n",
        "plt.plot(normed_grads)\n",
        "plt.plot(resnet_grads)\n",
        "plt.title('Squared L2 Norm of the Gradients')\n",
        "plt.xlabel('Iterations')\n",
        "plt.ylabel('Squared L2 Norm')\n",
        "plt.legend(['Baseline', 'BatchNorm', 'ResidualConnx1'])\n",
        "plt.show()"
      ],
      "metadata": {
        "colab": {
          "base_uri": "https://localhost:8080/",
          "height": 295
        },
        "id": "Q8t7tQ9EuGBG",
        "outputId": "13aa620f-087b-4298-bb93-0962b16a61b9"
      },
      "execution_count": null,
      "outputs": [
        {
          "output_type": "display_data",
          "data": {
            "text/plain": [
              "<Figure size 432x288 with 1 Axes>"
            ],
            "image/png": "[encoded data removed]"
          },
          "metadata": {
            "needs_background": "light"
          }
        }
      ]
    },
    {
      "cell_type": "code",
      "source": [
        "### Very shallow residual connections\n",
        "\n",
        "res_arch2 = {\n",
        "    'stem': VanillaConvStem((5, 2, 3, 3, 16), bnorm=True),\n",
        "    'body': NNBody([ConvResBlock(ConvBlock3((3, 1, 1, 16, 32),bnorm=True)),\n",
        "                    ConvResBlock(ConvBlock3((3, 1, 1, 32, 32),bnorm=True)), # Added to maintain depth\n",
        "                    ConvResBlock(ConvBlock3((3, 1, 1, 32, 64), bnorm=True)),\n",
        "                    ConvResBlock(ConvBlock3((3, 1, 1, 64, 64),bnorm=True)), # Added to maintain depth\n",
        "                    ConvResBlock(ConvBlock3((3, 1, 1, 64, 64), bnorm=True))\n",
        "            ]),\n",
        "    'head': VanillaDenseHead([512, 128, 32], num_classes=10, dropout=0.25)\n",
        "        }\n",
        "ConvResNet2 = BaselineNet(res_arch2).to(device)\n",
        "warmup_model(ConvResNet2, images)\n",
        "criterion = nn.CrossEntropyLoss()\n",
        "optimizer = optim.SGD(ConvResNet2.parameters(), lr=.01, momentum=0.9)\n"
      ],
      "metadata": {
        "colab": {
          "base_uri": "https://localhost:8080/"
        },
        "id": "Fm6BylUGu2qo",
        "outputId": "68e124b0-a86f-44c5-e803-23d982ab62d1"
      },
      "execution_count": 16,
      "outputs": [
        {
          "output_type": "stream",
          "name": "stderr",
          "text": [
            "/usr/local/lib/python3.8/dist-packages/torch/nn/modules/lazy.py:180: UserWarning: Lazy modules are a new feature under heavy development so changes to the API or functionality can happen at any moment.\n",
            "  warnings.warn('Lazy modules are a new feature under heavy development '\n"
          ]
        }
      ]
    },
    {
      "cell_type": "code",
      "source": [
        "opt_resnet2, tr_loss, tst_loss, resnet2_grads = train_epochs(10, trainloader, testloader, ConvResNet2, optimizer, criterion, log_every=250)"
      ],
      "metadata": {
        "colab": {
          "base_uri": "https://localhost:8080/"
        },
        "id": "3n2_WzKOwqP4",
        "outputId": "cf516e2f-a812-4f39-fd16-3cc973bf0bd6"
      },
      "execution_count": 17,
      "outputs": [
        {
          "output_type": "stream",
          "name": "stdout",
          "text": [
            "[1,   250] loss: 1.929\n",
            "[2,   250] loss: 1.505\n",
            "[3,   250] loss: 1.345\n",
            "[4,   250] loss: 1.214\n",
            "[5,   250] loss: 1.100\n",
            "[6,   250] loss: 1.005\n",
            "[7,   250] loss: 0.943\n",
            "[8,   250] loss: 0.866\n",
            "[9,   250] loss: 0.816\n",
            "[10,   250] loss: 0.756\n",
            "Finished Training\n"
          ]
        }
      ]
    },
    {
      "cell_type": "code",
      "source": [
        "plot_training_curves(tr_loss, tst_loss, 'Baseline with BatchNorm and Shallow Residual Connections')"
      ],
      "metadata": {
        "colab": {
          "base_uri": "https://localhost:8080/",
          "height": 295
        },
        "id": "7H1VkbgZwvaZ",
        "outputId": "f139f9f4-72bc-423f-8d07-9b72a2058763"
      },
      "execution_count": 18,
      "outputs": [
        {
          "output_type": "display_data",
          "data": {
            "text/plain": [
              "<Figure size 432x288 with 1 Axes>"
            ],
            "image/png": "[encoded data removed]"
          },
          "metadata": {
            "needs_background": "light"
          }
        }
      ]
    },
    {
      "cell_type": "code",
      "source": [
        "plt.plot(grads)\n",
        "plt.plot(normed_grads)\n",
        "plt.plot(resnet_grads)\n",
        "plt.plot(resnet2_grads)\n",
        "plt.title('Squared L2 Norm of the Gradients')\n",
        "plt.xlabel('Iterations')\n",
        "plt.ylabel('Squared L2 Norm')\n",
        "plt.legend(['Baseline', 'BatchNorm', 'DeepResidualConX', 'ShallowResidualConX'])\n",
        "plt.show()"
      ],
      "metadata": {
        "id": "P5M4rJ1IwybL",
        "colab": {
          "base_uri": "https://localhost:8080/",
          "height": 295
        },
        "outputId": "d14c456e-23ae-4ab3-97bb-a848b974bbab"
      },
      "execution_count": 28,
      "outputs": [
        {
          "output_type": "display_data",
          "data": {
            "text/plain": [
              "<Figure size 432x288 with 1 Axes>"
            ],
            "image/png": "[encoded data removed]"
          },
          "metadata": {
            "needs_background": "light"
          }
        }
      ]
    },
    {
      "cell_type": "code",
      "source": [
        "calc_test_accuracy(opt_base, testloader, device=device)"
      ],
      "metadata": {
        "colab": {
          "base_uri": "https://localhost:8080/"
        },
        "id": "isZLQfmFVdHx",
        "outputId": "ca877391-1dd0-4d82-9d66-a6b7671fede8"
      },
      "execution_count": 30,
      "outputs": [
        {
          "output_type": "stream",
          "name": "stdout",
          "text": [
            "Accuracy of the network on the test images: 9 %\n"
          ]
        }
      ]
    },
    {
      "cell_type": "code",
      "source": [
        "calc_test_accuracy(opt_bn, testloader, device=device)"
      ],
      "metadata": {
        "colab": {
          "base_uri": "https://localhost:8080/"
        },
        "id": "kB1ufanPXl4q",
        "outputId": "a726af1f-2a7b-4bb6-9175-7d82552e07eb"
      },
      "execution_count": 31,
      "outputs": [
        {
          "output_type": "stream",
          "name": "stdout",
          "text": [
            "Accuracy of the network on the test images: 72 %\n"
          ]
        }
      ]
    },
    {
      "cell_type": "code",
      "source": [
        "calc_test_accuracy(opt_resnet, testloader, device=device)\n"
      ],
      "metadata": {
        "colab": {
          "base_uri": "https://localhost:8080/"
        },
        "id": "eiLHew8nXgQY",
        "outputId": "bddd586b-9844-4eaf-add9-02961d9545ec"
      },
      "execution_count": 33,
      "outputs": [
        {
          "output_type": "stream",
          "name": "stdout",
          "text": [
            "Accuracy of the network on the test images: 71 %\n"
          ]
        }
      ]
    },
    {
      "cell_type": "code",
      "source": [
        "calc_test_accuracy(opt_resnet2, testloader, device=device)"
      ],
      "metadata": {
        "colab": {
          "base_uri": "https://localhost:8080/"
        },
        "id": "Xch4g5tKXgGc",
        "outputId": "8e20581d-a1e8-420f-d699-5e3122f03d8c"
      },
      "execution_count": 34,
      "outputs": [
        {
          "output_type": "stream",
          "name": "stdout",
          "text": [
            "Accuracy of the network on the test images: 69 %\n"
          ]
        }
      ]
    },
    {
      "cell_type": "code",
      "source": [
        "res_arch3 = {\n",
        "    'stem': VanillaConvStem((5, 2, 3, 3, 16), bnorm=True),\n",
        "    'body': NNBody([\n",
        "                \n",
        "                ConvResBlock(nn.Sequential(ConvBlock2((3, 1, 1, 16, 32),bnorm=True),\n",
        "                ConvBlock2((3, 1, 1, 32, 64), bnorm=True),\n",
        "                ConvBlock2((3, 1, 1, 64, 64), bnorm=True)))\n",
        "\n",
        "        ]),\n",
        "    'head': VanillaDenseHead([512, 128, 32], num_classes=10, dropout=0.25)\n",
        "        }\n",
        "        \n",
        "ConvResNet3 = BaselineNet(res_arch3).to(device)\n",
        "warmup_model(ConvResNet3, images)\n",
        "criterion = nn.CrossEntropyLoss()\n",
        "optimizer = optim.SGD(ConvResNet3.parameters(), lr=.01, momentum=0.9)"
      ],
      "metadata": {
        "id": "ydbUJ7e4Xf6X"
      },
      "execution_count": 38,
      "outputs": []
    },
    {
      "cell_type": "code",
      "source": [
        "opt_resnet3, tr_loss, tst_loss, resnet3_grads = train_epochs(10, trainloader, testloader, ConvResNet3, optimizer, criterion, log_every=250)"
      ],
      "metadata": {
        "colab": {
          "base_uri": "https://localhost:8080/"
        },
        "id": "tsgG1YcyYy4Q",
        "outputId": "a941ba38-8047-49ac-94d1-73af147ce2f2"
      },
      "execution_count": 37,
      "outputs": [
        {
          "output_type": "stream",
          "name": "stdout",
          "text": [
            "[1,   250] loss: 1.905\n",
            "[2,   250] loss: 1.372\n",
            "[3,   250] loss: 1.177\n",
            "[4,   250] loss: 1.058\n",
            "[5,   250] loss: 0.977\n",
            "[6,   250] loss: 0.898\n",
            "[7,   250] loss: 0.844\n",
            "[8,   250] loss: 0.787\n",
            "[9,   250] loss: 0.739\n",
            "[10,   250] loss: 0.695\n",
            "Finished Training\n"
          ]
        }
      ]
    },
    {
      "cell_type": "code",
      "source": [
        "plot_training_curves(tr_loss, tst_loss, 'Baseline with BatchNorm and Deep Residual Connections')"
      ],
      "metadata": {
        "colab": {
          "base_uri": "https://localhost:8080/",
          "height": 295
        },
        "id": "G7bjPyoIYz6-",
        "outputId": "e35c3a72-e4f0-4af0-c86a-36641a463bb9"
      },
      "execution_count": 39,
      "outputs": [
        {
          "output_type": "display_data",
          "data": {
            "text/plain": [
              "<Figure size 432x288 with 1 Axes>"
            ],
            "image/png": "[encoded data removed]"
          },
          "metadata": {
            "needs_background": "light"
          }
        }
      ]
    },
    {
      "cell_type": "code",
      "source": [
        "calc_test_accuracy(opt_resnet3, testloader, device=device)"
      ],
      "metadata": {
        "colab": {
          "base_uri": "https://localhost:8080/"
        },
        "id": "7Vpal-7gbfRR",
        "outputId": "e5a815fe-d6ba-40e3-cb73-e75b67307e8f"
      },
      "execution_count": 40,
      "outputs": [
        {
          "output_type": "stream",
          "name": "stdout",
          "text": [
            "Accuracy of the network on the test images: 72 %\n"
          ]
        }
      ]
    },
    {
      "cell_type": "markdown",
      "source": [
        "**Written Answer:** The inclusion of residual networks did not result in a significant boost to the prediction accuracy or the gradients at each time step. The first resnet wrapped a residual connection around the previous batchnorm convolution blocks and this resulted in three residual blocks each containing two convolutional filters. This resulted in a slight decrease compared to the convolutionals with batch norm alone. In order to explore whether or nor the depth of the residual connection played an impact in the performance of the resnet, I devised three architectures:\n",
        "\n",
        "1. Shallow Residual Connections: Each residual block contained only one convolutional layer and batchnorm layer\n",
        "2. Deep Residual Connections: The entire model was compressed into one block and a residual connection was passed around it \n",
        "3. Standard Residual Connection: This was the residual connections discussed in the paragraph above which was adding a residual connection to each convolutional block containing two ConvLayers.\n",
        "\n",
        "As we can see from the performances, the shallow residual connections scored 69% accuracy on the test set, the deep residual connections scored 72% and the standard residual connection scored 71%. From here we might conclude that the deep residual connection is the best, however the fact that the deep residual connection scored the same as the model with no residual connections at all may be an indicator that the residual connection learned the identity function and is not impacting the calculation in any way. Thus we cannot say for certain if the deep connection is better than the standard connection but we can conclude that the standard connection is likely better than the shallow connections."
      ],
      "metadata": {
        "id": "OZoqYGD7VQzl"
      }
    }
  ],
  "metadata": {
    "accelerator": "GPU",
    "colab": {
      "provenance": []
    },
    "gpuClass": "standard",
    "kernelspec": {
      "display_name": "Python 3",
      "name": "python3"
    },
    "widgets": {
      "application/vnd.jupyter.widget-state+json": {
        "6d2acb53c2ba4b8b855da780505fdad3": {
          "model_module": "@jupyter-widgets/controls",
          "model_name": "HBoxModel",
          "model_module_version": "1.5.0",
          "state": {
            "_dom_classes": [],
            "_model_module": "@jupyter-widgets/controls",
            "_model_module_version": "1.5.0",
            "_model_name": "HBoxModel",
            "_view_count": null,
            "_view_module": "@jupyter-widgets/controls",
            "_view_module_version": "1.5.0",
            "_view_name": "HBoxView",
            "box_style": "",
            "children": [
              "IPY_MODEL_d54cdc16f2384ca7b4c414a87e1df4e3",
              "IPY_MODEL_679cfb0617ff4cfeab4fd21bc574af13",
              "IPY_MODEL_0a7597dc648b4d6da6a0fc72a65e92da"
            ],
            "layout": "IPY_MODEL_ca8c6d76a0b94c2d8405579604d11908"
          }
        },
        "d54cdc16f2384ca7b4c414a87e1df4e3": {
          "model_module": "@jupyter-widgets/controls",
          "model_name": "HTMLModel",
          "model_module_version": "1.5.0",
          "state": {
            "_dom_classes": [],
            "_model_module": "@jupyter-widgets/controls",
            "_model_module_version": "1.5.0",
            "_model_name": "HTMLModel",
            "_view_count": null,
            "_view_module": "@jupyter-widgets/controls",
            "_view_module_version": "1.5.0",
            "_view_name": "HTMLView",
            "description": "",
            "description_tooltip": null,
            "layout": "IPY_MODEL_a8465079a37d4e218f9dd7b5bd982bd7",
            "placeholder": "​",
            "style": "IPY_MODEL_d3d6a98c91c6488dbd2d4bfa6588c81b",
            "value": "100%"
          }
        },
        "679cfb0617ff4cfeab4fd21bc574af13": {
          "model_module": "@jupyter-widgets/controls",
          "model_name": "FloatProgressModel",
          "model_module_version": "1.5.0",
          "state": {
            "_dom_classes": [],
            "_model_module": "@jupyter-widgets/controls",
            "_model_module_version": "1.5.0",
            "_model_name": "FloatProgressModel",
            "_view_count": null,
            "_view_module": "@jupyter-widgets/controls",
            "_view_module_version": "1.5.0",
            "_view_name": "ProgressView",
            "bar_style": "success",
            "description": "",
            "description_tooltip": null,
            "layout": "IPY_MODEL_2ea07b1f27174d33a95dc7164448586e",
            "max": 170498071,
            "min": 0,
            "orientation": "horizontal",
            "style": "IPY_MODEL_09eb73a913ba434c8980c38720c8f8ac",
            "value": 170498071
          }
        },
        "0a7597dc648b4d6da6a0fc72a65e92da": {
          "model_module": "@jupyter-widgets/controls",
          "model_name": "HTMLModel",
          "model_module_version": "1.5.0",
          "state": {
            "_dom_classes": [],
            "_model_module": "@jupyter-widgets/controls",
            "_model_module_version": "1.5.0",
            "_model_name": "HTMLModel",
            "_view_count": null,
            "_view_module": "@jupyter-widgets/controls",
            "_view_module_version": "1.5.0",
            "_view_name": "HTMLView",
            "description": "",
            "description_tooltip": null,
            "layout": "IPY_MODEL_3e9279e02336496c9c6489293a8f2abf",
            "placeholder": "​",
            "style": "IPY_MODEL_68e49db075834e55a9d4b99d5856d07b",
            "value": " 170498071/170498071 [00:03&lt;00:00, 45940289.01it/s]"
          }
        },
        "ca8c6d76a0b94c2d8405579604d11908": {
          "model_module": "@jupyter-widgets/base",
          "model_name": "LayoutModel",
          "model_module_version": "1.2.0",
          "state": {
            "_model_module": "@jupyter-widgets/base",
            "_model_module_version": "1.2.0",
            "_model_name": "LayoutModel",
            "_view_count": null,
            "_view_module": "@jupyter-widgets/base",
            "_view_module_version": "1.2.0",
            "_view_name": "LayoutView",
            "align_content": null,
            "align_items": null,
            "align_self": null,
            "border": null,
            "bottom": null,
            "display": null,
            "flex": null,
            "flex_flow": null,
            "grid_area": null,
            "grid_auto_columns": null,
            "grid_auto_flow": null,
            "grid_auto_rows": null,
            "grid_column": null,
            "grid_gap": null,
            "grid_row": null,
            "grid_template_areas": null,
            "grid_template_columns": null,
            "grid_template_rows": null,
            "height": null,
            "justify_content": null,
            "justify_items": null,
            "left": null,
            "margin": null,
            "max_height": null,
            "max_width": null,
            "min_height": null,
            "min_width": null,
            "object_fit": null,
            "object_position": null,
            "order": null,
            "overflow": null,
            "overflow_x": null,
            "overflow_y": null,
            "padding": null,
            "right": null,
            "top": null,
            "visibility": null,
            "width": null
          }
        },
        "a8465079a37d4e218f9dd7b5bd982bd7": {
          "model_module": "@jupyter-widgets/base",
          "model_name": "LayoutModel",
          "model_module_version": "1.2.0",
          "state": {
            "_model_module": "@jupyter-widgets/base",
            "_model_module_version": "1.2.0",
            "_model_name": "LayoutModel",
            "_view_count": null,
            "_view_module": "@jupyter-widgets/base",
            "_view_module_version": "1.2.0",
            "_view_name": "LayoutView",
            "align_content": null,
            "align_items": null,
            "align_self": null,
            "border": null,
            "bottom": null,
            "display": null,
            "flex": null,
            "flex_flow": null,
            "grid_area": null,
            "grid_auto_columns": null,
            "grid_auto_flow": null,
            "grid_auto_rows": null,
            "grid_column": null,
            "grid_gap": null,
            "grid_row": null,
            "grid_template_areas": null,
            "grid_template_columns": null,
            "grid_template_rows": null,
            "height": null,
            "justify_content": null,
            "justify_items": null,
            "left": null,
            "margin": null,
            "max_height": null,
            "max_width": null,
            "min_height": null,
            "min_width": null,
            "object_fit": null,
            "object_position": null,
            "order": null,
            "overflow": null,
            "overflow_x": null,
            "overflow_y": null,
            "padding": null,
            "right": null,
            "top": null,
            "visibility": null,
            "width": null
          }
        },
        "d3d6a98c91c6488dbd2d4bfa6588c81b": {
          "model_module": "@jupyter-widgets/controls",
          "model_name": "DescriptionStyleModel",
          "model_module_version": "1.5.0",
          "state": {
            "_model_module": "@jupyter-widgets/controls",
            "_model_module_version": "1.5.0",
            "_model_name": "DescriptionStyleModel",
            "_view_count": null,
            "_view_module": "@jupyter-widgets/base",
            "_view_module_version": "1.2.0",
            "_view_name": "StyleView",
            "description_width": ""
          }
        },
        "2ea07b1f27174d33a95dc7164448586e": {
          "model_module": "@jupyter-widgets/base",
          "model_name": "LayoutModel",
          "model_module_version": "1.2.0",
          "state": {
            "_model_module": "@jupyter-widgets/base",
            "_model_module_version": "1.2.0",
            "_model_name": "LayoutModel",
            "_view_count": null,
            "_view_module": "@jupyter-widgets/base",
            "_view_module_version": "1.2.0",
            "_view_name": "LayoutView",
            "align_content": null,
            "align_items": null,
            "align_self": null,
            "border": null,
            "bottom": null,
            "display": null,
            "flex": null,
            "flex_flow": null,
            "grid_area": null,
            "grid_auto_columns": null,
            "grid_auto_flow": null,
            "grid_auto_rows": null,
            "grid_column": null,
            "grid_gap": null,
            "grid_row": null,
            "grid_template_areas": null,
            "grid_template_columns": null,
            "grid_template_rows": null,
            "height": null,
            "justify_content": null,
            "justify_items": null,
            "left": null,
            "margin": null,
            "max_height": null,
            "max_width": null,
            "min_height": null,
            "min_width": null,
            "object_fit": null,
            "object_position": null,
            "order": null,
            "overflow": null,
            "overflow_x": null,
            "overflow_y": null,
            "padding": null,
            "right": null,
            "top": null,
            "visibility": null,
            "width": null
          }
        },
        "09eb73a913ba434c8980c38720c8f8ac": {
          "model_module": "@jupyter-widgets/controls",
          "model_name": "ProgressStyleModel",
          "model_module_version": "1.5.0",
          "state": {
            "_model_module": "@jupyter-widgets/controls",
            "_model_module_version": "1.5.0",
            "_model_name": "ProgressStyleModel",
            "_view_count": null,
            "_view_module": "@jupyter-widgets/base",
            "_view_module_version": "1.2.0",
            "_view_name": "StyleView",
            "bar_color": null,
            "description_width": ""
          }
        },
        "3e9279e02336496c9c6489293a8f2abf": {
          "model_module": "@jupyter-widgets/base",
          "model_name": "LayoutModel",
          "model_module_version": "1.2.0",
          "state": {
            "_model_module": "@jupyter-widgets/base",
            "_model_module_version": "1.2.0",
            "_model_name": "LayoutModel",
            "_view_count": null,
            "_view_module": "@jupyter-widgets/base",
            "_view_module_version": "1.2.0",
            "_view_name": "LayoutView",
            "align_content": null,
            "align_items": null,
            "align_self": null,
            "border": null,
            "bottom": null,
            "display": null,
            "flex": null,
            "flex_flow": null,
            "grid_area": null,
            "grid_auto_columns": null,
            "grid_auto_flow": null,
            "grid_auto_rows": null,
            "grid_column": null,
            "grid_gap": null,
            "grid_row": null,
            "grid_template_areas": null,
            "grid_template_columns": null,
            "grid_template_rows": null,
            "height": null,
            "justify_content": null,
            "justify_items": null,
            "left": null,
            "margin": null,
            "max_height": null,
            "max_width": null,
            "min_height": null,
            "min_width": null,
            "object_fit": null,
            "object_position": null,
            "order": null,
            "overflow": null,
            "overflow_x": null,
            "overflow_y": null,
            "padding": null,
            "right": null,
            "top": null,
            "visibility": null,
            "width": null
          }
        },
        "68e49db075834e55a9d4b99d5856d07b": {
          "model_module": "@jupyter-widgets/controls",
          "model_name": "DescriptionStyleModel",
          "model_module_version": "1.5.0",
          "state": {
            "_model_module": "@jupyter-widgets/controls",
            "_model_module_version": "1.5.0",
            "_model_name": "DescriptionStyleModel",
            "_view_count": null,
            "_view_module": "@jupyter-widgets/base",
            "_view_module_version": "1.2.0",
            "_view_name": "StyleView",
            "description_width": ""
          }
        }
      }
    }
  },
  "nbformat": 4,
  "nbformat_minor": 0
}