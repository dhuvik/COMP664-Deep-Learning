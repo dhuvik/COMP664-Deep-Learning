{
 "cells": [
  {
   "cell_type": "code",
   "execution_count": 1,
   "metadata": {
    "id": "pp-R4v8eehJ4"
   },
   "outputs": [],
   "source": [
    "import numpy as np\n",
    "import matplotlib.pyplot as plt\n",
    "from tqdm import tqdm"
   ]
  },
  {
   "cell_type": "code",
   "execution_count": 2,
   "metadata": {
    "id": "up2bDpU9fCk3"
   },
   "outputs": [],
   "source": [
    "def generate_data():\n",
    "    size = 1000\n",
    "    x = np.linspace(0, 1, size)\n",
    "    y = -10*x + 5\n",
    "    y += 15*np.logical_and(x > 0.75, x < 0.8).astype(float)\n",
    "    return x, y"
   ]
  },
  {
   "cell_type": "markdown",
   "metadata": {
    "id": "hTUMzQT3f0wm"
   },
   "source": [
    "# 1. Inspect the data (0.5 points)\n",
    "\n",
    "Using `matplotlib`, create a scatter plot of the data returned by `generate_data()`.\n",
    "What is out of the ordinary about this line?"
   ]
  },
  {
   "cell_type": "code",
   "execution_count": 3,
   "metadata": {
    "colab": {
     "base_uri": "https://localhost:8080/",
     "height": 295
    },
    "id": "eEfr6MfZfkyh",
    "outputId": "0a796d25-143b-4897-f052-c647c1d15b11"
   },
   "outputs": [
    {
     "data": {
      "image/png": "[encoded data removed]",
      "text/plain": [
       "<Figure size 432x288 with 1 Axes>"
      ]
     },
     "metadata": {
      "needs_background": "light"
     },
     "output_type": "display_data"
    }
   ],
   "source": [
    "x,y = generate_data()\n",
    "plt.scatter(x, y)\n",
    "plt.xlabel('X')\n",
    "plt.ylabel('Y')\n",
    "plt.title('Scatter of generate_data()')\n",
    "plt.show()"
   ]
  },
  {
   "cell_type": "markdown",
   "metadata": {
    "id": "EZrM73lEAVTA"
   },
   "source": [
    "**Answer**: The above scatterplot demonstrates the very interesting property that datapoints where x is inbetween .75 and .80 are offset by a factor of 15. This piecewise function is not differentiable."
   ]
  },
  {
   "cell_type": "markdown",
   "metadata": {
    "id": "DhgvBYNRfzG4"
   },
   "source": [
    "# 2. Implement linear regression (2 points)\n",
    "\n",
    "Implement a basic linear regression model which is fit to the data from `generate_data` using gradient descent.\n",
    "Your model should take the form `y = m*x + b`, where `y` is the output, `x` is the input, `m` is a weight parameter, and `b` is a bias parameter.\n",
    "You must use only `numpy` and derive any derivatives yourself (i.e. no autograd from TensorFlow, MXNet, Pytorch, JAX etc!).\n",
    "You should use a squared-error loss function.\n",
    "You are welcome to use any technique you want to decide when to stop training.\n",
    "Make sure you tune your optimization hyperparameters so that the model converges.\n",
    "Print out or plot the loss over the course of training."
   ]
  },
  {
   "cell_type": "code",
   "execution_count": 4,
   "metadata": {
    "id": "lvyaQ9tCTkOM"
   },
   "outputs": [],
   "source": [
    "# Define the DataLoader Class\n",
    "\n",
    "class DataLoader:\n",
    "  \"\"\"\n",
    "  Implements a Data Loading Class for passing mini-batches to model after\n",
    "  minor processing to ensure that matrix multiplication works. Assumes shuffle\n",
    "  to be true. This is for mini-batch SGD handling.\n",
    "  \"\"\"\n",
    "  def __init__(\n",
    "      self, \n",
    "      inputs,\n",
    "      labels,\n",
    "      batch_size\n",
    "  ):\n",
    "    self.__len__ = len(labels)\n",
    "    self.data = self.gen_tensor(inputs)\n",
    "    self.labels = labels\n",
    "    self.batch_size = batch_size\n",
    "    self.called_idx = np.array([], dtype=int)\n",
    "    self.prefetch = self.__get_idx__()\n",
    "    \n",
    "  \n",
    "  def reshape_input(self, inputs):\n",
    "    '''Reshapes input of dims >= 1 to a matrix of n x n_features'''\n",
    "    n_examples = inputs.shape[0] #Assumes first dim is n_examples\n",
    "    assert n_examples == self.__len__\n",
    "    return inputs.reshape(n_examples, int(inputs.size/n_examples))\n",
    "  \n",
    "  def gen_tensor(self, inputs):\n",
    "    '''Checks for iterable inputs and runs reshape above''' \n",
    "    try:\n",
    "      iter(inputs)\n",
    "    except TypeError:\n",
    "      print(\"Inputs is not an iterable.\")\n",
    "    return self.reshape_input(inputs)\n",
    "  \n",
    "  def __get_idx__(self):\n",
    "    '''Check that we have enough examples for another batch_size'''\n",
    "    if self.__len__ - len(self.called_idx) < self.batch_size:\n",
    "      # On epoch end reset the called indices\n",
    "      self.called_idx = np.array([], dtype=int)\n",
    "    remaining_idx = np.delete(np.arange(self.__len__), list(self.called_idx))\n",
    "    idx = np.random.choice(remaining_idx, self.batch_size, replace=False)\n",
    "    self.called_idx = np.append(self.called_idx, idx)\n",
    "    return idx\n",
    "\n",
    "  def _get_item_(self):\n",
    "    '''Get a batch of the data when called with batch_size'''\n",
    "    sampled_idx = self.__get_idx__()\n",
    "    return (self.data[sampled_idx, :], self.labels[sampled_idx])\n",
    "\n",
    "  def __len__(self):\n",
    "    return self.__len__ // self.batch_size"
   ]
  },
  {
   "cell_type": "code",
   "execution_count": 5,
   "metadata": {
    "id": "RjPjNFSugtci"
   },
   "outputs": [],
   "source": [
    "# Define the LinearRegression Model Class\n",
    "\n",
    "class LinearRegression:\n",
    "    \"\"\"\n",
    "    Implements a Linear Regression Model Class for performing linear regression\n",
    "    without the closed form solution. Randomly initializes weights and biases \n",
    "    before using mini-batch SGD to optimize weights\n",
    "    \"\"\"\n",
    "    def __init__(\n",
    "        self,\n",
    "        input_dim\n",
    "    ):\n",
    "        self.params = {'weights': np.random.randn(input_dim),\n",
    "                       'bias': 0}\n",
    "\n",
    "    def forward(self, X):\n",
    "        #Vectorized implementation of Forward Call w// broadcasting for bias\n",
    "        return X @ self.params['weights'] + self.params['bias']"
   ]
  },
  {
   "cell_type": "code",
   "execution_count": 7,
   "metadata": {
    "id": "GuyLtCS-oiIG"
   },
   "outputs": [],
   "source": [
    "# Define the Gradient Descent Class\n",
    "\n",
    "class SGD:\n",
    "    \"\"\"\n",
    "    Implements gradient descent algorithm. Works with arbitrary models\n",
    "    and loss functions (whose gradients are manually implemented).\n",
    "    \"\"\"\n",
    "    def __init__(\n",
    "        self,\n",
    "        model, \n",
    "        learning_rate,\n",
    "        grad_fxn\n",
    "    ):\n",
    "        self.eta = learning_rate\n",
    "        self.grad = grad_fxn\n",
    "        self.model = model\n",
    "\n",
    "    def step(self, inputs, preds, labels):\n",
    "        grads = self.grad(inputs, preds, labels)\n",
    "        self.update_params(grads)\n",
    "\n",
    "    def update_params(self, grads):\n",
    "        params = self.model.params.keys()\n",
    "        for i,p in enumerate(params):\n",
    "            self.model.params[p] -= self.eta*grads[i]"
   ]
  },
  {
   "cell_type": "code",
   "execution_count": 32,
   "metadata": {
    "id": "ibQEZruaVWfn"
   },
   "outputs": [],
   "source": [
    "# Define the Train_Iters Function\n",
    "def train_iters(iterations, data_loader, model, lossfn, optimizer):\n",
    "    running_loss = 0\n",
    "    loss = []\n",
    "    for i in tqdm(range(iterations)):\n",
    "        x,y = data_loader._get_item_()\n",
    "        preds = model.forward(x)\n",
    "        running_loss += lossfn(preds, y)\n",
    "        if  (i + 1) % 1000 == 0:\n",
    "            loss += [running_loss/1000]\n",
    "            running_loss = 0\n",
    "        optimizer.step(x, preds, y)\n",
    "    return loss"
   ]
  },
  {
   "cell_type": "code",
   "execution_count": 33,
   "metadata": {
    "id": "dw0Np1O-7XAF"
   },
   "outputs": [],
   "source": [
    "# Define the L2 Loss Function and Gradients\n",
    "\n",
    "def l2_loss(preds, targets):\n",
    "    return 1/2*np.sum(np.square(preds-targets))\n",
    "\n",
    "def l2_grad(inputs, preds, targets):\n",
    "    weights_grad = np.dot(inputs.T, preds-targets)/len(preds)\n",
    "    bias_grad = np.dot(np.ones(len(targets)).T, preds-targets)/len(preds) \n",
    "    return weights_grad, bias_grad"
   ]
  },
  {
   "cell_type": "code",
   "execution_count": 76,
   "metadata": {
    "id": "2P0oz6CzLTay"
   },
   "outputs": [],
   "source": [
    "dl = DataLoader(x, y , 64)\n",
    "lr = LinearRegression(1)\n",
    "sgd = SGD(lr, .01, l2_grad)"
   ]
  },
  {
   "cell_type": "code",
   "execution_count": 77,
   "metadata": {
    "colab": {
     "base_uri": "https://localhost:8080/",
     "height": 300
    },
    "id": "GokBaQSiLolA",
    "outputId": "e9eb9fe7-fe80-42cf-86cb-3b2088737663"
   },
   "outputs": [
    {
     "name": "stderr",
     "output_type": "stream",
     "text": [
      "100%|██████████| 10000/10000 [00:01<00:00, 7573.01it/s]\n"
     ]
    },
    {
     "data": {
      "text/plain": [
       "[<matplotlib.lines.Line2D at 0x7f4ed4e66880>]"
      ]
     },
     "execution_count": 77,
     "metadata": {},
     "output_type": "execute_result"
    },
    {
     "data": {
      "image/png": "[encoded data removed]",
      "text/plain": [
       "<Figure size 432x288 with 1 Axes>"
      ]
     },
     "metadata": {
      "needs_background": "light"
     },
     "output_type": "display_data"
    }
   ],
   "source": [
    "train_loss = train_iters(10000, dl, lr, l2_loss, sgd)\n",
    "plt.plot(np.arange(len(train_loss)), train_loss)"
   ]
  },
  {
   "cell_type": "markdown",
   "metadata": {
    "id": "p10i06F4KCJl"
   },
   "source": [
    "# 3. Analyze the result (0.5 points)\n",
    "\n",
    "Print out the values of `w` and `b` found by your model after training and compare them to the ground truth values (which can be found inside the code of the `generate_data` function).\n",
    "Are they close?\n",
    "Recreate the scatter plot you generated in question 1 and plot the model as a line on the same plot.\n",
    "What went wrong?\n"
   ]
  },
  {
   "cell_type": "code",
   "execution_count": 78,
   "metadata": {
    "colab": {
     "base_uri": "https://localhost:8080/"
    },
    "id": "jg_fjjiBh-FJ",
    "outputId": "0037f5bf-82d2-4e8f-af07-3bc1343f1b24"
   },
   "outputs": [
    {
     "data": {
      "text/plain": [
       "{'weights': array([-7.50894526]), 'bias': 4.5158849743398415}"
      ]
     },
     "execution_count": 78,
     "metadata": {},
     "output_type": "execute_result"
    }
   ],
   "source": [
    "lr.params"
   ]
  },
  {
   "cell_type": "code",
   "execution_count": 79,
   "metadata": {
    "id": "JcP-OPYZKHha"
   },
   "outputs": [],
   "source": [
    "def plot_lr_fit(weight, bias):\n",
    "    x, y = generate_data()\n",
    "    y_pred = weight*x + bias\n",
    "    plt.scatter(x,y)\n",
    "    plt.scatter(x,y_pred)\n",
    "    plt.ylabel('y')\n",
    "    plt.xlabel('x')\n",
    "    plt.legend(['Empirical Data', 'Slope: {}. Intercept: {}'.format(round(weight, 3), round(bias, 3))])\n",
    "    plt.show()"
   ]
  },
  {
   "cell_type": "code",
   "execution_count": 80,
   "metadata": {
    "colab": {
     "base_uri": "https://localhost:8080/",
     "height": 279
    },
    "id": "pdPx-0-gK3gw",
    "outputId": "17673e10-5988-4622-a40c-f3cdabdd3d46"
   },
   "outputs": [
    {
     "data": {
      "image/png": "[encoded data removed]",
      "text/plain": [
       "<Figure size 432x288 with 1 Axes>"
      ]
     },
     "metadata": {
      "needs_background": "light"
     },
     "output_type": "display_data"
    }
   ],
   "source": [
    "plot_lr_fit(lr.params['weights'][0], lr.params['bias'])"
   ]
  },
  {
   "cell_type": "markdown",
   "metadata": {
    "id": "PtnLN-bol1Qv"
   },
   "source": [
    "# 4. \"Robust\" linear regression (0.5 points)\n",
    "\n",
    "Implement a linear regression model exactly like the one you created in question 2, except using a L1 loss (absolute difference) instead of a squared L2 loss (squared error).\n",
    "You should be able to copy and paste your code from question 2 and only change a few lines.\n",
    "Print out or plot the loss over the course of training.\n",
    "What is different about the loss trajectory compared to the squared-error linear regression?"
   ]
  },
  {
   "cell_type": "code",
   "execution_count": 83,
   "metadata": {
    "id": "TSCjJq0VLDRT"
   },
   "outputs": [],
   "source": [
    "# Define the L1 Loss Function and Gradients\n",
    "\n",
    "def l1_loss(preds, targets):\n",
    "    return np.sum(np.abs(preds-targets))\n",
    "\n",
    "def l1_grad(inputs, preds, targets):\n",
    "    # Taken by piecewise derivative calculation\n",
    "    weights_grad = np.dot(inputs.T, np.sign(preds-targets))/len(preds)\n",
    "    bias_grad = np.dot(np.ones(len(targets)).T, np.sign(preds-targets))/len(preds)\n",
    "    return weights_grad, bias_grad"
   ]
  },
  {
   "cell_type": "code",
   "execution_count": 91,
   "metadata": {
    "id": "XTMILn2gSVW7"
   },
   "outputs": [],
   "source": [
    "dl = DataLoader(x, y , 64)\n",
    "lr = LinearRegression(1)\n",
    "sgd = SGD(lr, .01, l1_grad)"
   ]
  },
  {
   "cell_type": "code",
   "execution_count": 92,
   "metadata": {
    "colab": {
     "base_uri": "https://localhost:8080/",
     "height": 300
    },
    "id": "thlewp81Simq",
    "outputId": "93ed089a-9d04-4977-d9ed-5ea7b78cdf3f"
   },
   "outputs": [
    {
     "name": "stderr",
     "output_type": "stream",
     "text": [
      "100%|██████████| 10000/10000 [00:01<00:00, 7583.80it/s]\n"
     ]
    },
    {
     "data": {
      "text/plain": [
       "[<matplotlib.lines.Line2D at 0x7f4ed4bc9d60>]"
      ]
     },
     "execution_count": 92,
     "metadata": {},
     "output_type": "execute_result"
    },
    {
     "data": {
      "image/png": "[encoded data removed]",
      "text/plain": [
       "<Figure size 432x288 with 1 Axes>"
      ]
     },
     "metadata": {
      "needs_background": "light"
     },
     "output_type": "display_data"
    }
   ],
   "source": [
    "train_loss = train_iters(10000, dl, lr, l1_loss, sgd)\n",
    "plt.plot(np.arange(len(train_loss)), train_loss)"
   ]
  },
  {
   "cell_type": "markdown",
   "metadata": {
    "id": "OTg85d1SlqQ0"
   },
   "source": [
    "**Answer**: The loss trajectory is less smooth and it has a visible kink in the curve. There is also a substantially fewer number of points where the trajectory of the curve changes. There are only two bends in this trajectory whereas in the L2 loss it changes at every point sampled."
   ]
  },
  {
   "cell_type": "markdown",
   "metadata": {
    "id": "xT_JGyk7LXTH"
   },
   "source": [
    "# 5. Analyze the result (0.5 points)\n",
    "\n",
    "Print out the new values of `w` and `b` found by your model after training.\n",
    "Are they closer to the true values used in `generate_data`?\n",
    "Plot the model as a line again.\n",
    "Why do you think the behavior is different?"
   ]
  },
  {
   "cell_type": "code",
   "execution_count": 93,
   "metadata": {
    "colab": {
     "base_uri": "https://localhost:8080/"
    },
    "id": "5n9x_F2mmhzk",
    "outputId": "1d04080f-2a88-495b-8348-eb46268b38c0"
   },
   "outputs": [
    {
     "data": {
      "text/plain": [
       "{'weights': array([-9.99404795]), 'bias': 5.007812499999602}"
      ]
     },
     "execution_count": 93,
     "metadata": {},
     "output_type": "execute_result"
    }
   ],
   "source": [
    "lr.params"
   ]
  },
  {
   "cell_type": "code",
   "execution_count": 95,
   "metadata": {
    "colab": {
     "base_uri": "https://localhost:8080/",
     "height": 279
    },
    "id": "A-dEmZpuieN9",
    "outputId": "c8a3c09d-2052-434d-ccbc-661ad61046a9"
   },
   "outputs": [
    {
     "data": {
      "image/png": "[encoded data removed]",
      "text/plain": [
       "<Figure size 432x288 with 1 Axes>"
      ]
     },
     "metadata": {
      "needs_background": "light"
     },
     "output_type": "display_data"
    }
   ],
   "source": [
    "plot_lr_fit(lr.params['weights'][0], lr.params['bias'])"
   ]
  },
  {
   "cell_type": "markdown",
   "metadata": {
    "id": "_ACj5qOFllW0"
   },
   "source": [
    "**Answer**: The behavior of the l1 loss is more robust to outliers in data due to the fact that the l2 loss function takes the  square of the difference of the predictions. Hence the resulting parameters are pushed towards values that yield a curve fit that gets pulled in the direction of the outliers. In the l1 loss, the square doesn't dominate so much so that the sheer number of points that are non-outliers are able to dictate the optimized parameters. In choosing which loss to use for regression, knowing whether there are outliers in the data has critical downstream effects. Conversely, if one has data that is tightly clustered, using the l2 loss will help the model converge far quicker and is preferable. \n"
   ]
  }
 ],
 "metadata": {
  "colab": {
   "provenance": []
  },
  "gpuClass": "standard",
  "kernelspec": {
   "display_name": "Python 3 (ipykernel)",
   "language": "python",
   "name": "python3"
  },
  "language_info": {
   "codemirror_mode": {
    "name": "ipython",
    "version": 3
   },
   "file_extension": ".py",
   "mimetype": "text/x-python",
   "name": "python",
   "nbconvert_exporter": "python",
   "pygments_lexer": "ipython3",
   "version": "3.10.8"
  }
 },
 "nbformat": 4,
 "nbformat_minor": 1
}
