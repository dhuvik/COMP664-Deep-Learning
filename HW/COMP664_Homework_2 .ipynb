{
  "nbformat": 4,
  "nbformat_minor": 0,
  "metadata": {
    "colab": {
      "provenance": []
    },
    "kernelspec": {
      "name": "python3",
      "display_name": "Python 3"
    },
    "language_info": {
      "name": "python"
    }
  },
  "cells": [
    {
      "cell_type": "markdown",
      "source": [
        "**Disclaimer**: For this assignment, Kerem and I compared graphs as a sanity check and he helped me debug a missing 1/N for my gradient update function."
      ],
      "metadata": {
        "id": "EP1MdU219exo"
      }
    },
    {
      "cell_type": "markdown",
      "source": [
        "# 1. Logistic Regression for Binary Classification (1.5 points)\n",
        "\n",
        "In softmax regression, the model's output probabilities are given by\n",
        "\n",
        "$$p(y|\\mathbf{o}) = \\mathrm{softmax}(\\mathbf{o})_y = \\frac{\\exp(o_y)}{\\sum_{y'} \\exp(o_{y'})}$$\n",
        "\n",
        "1. Show that this parametrization has a spurious degree of freedom. That is, show that both $\\mathbf{o}$ and $\\mathbf{o} + c$ with $c \\in \\mathbb{R}$ lead to the same probability estimate.\n",
        "\n",
        "$\\textbf{Answer:}$ Assuming the pythonic implementation where a scalar c $\\in \\mathbb{R}$ can be added elementwise to a vector by broadcasting, we get the following for $o \\in \\mathbb{R}^k$:\n",
        "\n",
        "$$ p(y|\\mathbf{o + c}) = \\frac{\\exp(o_k + c)}{\\sum_{j=1}^k \\exp(o_{j}  + c)} = \\frac{\\exp(o_k)\\exp(c)}{\\sum_{j=1}^k \\exp(o_{j})\\exp(c)} = \\frac{\\exp(o_k)\\exp(c)}{\\exp(c)\\sum_{j=1}^k \\exp(o_{j})}  = \\frac{\\exp(o_k)}{\\sum_{j=1}^k \\exp(o_{j})} $$\n",
        "\n",
        "2. For binary classification, i.e. whenever we have only two classes $\\{-1, 1\\}$, we can arbitrarily set $o_{-1} = 0$. Using the shorthand $o = o_1$ show that this is equivalent to \n",
        "\n",
        "$$p(y=1|o) = \\frac{1}{1 + \\exp(-o)}$$\n",
        "\n",
        "$\\textbf{Answer:}$ The probability that y=1 is given by the quantity $\\exp(o_1)$ over the partition function:\n",
        "\n",
        "$$p(y=1|o) = \\frac{\\exp(o_1)}{ \\exp(o_{-1}) + \\exp(o_1)}$$\n",
        "\n",
        "Factoring out a $\\exp(o_1)$ we get:\n",
        "\n",
        "$$ = \\frac{1}{ \\frac{\\exp(o_{-1})}{\\exp(o_{1})} + 1}$$\n",
        "\n",
        "Substituting in 0 for $o_{-1}$ we see that:\n",
        "\n",
        "$$ = \\frac{1}{ \\frac{\\exp(0)}{\\exp(o_{1})} + 1}  =  \\frac{1}{ \\frac{1}{\\exp(o_{1})} + 1} = \\frac{1}{\\exp(-o_{1}) + 1} $$\n",
        "\n",
        "3. Show that the log-likelihood loss (often called logistic loss) for labels $y \\in \\{-1, 1\\}$ is thus given by \n",
        "\n",
        "$$-\\log p(y|o) = \\log (1 + \\exp(-y \\cdot o))$$\n",
        "\n",
        "$\\textbf{Answer:}$ We first derive the likelihood:\n",
        "\n",
        "$$ L(\\mathbf{o},y) = ∏_{i=1}^{n} p(y^{(i)}|\\mathbf{o}) = ∏_{i=1}^{n} \\mathrm{softmax(\\mathbf{o}})_{y_i} =  ∏_{i=1}^n \\frac{\\exp(o_{y_i})}{\\exp(o_{y_i}) + \\exp(o_{-y_i})} $$\n",
        " \n",
        "Using the trick in Problem 2, we can divide out an $\\exp(o_{y_i})$ simplify the above product to:\n",
        "\n",
        "$$  ∏_{i=1}^n \\frac{1}{1+\\frac{\\exp(o_{-y_i})}{\\exp(o_{y_i})}} $$ \n",
        "\n",
        "If $y_i = 1$ then the inside of the product becomes: $\\frac{1}{1+\\frac{\\exp(o_{-1})}{\\exp(o_{1})}} = \\frac{1}{1+\\exp(-o_{1})}$\n",
        "\n",
        "If $y_i = -1$ then the inside of the product becomes: $\\frac{1}{1+\\frac{\\exp(o_{1})}{\\exp(o_{-11})}} = \\frac{1}{1+\\exp(o_{1})}$\n",
        "\n",
        "Combining the two can be done by rewriting the previous product as:\n",
        "\n",
        "$$ ∏_{i=1}^n \\frac{1}{1+\\exp(-y_i * o_{1})}$$\n",
        "\n",
        "The negative log of the likelihood function yields:\n",
        "\n",
        "\n",
        "$$ -\\log [L(\\mathbf{o},y)] = -\\sum_{i=1}^{n} \\log [\\frac{1}{1+\\exp(-y_i * o_{1})}]  = -\\sum_{i=1}^{n} \\log(1) - \\log(1+\\exp(-y_i * o_{1}))$$\n",
        "\n",
        "$$ = \\sum_{i=1}^n \\log(1 + exp(-y_i * o_1))  = \\sum_{i=1}^n \\log(1 + exp(-y_i * o))$$ \n",
        "\n",
        " As we can see by the functional form of the loss function, for a single example we get that:\n",
        "\n",
        " $$-\\log p(y|o) = \\log (1 + \\exp(-y \\cdot o))$$\n",
        "\n",
        "\n",
        "4. Show that for $y = 1$ the logistic loss asymptotes to $0$ for $o \\to \\infty$ and to $\\infty$ for $o \\to -\\infty$. \n",
        "\n",
        "\n",
        "$$\\lim_{o \\to ∞} \\log(1 + \\exp(-1 * o)) = \\lim_{o \\to \\infty} \\log(1 + \\frac{1}{\\exp(o)}) ≈ \\log(1 + 0) = 0$$\n",
        "\n",
        "$$\\lim_{o \\to -∞} \\log(1 + \\exp(-1 * o)) = \\lim_{o \\to \\infty} \\log(1 + \\exp(o)) ≈ \\log(1 + ∞) = \\infty$$"
      ],
      "metadata": {
        "id": "0VV0ToY_fa2M"
      }
    },
    {
      "cell_type": "markdown",
      "source": [
        "# 2. Implementing the logistic loss (1 point)\n",
        "\n",
        "1. Implement the binary logistic loss $l(y,o) = \\log (1 + \\exp(-y \\cdot o))$ in numpy.\n",
        "1. Plot its values for $y \\in \\{-1, 1\\}$ over the range of $o \\in [-5, 5]$.\n",
        "1. Derive the derivative of $l(y,o)$ and show your work. Then, in a new plot, plot derivative of $l(y,o)$ with respect to $o$ for $y \\in \\{-1, 1\\}$ and for $o \\in [-5, 5]$ without using any automatic differentiation software (e.g. Pytorch, TensorFlow, JAX, etc.).\n",
        "1. In a new plot, plot $l(y,o)$ with $y = 1$ and $o ∈ [-1000, 1000]$. What happens for large positive and large negative values of $o$? Why?"
      ],
      "metadata": {
        "id": "dMcRnYVRfxfp"
      }
    },
    {
      "cell_type": "code",
      "source": [
        "# Import Dependencies\n",
        "\n",
        "import numpy as np\n",
        "import matplotlib.pyplot as plt\n",
        "from tqdm import tqdm"
      ],
      "metadata": {
        "id": "dnVkQAOVFraW"
      },
      "execution_count": null,
      "outputs": []
    },
    {
      "cell_type": "markdown",
      "source": [
        "### 2.1 Binary Logistic Loss in Numpy"
      ],
      "metadata": {
        "id": "GMHO5gNkwrqr"
      }
    },
    {
      "cell_type": "code",
      "source": [
        "def BLL(y, o):\n",
        "    return np.log(1 + np.exp(-1*y*o))"
      ],
      "metadata": {
        "id": "Nijmr0HRwq-t"
      },
      "execution_count": null,
      "outputs": []
    },
    {
      "cell_type": "code",
      "source": [
        "# Test the Binary Logistic Loss with what we learned in 1.4\n",
        "\n",
        "assert BLL(1, -9999999999) == np.inf\n",
        "assert BLL(1, 99999999999) == 0.0"
      ],
      "metadata": {
        "colab": {
          "base_uri": "https://localhost:8080/"
        },
        "id": "ocRMt3MSxi5u",
        "outputId": "fdf2e1ce-92c2-48e3-b5fc-0089431bc5e9"
      },
      "execution_count": null,
      "outputs": [
        {
          "output_type": "stream",
          "name": "stderr",
          "text": [
            "<ipython-input-4-45b9c2e28e32>:2: RuntimeWarning: overflow encountered in exp\n",
            "  return np.log(1 + np.exp(-1*y*o))\n"
          ]
        }
      ]
    },
    {
      "cell_type": "code",
      "source": [
        "def BLL2(y, o):\n",
        "    \"\"\"\n",
        "    This version implements the clip so that numerical overflow/underflow is \n",
        "    avoided. Clips the values of the logits to the range [-90, 90].\n",
        "    \"\"\"\n",
        "    o_c = np.clip(o, -90, 90)\n",
        "    return np.log(1 + np.exp(-1*y*o_c))"
      ],
      "metadata": {
        "id": "dhQwDAXawX2q"
      },
      "execution_count": null,
      "outputs": []
    },
    {
      "cell_type": "code",
      "source": [
        "# Test the Binary Logistic Loss with what we learned in 1.4\n",
        "\n",
        "BLL2(1, -9999999999)\n",
        "BLL2(1, 99999999999)"
      ],
      "metadata": {
        "colab": {
          "base_uri": "https://localhost:8080/"
        },
        "outputId": "23dfa50f-87f9-47e6-ed2c-96f602a21ee7",
        "id": "hNeeKkWSFLOP"
      },
      "execution_count": null,
      "outputs": [
        {
          "output_type": "execute_result",
          "data": {
            "text/plain": [
              "0.0"
            ]
          },
          "metadata": {},
          "execution_count": 7
        }
      ]
    },
    {
      "cell_type": "markdown",
      "source": [
        "### 2.2 Plotting the BLL"
      ],
      "metadata": {
        "id": "5CDPimKdyKVB"
      }
    },
    {
      "cell_type": "code",
      "source": [
        "o = np.linspace(-5, 5, 100)\n",
        "y = [-1, 1]\n",
        "for y_i in y:\n",
        "    plt.plot(o, BLL(y_i, o))\n",
        "plt.xlabel('O')\n",
        "plt.ylabel('Binary Logistic Loss')\n",
        "plt.legend(['y_i=-1', 'y_i=1'])\n",
        "plt.title('Binary Logistic Loss Across Both Classes Along [-5,5]')\n",
        "plt.show()"
      ],
      "metadata": {
        "colab": {
          "base_uri": "https://localhost:8080/",
          "height": 295
        },
        "id": "qFXwT3foyKiK",
        "outputId": "a6f8b10d-c58d-4738-c540-4f0fafd23c34"
      },
      "execution_count": null,
      "outputs": [
        {
          "output_type": "display_data",
          "data": {
            "text/plain": [
              "<Figure size 432x288 with 1 Axes>"
            ],
            "image/png": "[encoded data removed]"
          },
          "metadata": {
            "needs_background": "light"
          }
        }
      ]
    },
    {
      "cell_type": "markdown",
      "source": [
        "### 2.3 Computing the Derivative of the Loss Function\n",
        "\n",
        "$$ \\frac{\\partial}{\\partial_o} l(o,y) = \\frac{\\partial}{\\partial_o} \\log(1 + \\exp(-y*o)) = \\frac{\\frac{\\partial}{\\partial_o}[1 + \\exp(-y*o)]}{1 + \\exp(-y*o)} = \\frac{-y*\\exp(-y*o)}{1 + \\exp(-y*o)} = \\frac{-y}{\\exp(y*o) + 1}$$"
      ],
      "metadata": {
        "id": "86MElfF3z-UG"
      }
    },
    {
      "cell_type": "code",
      "source": [
        "def dBLL(y, o):\n",
        "    return (-1*y)/(np.exp(y*o)+1)"
      ],
      "metadata": {
        "id": "Vg9XhF1Az9-t"
      },
      "execution_count": null,
      "outputs": []
    },
    {
      "cell_type": "code",
      "source": [
        "for y_i in y:\n",
        "    plt.plot(o, dBLL(y_i, o))\n",
        "plt.xlabel('O')\n",
        "plt.ylabel('Derivative of Binary Logistic Loss')\n",
        "plt.axhline(y=0.0, color='r', linestyle='--')\n",
        "#plt.axhline(y=0.5, color='g', linestyle='--')\n",
        "#plt.axhline(y=-0.5, color='g', linestyle='--')\n",
        "plt.legend(['y_i=-1', 'y_i=1'])\n",
        "plt.title('Derivative of Binary Logistic Loss Across Both Classes Along [-5,5]')\n",
        "plt.show()"
      ],
      "metadata": {
        "colab": {
          "base_uri": "https://localhost:8080/",
          "height": 295
        },
        "id": "4-nc3btb3Nqh",
        "outputId": "bb64f841-3760-4969-ecb8-0786cdede69b"
      },
      "execution_count": null,
      "outputs": [
        {
          "output_type": "display_data",
          "data": {
            "text/plain": [
              "<Figure size 432x288 with 1 Axes>"
            ],
            "image/png": "[encoded data removed]"
          },
          "metadata": {
            "needs_background": "light"
          }
        }
      ]
    },
    {
      "cell_type": "markdown",
      "source": [
        "### 2.4 Plotting BLL for the Positive Class At Large Values of O"
      ],
      "metadata": {
        "id": "yDh-WUJs4YBd"
      }
    },
    {
      "cell_type": "code",
      "source": [
        "o = np.linspace(-1000, 1000, 1000)\n",
        "y = [-1, 1]\n",
        "for y_i in y:\n",
        "    plt.plot(o, BLL(y_i, o))\n",
        "plt.xlabel('O')\n",
        "plt.ylabel('Binary Logistic Loss')\n",
        "plt.legend(['y_i=-1', 'y_i=1'])\n",
        "plt.title('Binary Logistic Loss Across Both Classes Along [-5,5]')\n",
        "plt.show()"
      ],
      "metadata": {
        "colab": {
          "base_uri": "https://localhost:8080/",
          "height": 364
        },
        "id": "BAk5hOag4X1b",
        "outputId": "563bca01-d193-4c54-dd64-e566d0ddb954"
      },
      "execution_count": null,
      "outputs": [
        {
          "output_type": "stream",
          "name": "stderr",
          "text": [
            "<ipython-input-4-45b9c2e28e32>:2: RuntimeWarning: overflow encountered in exp\n",
            "  return np.log(1 + np.exp(-1*y*o))\n",
            "<ipython-input-4-45b9c2e28e32>:2: RuntimeWarning: overflow encountered in exp\n",
            "  return np.log(1 + np.exp(-1*y*o))\n"
          ]
        },
        {
          "output_type": "display_data",
          "data": {
            "text/plain": [
              "<Figure size 432x288 with 1 Axes>"
            ],
            "image/png": "[encoded data removed]"
          },
          "metadata": {
            "needs_background": "light"
          }
        }
      ]
    },
    {
      "cell_type": "code",
      "source": [
        "o = np.linspace(-1000, 1000, 1000)\n",
        "y = [-1, 1]\n",
        "for y_i in y:\n",
        "    plt.plot(o, BLL2(y_i, o))\n",
        "plt.xlabel('O')\n",
        "plt.ylabel('Binary Logistic Loss')\n",
        "plt.legend(['y_i=-1', 'y_i=1'])\n",
        "plt.title('Binary Logistic Loss Across Both Classes Along [-5,5]')\n",
        "plt.show()"
      ],
      "metadata": {
        "colab": {
          "base_uri": "https://localhost:8080/",
          "height": 295
        },
        "id": "jQ8sBUYSw5HR",
        "outputId": "cc8b5286-d7fc-4d2e-abf9-b52c8e7bfafd"
      },
      "execution_count": null,
      "outputs": [
        {
          "output_type": "display_data",
          "data": {
            "text/plain": [
              "<Figure size 432x288 with 1 Axes>"
            ],
            "image/png": "[encoded data removed]"
          },
          "metadata": {
            "needs_background": "light"
          }
        }
      ]
    },
    {
      "cell_type": "markdown",
      "source": [
        "At really large or small values of o we encounter an error where the computer doesn't allocate enough space to carry the precision required by the computation (overflow and underflow)."
      ],
      "metadata": {
        "id": "9nvOEDxg5DoV"
      }
    },
    {
      "cell_type": "markdown",
      "source": [
        "# 3. Implementing logistic regression (1.5 points)\n",
        "\n",
        "Implement a basic logistic regression model and fit it to the data from the new `generate_data` function (below) using gradient descent.\n",
        "Your model should take the form `o = m*x + b`, where `o` is the output (logits), `x` is the input, `m` is a weight parameter, and `b` is a bias parameter.\n",
        "Train the model using the logistic loss function you derived in the previous problem.\n",
        "You must use only `numpy` and derive any derivatives yourself (i.e. no autograd from TensorFlow, MXNet, Pytorch, JAX etc!).\n",
        "Print out or plot the loss over the course of training.\n",
        "You should be able to get a loss that is close to zero by the end of training - make sure you achieve this and **explain why**."
      ],
      "metadata": {
        "id": "pSBRk8vpsqA3"
      }
    },
    {
      "cell_type": "code",
      "source": [
        "def generate_data():\n",
        "    size = 1000\n",
        "    rng = np.random.default_rng(seed=0)\n",
        "    y = 2*rng.integers(0, 2, size) - 1\n",
        "    x = rng.standard_normal((1000,)) + 4*y\n",
        "    return x, y"
      ],
      "metadata": {
        "id": "L150buNSoFes"
      },
      "execution_count": null,
      "outputs": []
    },
    {
      "cell_type": "markdown",
      "source": [
        "### 3.1 Exploratory Data Analysis (EDA)"
      ],
      "metadata": {
        "id": "KPuL2bzQ_OtE"
      }
    },
    {
      "cell_type": "code",
      "source": [
        "x,y = generate_data()\n",
        "\n",
        "plt.scatter(x,y)\n",
        "plt.title('Generated Data')\n",
        "plt.xlabel('x')\n",
        "plt.ylabel('y')\n",
        "plt.legend(['Data'])\n",
        "plt.show()"
      ],
      "metadata": {
        "colab": {
          "base_uri": "https://localhost:8080/",
          "height": 295
        },
        "id": "Jks5XMEV5K6U",
        "outputId": "cb50ed0c-36ec-4691-9b46-9710f1894faa"
      },
      "execution_count": null,
      "outputs": [
        {
          "output_type": "display_data",
          "data": {
            "text/plain": [
              "<Figure size 432x288 with 1 Axes>"
            ],
            "image/png": "[encoded data removed]"
          },
          "metadata": {
            "needs_background": "light"
          }
        }
      ]
    },
    {
      "cell_type": "markdown",
      "source": [
        "### 3.2 Defining the Various Classes and Methods"
      ],
      "metadata": {
        "id": "cPowN00V_R4J"
      }
    },
    {
      "cell_type": "code",
      "source": [
        "# Define the DataLoader Class\n",
        "\n",
        "class DataLoader:\n",
        "    \"\"\"\n",
        "    Implements a Data Loading Class for passing mini-batches to model after\n",
        "    minor processing to ensure that matrix multiplication works. Assumes shuffle\n",
        "    to be true.\n",
        "    \"\"\"\n",
        "    def __init__(\n",
        "          self, \n",
        "          inputs,\n",
        "          labels,\n",
        "          batch_size\n",
        "    ):\n",
        "        self.__len__ = len(labels)\n",
        "        self.data = self.gen_tensor(inputs)\n",
        "        self.labels = labels\n",
        "        self.batch_size = batch_size\n",
        "        self.called_idx = np.array([], dtype=int)\n",
        "        self.prefetch = self.__get_idx__()\n",
        "\n",
        "  \n",
        "    def reshape_input(self, inputs):\n",
        "        '''Reshapes input of dims >= 1 to a matrix of n x n_features'''\n",
        "        n_examples = inputs.shape[0] #Assumes first dim is n_examples\n",
        "        assert n_examples == self.__len__\n",
        "        return inputs.reshape(n_examples, int(inputs.size/n_examples))\n",
        "\n",
        "    def gen_tensor(self, inputs):\n",
        "        '''Checks for iterable inputs and runs reshape above''' \n",
        "        try:\n",
        "            iter(inputs)\n",
        "        except TypeError:\n",
        "            print(\"Inputs is not an iterable.\")\n",
        "        return self.reshape_input(inputs)\n",
        "\n",
        "    def __get_idx__(self):\n",
        "        '''Check that we have enough examples for another batch_size'''\n",
        "        if self.__len__ - len(self.called_idx) < self.batch_size:\n",
        "          # On epoch end reset the called indices\n",
        "          self.called_idx = np.array([], dtype=int)\n",
        "        remaining_idx = np.delete(np.arange(self.__len__), list(self.called_idx))\n",
        "        idx = np.random.choice(remaining_idx, self.batch_size, replace=False)\n",
        "        self.called_idx = np.append(self.called_idx, idx)\n",
        "        return idx\n",
        "\n",
        "    def _get_item_(self):\n",
        "        '''Get a batch of the data when called with batch_size'''\n",
        "        sampled_idx = self.__get_idx__()\n",
        "        return (self.data[sampled_idx, :], self.labels[sampled_idx])"
      ],
      "metadata": {
        "id": "YxmGXxlA5XKU"
      },
      "execution_count": null,
      "outputs": []
    },
    {
      "cell_type": "code",
      "source": [
        "# Define the sigmoid function and LinearRegression Model Class\n",
        "\n",
        "def sigmoid(z_batched):\n",
        "    # Defines the sigmoid which is a special case of the softmax\n",
        "    z_c = np.clip(z_batched, -90, 90)\n",
        "    return 1/(np.exp(-1*z_c)+1)\n",
        "\n",
        "\n",
        "class LogisticRegression:\n",
        "    \"\"\"\n",
        "    Implements a Linear Regression Model Class for performing linear regression\n",
        "    without the closed form solution. Randomly initializes weights and biases \n",
        "    before using mini-batch SGD to optimize weights\n",
        "    \"\"\"\n",
        "    def __init__(\n",
        "        self,\n",
        "        input_dim\n",
        "    ):\n",
        "        self.params = {'weights': np.random.randn(input_dim),\n",
        "                       'bias': 0}\n",
        "\n",
        "    def forward(self, X):\n",
        "        #Vectorized implementation of Forward Call w// broadcasting for bias\n",
        "        z = X @ self.params['weights'] + self.params['bias']\n",
        "        # zt = np.asarray([min(abs(zi), 90) for zi in z]) * np.sign(z) \n",
        "        return z\n",
        "\n",
        "    def predict(self, X):\n",
        "        return np.round(sigmoid(1*self.forward(X)))"
      ],
      "metadata": {
        "id": "aYcz3_Sx5qaM"
      },
      "execution_count": null,
      "outputs": []
    },
    {
      "cell_type": "code",
      "source": [
        "# Define the Gradient Descent Class\n",
        "\n",
        "class SGD:\n",
        "    \"\"\"\n",
        "    Implements gradient descent algorithm. Works with arbitrary models\n",
        "    and loss functions (whose gradients are manually implemented).\n",
        "    \"\"\"\n",
        "    def __init__(\n",
        "        self,\n",
        "        model, \n",
        "        learning_rate,\n",
        "        grad_fxn\n",
        "    ):\n",
        "        self.eta = learning_rate\n",
        "        self.grad = grad_fxn\n",
        "        self.model = model\n",
        "\n",
        "    def step(self, inputs, preds, labels):\n",
        "        grads = self.grad(inputs, preds, labels)\n",
        "        self.update_params(grads)\n",
        "\n",
        "    def update_params(self, grads):\n",
        "        params = self.model.params.keys()\n",
        "        for i,p in enumerate(params):\n",
        "            self.model.params[p] -= self.eta*grads[i]"
      ],
      "metadata": {
        "id": "z7EtYxd4-XG8"
      },
      "execution_count": null,
      "outputs": []
    },
    {
      "cell_type": "code",
      "source": [
        "#Define the Vectorized Loss Function\n",
        "\n",
        "def BLL2_vec(y, o):\n",
        "    \"\"\"\n",
        "    Calculates the loss over a minibatch\n",
        "    \"\"\"\n",
        "    n = len(y)\n",
        "    return np.sum(BLL2(y,o))/n\n",
        "\n",
        "def BLL2_grad(inputs, outs, labels):\n",
        "    \"\"\"\n",
        "    Gradient calculated by hand and simplified to get the following:\n",
        "    \"\"\"\n",
        "    w_grad = np.dot(inputs.T, dBLL(labels, outs))/len(labels)\n",
        "    b_grad = np.dot(np.ones(len(labels)), dBLL(labels, outs))/len(labels)\n",
        "    return w_grad, b_grad"
      ],
      "metadata": {
        "id": "AMzL3n4WAyMs"
      },
      "execution_count": null,
      "outputs": []
    },
    {
      "cell_type": "code",
      "source": [
        "# Define the Train_Iters Function\n",
        "\n",
        "def train_iters(iterations, data_loader, model, lossfn, optimizer):\n",
        "    running_loss = 0\n",
        "    loss = []\n",
        "    for i in tqdm(range(iterations)):\n",
        "        x,y = data_loader._get_item_()\n",
        "        o = model.forward(x)\n",
        "        # preds = model.predict(x)\n",
        "        running_loss += lossfn(y, o)\n",
        "        if  (i + 1) % 100 == 0:\n",
        "            loss += [running_loss/100]\n",
        "            running_loss = 0\n",
        "        optimizer.step(x, o, y)\n",
        "    return loss"
      ],
      "metadata": {
        "id": "96Y4nwvt_d-D"
      },
      "execution_count": null,
      "outputs": []
    },
    {
      "cell_type": "code",
      "source": [
        "dl = DataLoader(x,y, 64)\n",
        "lr = LogisticRegression(1)\n",
        "optim = SGD(lr, .005, BLL2_grad)"
      ],
      "metadata": {
        "id": "CHaqIv-c_rU0"
      },
      "execution_count": null,
      "outputs": []
    },
    {
      "cell_type": "code",
      "source": [
        "training_loss = train_iters(1000, dl, lr, BLL2_vec, optim)"
      ],
      "metadata": {
        "colab": {
          "base_uri": "https://localhost:8080/"
        },
        "id": "sRLeW-Ux_sb5",
        "outputId": "1aafad62-fc1e-417c-a715-1b33640b6280"
      },
      "execution_count": null,
      "outputs": [
        {
          "output_type": "stream",
          "name": "stderr",
          "text": [
            "100%|██████████| 1000/1000 [00:00<00:00, 6153.41it/s]\n"
          ]
        }
      ]
    },
    {
      "cell_type": "code",
      "source": [
        "lr.params"
      ],
      "metadata": {
        "id": "nLl7saxdAjGJ",
        "colab": {
          "base_uri": "https://localhost:8080/"
        },
        "outputId": "11da305e-3b35-4820-c6ef-bdba6fd9937a"
      },
      "execution_count": null,
      "outputs": [
        {
          "output_type": "execute_result",
          "data": {
            "text/plain": [
              "{'weights': array([1.09192195]), 'bias': 0.027598170247818684}"
            ]
          },
          "metadata": {},
          "execution_count": 37
        }
      ]
    },
    {
      "cell_type": "code",
      "source": [
        "plt.plot(training_loss)\n",
        "plt.xlabel(\"Iterations * 100\")\n",
        "plt.ylabel(\"Loss\")\n",
        "plt.title(\"Training Loss over 100s of Iterations\")\n",
        "plt.show()"
      ],
      "metadata": {
        "colab": {
          "base_uri": "https://localhost:8080/",
          "height": 295
        },
        "id": "Kb6GV2ZlrCFr",
        "outputId": "e3f0ece3-1ee7-4cbb-e2f7-54d771d45591"
      },
      "execution_count": null,
      "outputs": [
        {
          "output_type": "display_data",
          "data": {
            "text/plain": [
              "<Figure size 432x288 with 1 Axes>"
            ],
            "image/png": "[encoded data removed]"
          },
          "metadata": {
            "needs_background": "light"
          }
        }
      ]
    },
    {
      "cell_type": "code",
      "source": [
        "plt.scatter(x, lr.predict(x.reshape(-1, 1)), color='orange')\n",
        "plt.scatter(x,y)\n",
        "plt.xlabel('x')\n",
        "plt.ylabel('y')\n",
        "plt.legend(['Predictions', 'Actual'])\n",
        "plt.title('Model Fit vs. Emprical Data')\n",
        "plt.show()"
      ],
      "metadata": {
        "colab": {
          "base_uri": "https://localhost:8080/",
          "height": 295
        },
        "id": "0Bz-pq1tf2pD",
        "outputId": "793aa989-4b77-478d-862e-dac29f313a29"
      },
      "execution_count": null,
      "outputs": [
        {
          "output_type": "display_data",
          "data": {
            "text/plain": [
              "<Figure size 432x288 with 1 Axes>"
            ],
            "image/png": "[encoded data removed]"
          },
          "metadata": {
            "needs_background": "light"
          }
        }
      ]
    },
    {
      "cell_type": "markdown",
      "source": [
        "**Answer**: The reason that we are able to achieve zero loss, is because the data is separable by a vertical line which makes for a very simple logistic regression model. In fact one wouldn't even need a logistic rergression model as a vertical line at x =0 would have be a model with zero error. This the reason that the gradient update method is able to get near zero loss."
      ],
      "metadata": {
        "id": "w3La5dEB9Z47"
      }
    },
    {
      "cell_type": "code",
      "source": [],
      "metadata": {
        "id": "aTpuhHUQ9_Qm"
      },
      "execution_count": null,
      "outputs": []
    }
  ]
}