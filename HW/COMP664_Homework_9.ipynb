{
  "nbformat": 4,
  "nbformat_minor": 0,
  "metadata": {
    "colab": {
      "provenance": []
    },
    "kernelspec": {
      "name": "python3",
      "display_name": "Python 3"
    },
    "language_info": {
      "name": "python"
    },
    "gpuClass": "standard"
  },
  "cells": [
    {
      "cell_type": "markdown",
      "metadata": {
        "id": "Ovi3rNd9BeZ4"
      },
      "source": [
        "# Homework 9\n",
        "\n",
        "In this homework, you will be using a form of attention called *attention pooling* to solve the \"addition problem\". The addition problem was introduced in the [LSTM paper](https://www.bioinf.jku.at/publications/older/2604.pdf) as a way to test whether an RNN could propagate information across many time steps. In the addition problem, the model is given a sequence of 2D vectors in the format:\n",
        "\n",
        "|     |      |     |     |      |     |      |     |     |     |     |\n",
        "|-----|------|-----|-----|------|-----|------|-----|-----|-----|-----|\n",
        "| 0.5 | -0.7 | 0.3 | 0.1 | -0.2 | ... | -0.5 | 0.9 | ... | 0.8 | 0.2 |\n",
        "| 0   |   0  |  1  |  0  |   0  |     |   0  |  1  |     |  0  |  0  |\n",
        "\n",
        "The first dimension of each vector in the sequence is a random number between 0 and 1. The second dimension is 0 for all entries of the sequence expect for 2, where it is 1. The goal of the addition problem is to output the sum of the values in the first dimension at the two indices where the second dimension is 1. In the example above, the target would be 0.9 + 0.3 = 1.2. Below is a code snippet that generates a sequence and its target for the addition problem."
      ]
    },
    {
      "cell_type": "code",
      "metadata": {
        "id": "r42nn-jOxhKp"
      },
      "source": [
        "import numpy as np\n",
        "import math\n",
        "import torch\n",
        "import torch.nn as nn\n",
        "import torch.nn.functional as F\n",
        "import matplotlib.pyplot as plt\n",
        "\n",
        "def addition_problem(sequence_length=50):\n",
        "    output = np.random.uniform(-1, 1, (sequence_length, 2))\n",
        "    output[:, 0] = 0.\n",
        "    random_indices = np.random.choice(sequence_length, size=2, replace=False)\n",
        "    output[random_indices, [0, 0]] = 1\n",
        "    return output, (output[:, 0]*output[:, 1]).sum(keepdims=True)"
      ],
      "execution_count": 121,
      "outputs": []
    },
    {
      "cell_type": "code",
      "source": [
        "addition_problem()"
      ],
      "metadata": {
        "id": "ehrkmhIxAEv6",
        "outputId": "76a4b264-a0e8-4d39-cd67-73e7fe60fa5d",
        "colab": {
          "base_uri": "https://localhost:8080/"
        }
      },
      "execution_count": 3,
      "outputs": [
        {
          "output_type": "execute_result",
          "data": {
            "text/plain": [
              "(array([[ 0.        ,  0.90787634],\n",
              "        [ 0.        , -0.72392442],\n",
              "        [ 0.        ,  0.45645897],\n",
              "        [ 0.        ,  0.65001662],\n",
              "        [ 0.        , -0.42878328],\n",
              "        [ 0.        ,  0.50319949],\n",
              "        [ 0.        , -0.81027942],\n",
              "        [ 0.        , -0.57592772],\n",
              "        [ 0.        ,  0.77575195],\n",
              "        [ 0.        ,  0.21064778],\n",
              "        [ 0.        ,  0.61380194],\n",
              "        [ 0.        , -0.49043025],\n",
              "        [ 0.        ,  0.52713338],\n",
              "        [ 0.        , -0.28426923],\n",
              "        [ 0.        , -0.76214322],\n",
              "        [ 0.        ,  0.56527765],\n",
              "        [ 0.        , -0.36905992],\n",
              "        [ 0.        , -0.35552643],\n",
              "        [ 0.        ,  0.83273812],\n",
              "        [ 0.        ,  0.85160927],\n",
              "        [ 1.        , -0.75418596],\n",
              "        [ 0.        ,  0.1134291 ],\n",
              "        [ 0.        , -0.20819938],\n",
              "        [ 0.        , -0.27355617],\n",
              "        [ 0.        ,  0.07258713],\n",
              "        [ 0.        , -0.622459  ],\n",
              "        [ 0.        ,  0.54978893],\n",
              "        [ 0.        , -0.1757747 ],\n",
              "        [ 0.        , -0.17813834],\n",
              "        [ 0.        , -0.18903376],\n",
              "        [ 0.        , -0.87561835],\n",
              "        [ 0.        ,  0.00579342],\n",
              "        [ 0.        , -0.5737416 ],\n",
              "        [ 0.        , -0.84868908],\n",
              "        [ 0.        , -0.95729745],\n",
              "        [ 0.        , -0.61409494],\n",
              "        [ 0.        ,  0.04063535],\n",
              "        [ 0.        , -0.01849709],\n",
              "        [ 0.        , -0.77914651],\n",
              "        [ 0.        ,  0.07591335],\n",
              "        [ 0.        ,  0.15942379],\n",
              "        [ 0.        ,  0.08418328],\n",
              "        [ 0.        , -0.90035192],\n",
              "        [ 0.        ,  0.2111568 ],\n",
              "        [ 0.        , -0.92359423],\n",
              "        [ 0.        ,  0.1413989 ],\n",
              "        [ 0.        ,  0.72303194],\n",
              "        [ 0.        ,  0.85558649],\n",
              "        [ 1.        , -0.62336612],\n",
              "        [ 0.        , -0.21589744]]), array([-1.37755208]))"
            ]
          },
          "metadata": {},
          "execution_count": 3
        }
      ]
    },
    {
      "cell_type": "markdown",
      "metadata": {
        "id": "Ew0FypwYCwpn"
      },
      "source": [
        "Attention pooling is a form of attention that allows a model to solve the addition problem without using an RNN. In attention pooling, the query vector $q$ is a *learnable parameter*. The keys and values are both the input sequence. Specifically, given a sequence $\\{h_1, h_2, \\ldots, h_T\\}$, attention pooling computes\n",
        "\\begin{align}\n",
        "e_t &= \\mathrm{a}(q, h_t) \\\\\n",
        "\\alpha_t &= \\frac{\\exp(e_t)}{\\sum_k \\exp(e_k)} \\\\\n",
        "c &= \\sum_{t = 1}^T \\alpha_t h_t\n",
        "\\end{align}\n",
        "where $\\mathrm{a}(q, h_t)$ is the attention energy function. Note that c will always be a fixed-length vector (which amounts to a weighted average of the elements of the sequence $h$) regardless of how long the sequence is (i.e. the value of $T$). $\\mathrm{a}(q, h_t)$ can be any function that takes in a single entry of the sequence $h_t$ and outputs an unnormalizes scalar value. One option is to use\n",
        "$$\\mathrm{a}(q, h_t) = q^\\top \\tanh(W_a h_t + b_a)$$\n",
        "where $q \\in \\mathbb{R}^q$, $W_a \\in \\mathbb{R}^{q \\times d}$, and $b_a \\in \\mathbb{R}^q$ are learnable parameters, and $d$ is the dimensionality of $h_t$ (i.e. $h_t \\in \\mathbb{R}^d$).\n",
        "\n",
        "\n",
        "1. Build and train a neural network that uses attention pooling to solve the addition problem. The model should output a scalar which corresponds to the target value for the addition problem (i.e. the sum of the sequence entries that are marked with a \"1\"). Here, \"solved\" means that the squared error of the model's predicitons is always below $0.05$. Use a sequence length of $50$ (which is the default for the `addition_problem` function defined above). *Hints*:\n",
        "  1. This is a regression problem. Your model should predict a continuous scalar value and you can use a squared-error loss.\n",
        "  1. The point of the attention pooling layer is to allow you to put it in an otherwise feed-forward network. So, consider just using simple dense feed-forward layers before and/or after the attention pooling layer. To start, you can try the architecture: feed-forward, attention pooling, feed-forward, output layer.\n",
        "  1. If you are finding that the model is getting stuck at a non-zero squared error, it could be that it's just outputting the mean value and having trouble learning a good solution. Try different initialization, nonlinearities, architecture, learning rate, etc.\n",
        "1. Once you have trained a model that gets solid performance at sequence length $50$, plot the model's average squared error for sequence lengths $50, 55, 65, 80, 100, 125, 150$. You should generate this plot by averaging the squared error over at least $100$ sequences of a given length. Does the model's error get worse (go up) for longer sequences, or does it generalize to longer sequence lengths?"
      ]
    },
    {
      "cell_type": "markdown",
      "source": [
        "## Problem 1. Attention Pooling to Solve the Addition Problem \n",
        "\n",
        "Model specs:\n",
        "* Outputs a scalar that corresponds to target value\n",
        "* Squared Error is below 0.05\n",
        "* Use a sequence of length 50"
      ],
      "metadata": {
        "id": "BBlJX1rl7zh-"
      }
    },
    {
      "cell_type": "markdown",
      "source": [
        "### Creating the Class Architectures"
      ],
      "metadata": {
        "id": "T67dIFGHEiyF"
      }
    },
    {
      "cell_type": "code",
      "source": [
        "class AttentionPooling(nn.Module):\n",
        "\n",
        "    def __init__(self, hidden_dim=2, query_dim=5):\n",
        "        super().__init__()\n",
        "        self.hidden_dim = hidden_dim\n",
        "        self.query_dim = query_dim\n",
        "\n",
        "        self.query_vec = nn.Parameter(torch.rand(query_dim))\n",
        "        self.linear = nn.Linear(hidden_dim, query_dim, bias=True)\n",
        "\n",
        "\n",
        "    def forward(self, H):\n",
        "        \"\"\"\n",
        "        The vectorized attention energy function \n",
        "        Currently implemented for bsz of 1.\n",
        "        ========================================\n",
        "\n",
        "        Inputs:\n",
        "        _______\n",
        "\n",
        "        H: The matrix representation of the sequence (seq_len=T, embedding_dim=d)\n",
        "\n",
        "        Outputs:\n",
        "        ________\n",
        "\n",
        "        c: A fixed length vector that has \n",
        "        \"\"\"\n",
        "        # The vector e is of dim (seq_len)\n",
        "        e = self.query_vec @ torch.transpose(torch.tanh(self.linear(H)), -2, -1)\n",
        "        # The vector alpha is of dim (seq_len)\n",
        "        alpha = F.softmax(e, dim=0).unsqueeze(2).expand(-1, -1, self.hidden_dim)\n",
        "        # C returns the weighted averages * values along the seq dimension axis \n",
        "        # (Dim=)\n",
        "        c = (alpha * H).sum(dim=1)\n",
        "        return c\n",
        "\n",
        "class MLP(nn.Module):\n",
        "    # Implements Fully Connected Multilayer Perceptron With a One-Dimensional Scalar Output\n",
        "    def __init__(self, input_dim, m_layers):\n",
        "        super().__init__()\n",
        "        # Get all the power of twos <= input_dim and sample equidistantly from them\n",
        "        self.layer_dims = [input_dim] + list(\n",
        "            reversed(self._sample_list(self._powers_of_two(input_dim - 1), m_layers))\n",
        "        )\n",
        "        self.layers = list(self._get_hidden_layers()) + [\n",
        "            nn.Linear(self.layer_dims[-2], 1)\n",
        "        ]\n",
        "        self.fc = nn.Sequential(*self.layers)\n",
        "        self.input_dim = input_dim\n",
        "\n",
        "    def forward(self, x):\n",
        "        # Implement forward pass through the neural network\n",
        "        output = self.fc(x)\n",
        "        return output\n",
        "\n",
        "    @staticmethod\n",
        "    def _sample_list(list_, n):\n",
        "        \"\"\"\n",
        "        Sample 'n' items from 'list_' in equal distance.\n",
        "        \"\"\"\n",
        "        if n <= 0:\n",
        "            return []\n",
        "        if n >= len(list_):\n",
        "            return list_\n",
        "\n",
        "        step = (len(list_) - 1) / float(n - 1)\n",
        "        indices = [int(round(i * step)) for i in range(n)]\n",
        "        return [list_[i] for i in indices]\n",
        "    \n",
        "    @staticmethod\n",
        "    def _powers_of_two(n):\n",
        "            highest_power = math.floor(math.log2(n))\n",
        "            return [2**i for i in range(highest_power + 1)]\n",
        "        \n",
        "    def _get_hidden_layers(self):\n",
        "        for i in range(len(self.layer_dims) - 2):\n",
        "            yield nn.Linear(self.layer_dims[i], self.layer_dims[i + 1])\n",
        "            yield nn.ReLU()"
      ],
      "metadata": {
        "id": "eL7bFb0V7zRG"
      },
      "execution_count": 94,
      "outputs": []
    },
    {
      "cell_type": "code",
      "source": [
        "class AttentionPoolingNet(nn.Module):\n",
        "    \n",
        "    def __init__(self, input_dim, hidden_dim, stem_layers, head_layers):\n",
        "        super().__init__()\n",
        "        self.stem = [nn.Linear(input_dim, hidden_dim)] + [nn.Linear(hidden_dim, hidden_dim), nn.ReLU()]*(stem_layers-1)\n",
        "        self.ap = [AttentionPooling(hidden_dim)]\n",
        "        self.head = [MLP(hidden_dim, head_layers)]\n",
        "        layers = self.stem + self.ap + self.head\n",
        "        self.net = nn.Sequential(*layers)\n",
        "\n",
        "    def forward(self, H):\n",
        "        \"\"\"\n",
        "        Forward through the network\n",
        "        ========================================\n",
        "\n",
        "        Inputs:\n",
        "        _______\n",
        "\n",
        "        H: The matrix representation of the sequence (seq_len=T, embedding_dim=d)\n",
        "\n",
        "        Outputs:\n",
        "        ________\n",
        "\n",
        "        outs: A scalar that will converge to the sum of the addition problem hopefully \n",
        "        \"\"\"\n",
        "\n",
        "        outs = self.net(H)\n",
        "        return outs\n"
      ],
      "metadata": {
        "id": "HbysSh8VmpYt"
      },
      "execution_count": 95,
      "outputs": []
    },
    {
      "cell_type": "code",
      "source": [
        "class AdditionProblemDataset(torch.utils.data.Dataset):\n",
        "    def __init__(self, sequence_length, epoch_size):\n",
        "        self.seq_len = sequence_length\n",
        "        self.data = [addition_problem(self.seq_len) for i in range(epoch_size)]\n",
        "\n",
        "    def __len__(self):\n",
        "        return len(self.data)\n",
        "\n",
        "    def __getitem__(self, idx):\n",
        "        return self.data[idx]\n",
        "\n",
        "    def collate_fn(self, batch):\n",
        "        # Batch is a list of tuples\n",
        "        inputs, labels = zip(*batch)\n",
        "        x = torch.tensor(np.stack(inputs, axis=0), dtype=torch.float32)\n",
        "        y = torch.tensor(np.stack(labels, axis=0), dtype=torch.float32)\n",
        "        return x, y\n",
        "        \n",
        "    def create_dataloader(self, batch_size, shuffle):\n",
        "        return torch.utils.data.DataLoader(\n",
        "            dataset=self,\n",
        "            batch_size=batch_size,\n",
        "            collate_fn=self.collate_fn,\n",
        "            shuffle=shuffle,\n",
        "            pin_memory=True,\n",
        "            drop_last=False\n",
        "        )\n",
        "\n",
        "\n",
        "class Trainer:\n",
        "    \"\"\"\n",
        "    f(x): \n",
        "    ----- \n",
        "    \"\"\"\n",
        "    def __init__(self, model, loss_fxn, lr, optimizer, scheduler=None, patience=5, device=None):\n",
        "        self.model = model.to(device)\n",
        "        self.loss_fxn = loss_fxn\n",
        "        self.lr = lr\n",
        "        self.optimizer = optimizer\n",
        "        self.scheduler = scheduler(self.optimizer) if scheduler is not None else scheduler\n",
        "        self.patience = patience\n",
        "        self.device = device\n",
        "        self.history = None\n",
        "\n",
        "    def __str__(self):\n",
        "        return f\"Trainer Object with Loss F(x):{self.loss_fxn}, Optimizer:{self.optimizer.__class__}, Scheduler:{str(self.scheduler.__clas__)},\"\n",
        "\n",
        "    def train_step(self, batch):\n",
        "        \"\"\"2.Perform One Training Step.\"\"\"\n",
        "        inputs, targets = batch[0].to(self.device), batch[1].to(self.device)           \n",
        "        self.optimizer.zero_grad()                                           # Reset gradients along the graph\n",
        "        outs = self.model(inputs)                                            # Get the outputs\n",
        "        loss = self.loss_fxn(outs, targets)                                  # Compute the loss for the batch\n",
        "        loss.backward()                                                      # Back-Prop to Compute Gradients\n",
        "        self.optimizer.step()                                                # Use gradients to update parameters\n",
        "        return loss.detach().item()                                          # NN returns batch average of the loss\n",
        "\n",
        "    def test_step(self, batch, predict=False):\n",
        "        \"\"\"Perform Model Eval for One Batch\"\"\"\n",
        "        with torch.no_grad():\n",
        "            inputs, targets = batch[0].to(self.device), batch[1].to(self.device)  \n",
        "            outs = self.model(inputs)                                     # Get the outputs\n",
        "            loss = self.loss_fxn(outs, targets)                                 # Compute the loss for the batch\n",
        "            if predict:\n",
        "                return outs, targets                                            # Return the preds and targets\n",
        "            else:\n",
        "                return loss.detach().item()                                     # NN returns batch average of the loss\n",
        "\n",
        "    def loss_snapshot(self, dataloader):\n",
        "        \"\"\"\n",
        "        Snapshot model loss based on given (criterion)\n",
        "        across the entire dataset during training.\n",
        "        Freeze the model weights to not train during calc of loss.\n",
        "\n",
        "        Inputs:\n",
        "        data_loader : Data Loader object by pytorch. Iterator of tuples\n",
        "                    containing zipped inputs and labels.\n",
        "        \"\"\"\n",
        "        running_loss = 0\n",
        "        dataset_size = 0\n",
        "        with torch.no_grad():\n",
        "            for batch in dataloader:\n",
        "                bsz = len(batch[-1])\n",
        "                running_loss += self.test_step(batch) * bsz                 # Add the non-averaged batch loss\n",
        "                dataset_size += bsz\n",
        "        return running_loss/dataset_size\n",
        "\n",
        "    def acc_snapshot(self, dataloader):\n",
        "        \"\"\"\n",
        "        Snapshot model accuracy [either binarized or continuous score for the purposes\n",
        "        of exploring binary vs continuous trained output] across the entire dataset\n",
        "        during training. Freeze the model weights to not train during calc of loss.\n",
        "\n",
        "        Inputs:\n",
        "        dataloader : Data Loader object by pytorch. Iterator of tuples\n",
        "                    containing dict of inputs and labels.\n",
        "        \"\"\"\n",
        "        num_correct = 0\n",
        "        dataset_size = 0\n",
        "\n",
        "        with torch.no_grad():\n",
        "            for batch in dataloader:\n",
        "                outs, targets = self.test_step(batch, predict=True)\n",
        "                outs = outs.squeeze()\n",
        "                predicted = outs.cpu().numpy()\n",
        "                # Total the number of examples\n",
        "                dataset_size += len(targets)\n",
        "                # Total correct predictions\n",
        "                matches = np.isclose(predicted, targets.cpu().numpy(), atol=5e-2)       \n",
        "                num_correct += np.count_nonzero(matches)\n",
        "        return num_correct/dataset_size\n",
        "\n",
        "    def train_epochs(self, num_epochs, train_loader, val_loader, log_every=10):\n",
        "        setattr(self, 'history', {})\n",
        "        # Instantiate early stopping criteria\n",
        "        best_model = self.model\n",
        "        best_val_loss = np.inf\n",
        "        actual_patience = self.patience\n",
        "\n",
        "        train_losses = []\n",
        "        val_losses = []\n",
        "        train_accs = []\n",
        "        val_accs = []\n",
        "\n",
        "        for ep in range(num_epochs):\n",
        "            for i, batch in enumerate(train_loader):                    # Loop through the batches of the dataloader\n",
        "                train_loss = self.train_step(batch)                     # Don't need to save per-step loss\n",
        "\n",
        "            if ep % log_every == 0:                                     # If reached the logging frequency\n",
        "                train_losses += [self.loss_snapshot(train_loader)]           # Snapshot Model Acc and Los\n",
        "                val_losses += [self.loss_snapshot(val_loader)]\n",
        "                train_accs += [self.acc_snapshot(train_loader)]\n",
        "                val_accs += [self.acc_snapshot(val_loader)]\n",
        "                print(\n",
        "                    f\"Epoch: {ep + 1} | \"\n",
        "                    f\"train_loss: {train_losses[-1]:.5f}, \"\n",
        "                    f\"val_loss: {val_losses[-1]:.5f}, \"\n",
        "                    f\"train_acc: {train_accs[-1]:.3f}, \"\n",
        "                    f\"val_acc: {val_accs[-1]:.3f}, \"\n",
        "                    f\"lr: {self.optimizer.param_groups[0]['lr']:.2E}\"\n",
        "                )\n",
        "\n",
        "            # On-epoch End\n",
        "\n",
        "            epoch_val_loss = self.loss_snapshot(val_loader)             # Grab the last val_loss @epoch end\n",
        "            if epoch_val_loss < best_val_loss:                          # Check if current val loss < prev best\n",
        "                best_val_loss = epoch_val_loss                          # Update best_val_loss\n",
        "                best_model = self.model                                 # Cache the best model\n",
        "                actual_patience = self.patience\n",
        "            else:\n",
        "                actual_patience -= 1\n",
        "\n",
        "            if actual_patience == 0:\n",
        "                print(\n",
        "                    f'Stopping after validation loss increased for {self.patience} epochs'\n",
        "                )\n",
        "                break\n",
        "\n",
        "            if self.scheduler is not None:\n",
        "                self.scheduler.step()                                   # Step through the LR schedule\n",
        "\n",
        "        self.history[\"train_loss\"] = train_losses\n",
        "        self.history[\"val_loss\"] = val_losses\n",
        "        self.history[\"train_acc\"] = train_accs\n",
        "        self.history[\"val_acc\"] = val_accs\n",
        "\n",
        "        return best_model"
      ],
      "metadata": {
        "id": "_EKKQ2C9lCWe"
      },
      "execution_count": 130,
      "outputs": []
    },
    {
      "cell_type": "code",
      "source": [
        "# Define Constants\n",
        "\n",
        "SEQ_LEN = 50\n",
        "loss_fxn = nn.MSELoss()\n",
        "lr = .01\n",
        "\n",
        "\n",
        "# Create the Datasets and Data Loaders\n",
        "train_dset = AdditionProblemDataset(sequence_length=SEQ_LEN, epoch_size=10000)\n",
        "val_dset = AdditionProblemDataset(sequence_length=SEQ_LEN, epoch_size=1000)\n",
        "train_loader = train_dset.create_dataloader(64, shuffle=True)\n",
        "val_loader = val_dset.create_dataloader(64, shuffle=False)\n",
        "\n",
        "# Set up the Model\n",
        "\n",
        "model = AttentionPoolingNet(input_dim=2, hidden_dim=16, stem_layers=4, head_layers=4)\n",
        "optimizer = torch.optim.Adam(model.parameters())"
      ],
      "metadata": {
        "id": "BejSPHTklC6E"
      },
      "execution_count": 139,
      "outputs": []
    },
    {
      "cell_type": "code",
      "source": [
        "trainer = Trainer(model, loss_fxn, lr, optimizer, scheduler=None, patience=100, device=None)\n",
        "opt_model = trainer.train_epochs(1000, train_loader, val_loader, log_every=10)"
      ],
      "metadata": {
        "colab": {
          "base_uri": "https://localhost:8080/"
        },
        "id": "tfhSCX_h2UW1",
        "outputId": "198a2037-4ac1-4e45-88b3-9eae70af7b33"
      },
      "execution_count": 140,
      "outputs": [
        {
          "output_type": "stream",
          "name": "stdout",
          "text": [
            "Epoch: 1 | train_loss: 0.87468, val_loss: 0.82951, train_acc: 2.426, val_acc: 2.856, lr: 1.00E-03\n",
            "Epoch: 11 | train_loss: 0.12531, val_loss: 0.12340, train_acc: 2.447, val_acc: 2.535, lr: 1.00E-03\n",
            "Epoch: 21 | train_loss: 0.09769, val_loss: 0.09642, train_acc: 2.360, val_acc: 2.394, lr: 1.00E-03\n",
            "Epoch: 31 | train_loss: 0.07919, val_loss: 0.08044, train_acc: 2.338, val_acc: 2.411, lr: 1.00E-03\n",
            "Epoch: 41 | train_loss: 0.07073, val_loss: 0.06919, train_acc: 2.377, val_acc: 2.391, lr: 1.00E-03\n",
            "Epoch: 51 | train_loss: 0.05861, val_loss: 0.05469, train_acc: 2.353, val_acc: 2.362, lr: 1.00E-03\n",
            "Epoch: 61 | train_loss: 0.03794, val_loss: 0.03894, train_acc: 2.399, val_acc: 2.390, lr: 1.00E-03\n",
            "Epoch: 71 | train_loss: 0.01783, val_loss: 0.02002, train_acc: 2.512, val_acc: 2.496, lr: 1.00E-03\n",
            "Epoch: 81 | train_loss: 0.00688, val_loss: 0.00882, train_acc: 2.655, val_acc: 2.691, lr: 1.00E-03\n",
            "Epoch: 91 | train_loss: 0.00934, val_loss: 0.01068, train_acc: 2.302, val_acc: 2.354, lr: 1.00E-03\n",
            "Epoch: 101 | train_loss: 0.00108, val_loss: 0.00368, train_acc: 3.047, val_acc: 3.053, lr: 1.00E-03\n",
            "Epoch: 111 | train_loss: 0.00234, val_loss: 0.00402, train_acc: 2.698, val_acc: 2.820, lr: 1.00E-03\n",
            "Epoch: 121 | train_loss: 0.00073, val_loss: 0.00298, train_acc: 3.064, val_acc: 3.099, lr: 1.00E-03\n",
            "Epoch: 131 | train_loss: 0.00358, val_loss: 0.00497, train_acc: 2.443, val_acc: 2.488, lr: 1.00E-03\n",
            "Epoch: 141 | train_loss: 0.00021, val_loss: 0.00222, train_acc: 3.062, val_acc: 3.116, lr: 1.00E-03\n",
            "Epoch: 151 | train_loss: 0.00230, val_loss: 0.00417, train_acc: 2.762, val_acc: 2.802, lr: 1.00E-03\n",
            "Epoch: 161 | train_loss: 0.00882, val_loss: 0.00996, train_acc: 2.110, val_acc: 2.123, lr: 1.00E-03\n",
            "Epoch: 171 | train_loss: 0.00051, val_loss: 0.00288, train_acc: 3.072, val_acc: 3.117, lr: 1.00E-03\n",
            "Epoch: 181 | train_loss: 0.00027, val_loss: 0.00218, train_acc: 3.069, val_acc: 3.126, lr: 1.00E-03\n",
            "Epoch: 191 | train_loss: 0.00761, val_loss: 0.00872, train_acc: 2.163, val_acc: 2.157, lr: 1.00E-03\n",
            "Epoch: 201 | train_loss: 0.00711, val_loss: 0.00838, train_acc: 2.120, val_acc: 2.132, lr: 1.00E-03\n",
            "Epoch: 211 | train_loss: 0.00092, val_loss: 0.00284, train_acc: 3.060, val_acc: 3.128, lr: 1.00E-03\n",
            "Epoch: 221 | train_loss: 0.00501, val_loss: 0.00630, train_acc: 2.233, val_acc: 2.208, lr: 1.00E-03\n",
            "Epoch: 231 | train_loss: 0.00020, val_loss: 0.00228, train_acc: 3.057, val_acc: 3.123, lr: 1.00E-03\n",
            "Epoch: 241 | train_loss: 0.00017, val_loss: 0.00249, train_acc: 3.086, val_acc: 3.125, lr: 1.00E-03\n",
            "Stopping after validation loss increased for 100 epochs\n"
          ]
        }
      ]
    },
    {
      "cell_type": "code",
      "source": [
        "plt.plot(trainer.history['train_loss'])\n",
        "plt.plot(trainer.history['val_loss'])\n",
        "plt.title('Trainer Loss Curves')\n",
        "plt.xlabel('Epochs [10x]')\n",
        "plt.ylabel('MSE Loss')\n",
        "plt.legend(['Training Loss', 'Validation Loss'])\n",
        "plt.show()\n"
      ],
      "metadata": {
        "colab": {
          "base_uri": "https://localhost:8080/",
          "height": 295
        },
        "id": "26UxqbsmnMM4",
        "outputId": "c3da5401-3e10-44d2-9aa3-aa3e5e5ceb6e"
      },
      "execution_count": 147,
      "outputs": [
        {
          "output_type": "display_data",
          "data": {
            "text/plain": [
              "<Figure size 432x288 with 1 Axes>"
            ],
            "image/png": "[encoded data removed]"
          },
          "metadata": {
            "needs_background": "light"
          }
        }
      ]
    },
    {
      "cell_type": "code",
      "source": [
        "sample_x, sample_y = addition_problem(50)\n",
        "x = torch.tensor(sample_x, dtype=torch.float32).unsqueeze(0)"
      ],
      "metadata": {
        "id": "rOV9C_conNgm"
      },
      "execution_count": 160,
      "outputs": []
    },
    {
      "cell_type": "code",
      "source": [
        "opt_model(x)"
      ],
      "metadata": {
        "colab": {
          "base_uri": "https://localhost:8080/"
        },
        "id": "rfdmmv5SnXjJ",
        "outputId": "f274c94b-888a-4ec8-c2de-938b16381e1e"
      },
      "execution_count": 161,
      "outputs": [
        {
          "output_type": "execute_result",
          "data": {
            "text/plain": [
              "tensor([[12.2299]], grad_fn=<AddmmBackward0>)"
            ]
          },
          "metadata": {},
          "execution_count": 161
        }
      ]
    },
    {
      "cell_type": "code",
      "source": [
        "sample_y"
      ],
      "metadata": {
        "colab": {
          "base_uri": "https://localhost:8080/"
        },
        "id": "wSXLG5QXoD6h",
        "outputId": "07f91952-283c-41db-b16e-bb1174297320"
      },
      "execution_count": 162,
      "outputs": [
        {
          "output_type": "execute_result",
          "data": {
            "text/plain": [
              "array([0.69461102])"
            ]
          },
          "metadata": {},
          "execution_count": 162
        }
      ]
    },
    {
      "cell_type": "code",
      "source": [
        "x.sum(2)"
      ],
      "metadata": {
        "colab": {
          "base_uri": "https://localhost:8080/"
        },
        "id": "jRXH7-BQoUpJ",
        "outputId": "b906956e-4c7a-4d47-ff30-be54cbae4b0b"
      },
      "execution_count": 171,
      "outputs": [
        {
          "output_type": "execute_result",
          "data": {
            "text/plain": [
              "tensor([[-0.4327, -0.9616, -0.8102, -0.0793, -0.5470,  0.0204, -0.4467,  0.6626,\n",
              "         -0.7826, -0.7224,  0.3583,  0.5303, -0.6930, -0.5828,  0.5424, -0.4095,\n",
              "          0.2433, -0.9866,  0.0056,  0.9631,  0.4130, -0.4019,  0.3124,  0.0021,\n",
              "         -0.4272, -0.4639,  0.8382, -0.9234,  0.7764,  0.5609,  0.0057,  0.0844,\n",
              "          0.3062,  0.6828, -0.8319,  0.0846, -0.4475,  0.8723, -0.9312,  0.4161,\n",
              "          0.6891,  0.4109, -0.6990,  1.1018, -0.6063,  0.9669,  1.5928,  0.7752,\n",
              "          0.7654, -0.7487]])"
            ]
          },
          "metadata": {},
          "execution_count": 171
        }
      ]
    },
    {
      "cell_type": "markdown",
      "source": [
        "### Disclaimer:\n",
        "\n",
        "Unfortunately, I was not able to debug the issue with the code due to circumstantial reasons. Therefore submitting as is in hopes that some readily apparent stupid mistake is found during grading. "
      ],
      "metadata": {
        "id": "gJafraKgKdfc"
      }
    },
    {
      "cell_type": "code",
      "source": [],
      "metadata": {
        "id": "ATx1ILNQuxUw"
      },
      "execution_count": null,
      "outputs": []
    }
  ]
}