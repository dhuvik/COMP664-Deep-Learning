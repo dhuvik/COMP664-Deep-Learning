{
  "nbformat": 4,
  "nbformat_minor": 0,
  "metadata": {
    "colab": {
      "provenance": []
    },
    "kernelspec": {
      "name": "python3",
      "display_name": "Python 3"
    },
    "language_info": {
      "name": "python"
    },
    "widgets": {
      "application/vnd.jupyter.widget-state+json": {
        "fb66f570e1bc4ea2aa45514f622b1781": {
          "model_module": "@jupyter-widgets/controls",
          "model_name": "HBoxModel",
          "model_module_version": "1.5.0",
          "state": {
            "_dom_classes": [],
            "_model_module": "@jupyter-widgets/controls",
            "_model_module_version": "1.5.0",
            "_model_name": "HBoxModel",
            "_view_count": null,
            "_view_module": "@jupyter-widgets/controls",
            "_view_module_version": "1.5.0",
            "_view_name": "HBoxView",
            "box_style": "",
            "children": [
              "IPY_MODEL_b22bed4926fa40b0be43385b542ade43",
              "IPY_MODEL_b83570cfa99942bc99d6b3e238ffee42",
              "IPY_MODEL_f986ea333e54491b8a3293a22f08ec0d"
            ],
            "layout": "IPY_MODEL_8ca9993053f742d391398b989bd466d4"
          }
        },
        "b22bed4926fa40b0be43385b542ade43": {
          "model_module": "@jupyter-widgets/controls",
          "model_name": "HTMLModel",
          "model_module_version": "1.5.0",
          "state": {
            "_dom_classes": [],
            "_model_module": "@jupyter-widgets/controls",
            "_model_module_version": "1.5.0",
            "_model_name": "HTMLModel",
            "_view_count": null,
            "_view_module": "@jupyter-widgets/controls",
            "_view_module_version": "1.5.0",
            "_view_name": "HTMLView",
            "description": "",
            "description_tooltip": null,
            "layout": "IPY_MODEL_e46f21f03c334bc687e4a1f6b6106ea4",
            "placeholder": "​",
            "style": "IPY_MODEL_ce532357cc7b44ff8a5cb4c8344506e1",
            "value": "Downloading (…)lve/main/config.json: 100%"
          }
        },
        "b83570cfa99942bc99d6b3e238ffee42": {
          "model_module": "@jupyter-widgets/controls",
          "model_name": "FloatProgressModel",
          "model_module_version": "1.5.0",
          "state": {
            "_dom_classes": [],
            "_model_module": "@jupyter-widgets/controls",
            "_model_module_version": "1.5.0",
            "_model_name": "FloatProgressModel",
            "_view_count": null,
            "_view_module": "@jupyter-widgets/controls",
            "_view_module_version": "1.5.0",
            "_view_name": "ProgressView",
            "bar_style": "success",
            "description": "",
            "description_tooltip": null,
            "layout": "IPY_MODEL_edc54a941974401e84e448d6dd179e7e",
            "max": 1208,
            "min": 0,
            "orientation": "horizontal",
            "style": "IPY_MODEL_2b1983334c9348129413fc44d918f12b",
            "value": 1208
          }
        },
        "f986ea333e54491b8a3293a22f08ec0d": {
          "model_module": "@jupyter-widgets/controls",
          "model_name": "HTMLModel",
          "model_module_version": "1.5.0",
          "state": {
            "_dom_classes": [],
            "_model_module": "@jupyter-widgets/controls",
            "_model_module_version": "1.5.0",
            "_model_name": "HTMLModel",
            "_view_count": null,
            "_view_module": "@jupyter-widgets/controls",
            "_view_module_version": "1.5.0",
            "_view_name": "HTMLView",
            "description": "",
            "description_tooltip": null,
            "layout": "IPY_MODEL_2b66f42e6a884994be8499c1ce6e6b1e",
            "placeholder": "​",
            "style": "IPY_MODEL_a5d5d76817754f61959a545549241389",
            "value": " 1.21k/1.21k [00:00&lt;00:00, 14.3kB/s]"
          }
        },
        "8ca9993053f742d391398b989bd466d4": {
          "model_module": "@jupyter-widgets/base",
          "model_name": "LayoutModel",
          "model_module_version": "1.2.0",
          "state": {
            "_model_module": "@jupyter-widgets/base",
            "_model_module_version": "1.2.0",
            "_model_name": "LayoutModel",
            "_view_count": null,
            "_view_module": "@jupyter-widgets/base",
            "_view_module_version": "1.2.0",
            "_view_name": "LayoutView",
            "align_content": null,
            "align_items": null,
            "align_self": null,
            "border": null,
            "bottom": null,
            "display": null,
            "flex": null,
            "flex_flow": null,
            "grid_area": null,
            "grid_auto_columns": null,
            "grid_auto_flow": null,
            "grid_auto_rows": null,
            "grid_column": null,
            "grid_gap": null,
            "grid_row": null,
            "grid_template_areas": null,
            "grid_template_columns": null,
            "grid_template_rows": null,
            "height": null,
            "justify_content": null,
            "justify_items": null,
            "left": null,
            "margin": null,
            "max_height": null,
            "max_width": null,
            "min_height": null,
            "min_width": null,
            "object_fit": null,
            "object_position": null,
            "order": null,
            "overflow": null,
            "overflow_x": null,
            "overflow_y": null,
            "padding": null,
            "right": null,
            "top": null,
            "visibility": null,
            "width": null
          }
        },
        "e46f21f03c334bc687e4a1f6b6106ea4": {
          "model_module": "@jupyter-widgets/base",
          "model_name": "LayoutModel",
          "model_module_version": "1.2.0",
          "state": {
            "_model_module": "@jupyter-widgets/base",
            "_model_module_version": "1.2.0",
            "_model_name": "LayoutModel",
            "_view_count": null,
            "_view_module": "@jupyter-widgets/base",
            "_view_module_version": "1.2.0",
            "_view_name": "LayoutView",
            "align_content": null,
            "align_items": null,
            "align_self": null,
            "border": null,
            "bottom": null,
            "display": null,
            "flex": null,
            "flex_flow": null,
            "grid_area": null,
            "grid_auto_columns": null,
            "grid_auto_flow": null,
            "grid_auto_rows": null,
            "grid_column": null,
            "grid_gap": null,
            "grid_row": null,
            "grid_template_areas": null,
            "grid_template_columns": null,
            "grid_template_rows": null,
            "height": null,
            "justify_content": null,
            "justify_items": null,
            "left": null,
            "margin": null,
            "max_height": null,
            "max_width": null,
            "min_height": null,
            "min_width": null,
            "object_fit": null,
            "object_position": null,
            "order": null,
            "overflow": null,
            "overflow_x": null,
            "overflow_y": null,
            "padding": null,
            "right": null,
            "top": null,
            "visibility": null,
            "width": null
          }
        },
        "ce532357cc7b44ff8a5cb4c8344506e1": {
          "model_module": "@jupyter-widgets/controls",
          "model_name": "DescriptionStyleModel",
          "model_module_version": "1.5.0",
          "state": {
            "_model_module": "@jupyter-widgets/controls",
            "_model_module_version": "1.5.0",
            "_model_name": "DescriptionStyleModel",
            "_view_count": null,
            "_view_module": "@jupyter-widgets/base",
            "_view_module_version": "1.2.0",
            "_view_name": "StyleView",
            "description_width": ""
          }
        },
        "edc54a941974401e84e448d6dd179e7e": {
          "model_module": "@jupyter-widgets/base",
          "model_name": "LayoutModel",
          "model_module_version": "1.2.0",
          "state": {
            "_model_module": "@jupyter-widgets/base",
            "_model_module_version": "1.2.0",
            "_model_name": "LayoutModel",
            "_view_count": null,
            "_view_module": "@jupyter-widgets/base",
            "_view_module_version": "1.2.0",
            "_view_name": "LayoutView",
            "align_content": null,
            "align_items": null,
            "align_self": null,
            "border": null,
            "bottom": null,
            "display": null,
            "flex": null,
            "flex_flow": null,
            "grid_area": null,
            "grid_auto_columns": null,
            "grid_auto_flow": null,
            "grid_auto_rows": null,
            "grid_column": null,
            "grid_gap": null,
            "grid_row": null,
            "grid_template_areas": null,
            "grid_template_columns": null,
            "grid_template_rows": null,
            "height": null,
            "justify_content": null,
            "justify_items": null,
            "left": null,
            "margin": null,
            "max_height": null,
            "max_width": null,
            "min_height": null,
            "min_width": null,
            "object_fit": null,
            "object_position": null,
            "order": null,
            "overflow": null,
            "overflow_x": null,
            "overflow_y": null,
            "padding": null,
            "right": null,
            "top": null,
            "visibility": null,
            "width": null
          }
        },
        "2b1983334c9348129413fc44d918f12b": {
          "model_module": "@jupyter-widgets/controls",
          "model_name": "ProgressStyleModel",
          "model_module_version": "1.5.0",
          "state": {
            "_model_module": "@jupyter-widgets/controls",
            "_model_module_version": "1.5.0",
            "_model_name": "ProgressStyleModel",
            "_view_count": null,
            "_view_module": "@jupyter-widgets/base",
            "_view_module_version": "1.2.0",
            "_view_name": "StyleView",
            "bar_color": null,
            "description_width": ""
          }
        },
        "2b66f42e6a884994be8499c1ce6e6b1e": {
          "model_module": "@jupyter-widgets/base",
          "model_name": "LayoutModel",
          "model_module_version": "1.2.0",
          "state": {
            "_model_module": "@jupyter-widgets/base",
            "_model_module_version": "1.2.0",
            "_model_name": "LayoutModel",
            "_view_count": null,
            "_view_module": "@jupyter-widgets/base",
            "_view_module_version": "1.2.0",
            "_view_name": "LayoutView",
            "align_content": null,
            "align_items": null,
            "align_self": null,
            "border": null,
            "bottom": null,
            "display": null,
            "flex": null,
            "flex_flow": null,
            "grid_area": null,
            "grid_auto_columns": null,
            "grid_auto_flow": null,
            "grid_auto_rows": null,
            "grid_column": null,
            "grid_gap": null,
            "grid_row": null,
            "grid_template_areas": null,
            "grid_template_columns": null,
            "grid_template_rows": null,
            "height": null,
            "justify_content": null,
            "justify_items": null,
            "left": null,
            "margin": null,
            "max_height": null,
            "max_width": null,
            "min_height": null,
            "min_width": null,
            "object_fit": null,
            "object_position": null,
            "order": null,
            "overflow": null,
            "overflow_x": null,
            "overflow_y": null,
            "padding": null,
            "right": null,
            "top": null,
            "visibility": null,
            "width": null
          }
        },
        "a5d5d76817754f61959a545549241389": {
          "model_module": "@jupyter-widgets/controls",
          "model_name": "DescriptionStyleModel",
          "model_module_version": "1.5.0",
          "state": {
            "_model_module": "@jupyter-widgets/controls",
            "_model_module_version": "1.5.0",
            "_model_name": "DescriptionStyleModel",
            "_view_count": null,
            "_view_module": "@jupyter-widgets/base",
            "_view_module_version": "1.2.0",
            "_view_name": "StyleView",
            "description_width": ""
          }
        },
        "b5c3a06faa9f4a03b3054498b3b667ec": {
          "model_module": "@jupyter-widgets/controls",
          "model_name": "HBoxModel",
          "model_module_version": "1.5.0",
          "state": {
            "_dom_classes": [],
            "_model_module": "@jupyter-widgets/controls",
            "_model_module_version": "1.5.0",
            "_model_name": "HBoxModel",
            "_view_count": null,
            "_view_module": "@jupyter-widgets/controls",
            "_view_module_version": "1.5.0",
            "_view_name": "HBoxView",
            "box_style": "",
            "children": [
              "IPY_MODEL_f3021a9c6e4d46018aaecbbcb9d6f6de",
              "IPY_MODEL_2073d74217c64f2f8b01c2e435959c05",
              "IPY_MODEL_fd880891c6a74614868481cc4e427c0f"
            ],
            "layout": "IPY_MODEL_53869852b3484871b03fa42777dd6ac5"
          }
        },
        "f3021a9c6e4d46018aaecbbcb9d6f6de": {
          "model_module": "@jupyter-widgets/controls",
          "model_name": "HTMLModel",
          "model_module_version": "1.5.0",
          "state": {
            "_dom_classes": [],
            "_model_module": "@jupyter-widgets/controls",
            "_model_module_version": "1.5.0",
            "_model_name": "HTMLModel",
            "_view_count": null,
            "_view_module": "@jupyter-widgets/controls",
            "_view_module_version": "1.5.0",
            "_view_name": "HTMLView",
            "description": "",
            "description_tooltip": null,
            "layout": "IPY_MODEL_ffba7ce6686b435786f4d13f3a7eca22",
            "placeholder": "​",
            "style": "IPY_MODEL_7bddb5e35b0a4de7a606e289fc6702d3",
            "value": "Downloading pytorch_model.bin: 100%"
          }
        },
        "2073d74217c64f2f8b01c2e435959c05": {
          "model_module": "@jupyter-widgets/controls",
          "model_name": "FloatProgressModel",
          "model_module_version": "1.5.0",
          "state": {
            "_dom_classes": [],
            "_model_module": "@jupyter-widgets/controls",
            "_model_module_version": "1.5.0",
            "_model_name": "FloatProgressModel",
            "_view_count": null,
            "_view_module": "@jupyter-widgets/controls",
            "_view_module_version": "1.5.0",
            "_view_name": "ProgressView",
            "bar_style": "success",
            "description": "",
            "description_tooltip": null,
            "layout": "IPY_MODEL_8535fb1080dd4dc0bbc869db2a99bea2",
            "max": 891691430,
            "min": 0,
            "orientation": "horizontal",
            "style": "IPY_MODEL_d25f1681b94344619c96cf823badd761",
            "value": 891691430
          }
        },
        "fd880891c6a74614868481cc4e427c0f": {
          "model_module": "@jupyter-widgets/controls",
          "model_name": "HTMLModel",
          "model_module_version": "1.5.0",
          "state": {
            "_dom_classes": [],
            "_model_module": "@jupyter-widgets/controls",
            "_model_module_version": "1.5.0",
            "_model_name": "HTMLModel",
            "_view_count": null,
            "_view_module": "@jupyter-widgets/controls",
            "_view_module_version": "1.5.0",
            "_view_name": "HTMLView",
            "description": "",
            "description_tooltip": null,
            "layout": "IPY_MODEL_896cce36581f4d3a9956bade2ef5d589",
            "placeholder": "​",
            "style": "IPY_MODEL_a0b7435ad0aa406c87da9cea464f6770",
            "value": " 892M/892M [00:27&lt;00:00, 49.5MB/s]"
          }
        },
        "53869852b3484871b03fa42777dd6ac5": {
          "model_module": "@jupyter-widgets/base",
          "model_name": "LayoutModel",
          "model_module_version": "1.2.0",
          "state": {
            "_model_module": "@jupyter-widgets/base",
            "_model_module_version": "1.2.0",
            "_model_name": "LayoutModel",
            "_view_count": null,
            "_view_module": "@jupyter-widgets/base",
            "_view_module_version": "1.2.0",
            "_view_name": "LayoutView",
            "align_content": null,
            "align_items": null,
            "align_self": null,
            "border": null,
            "bottom": null,
            "display": null,
            "flex": null,
            "flex_flow": null,
            "grid_area": null,
            "grid_auto_columns": null,
            "grid_auto_flow": null,
            "grid_auto_rows": null,
            "grid_column": null,
            "grid_gap": null,
            "grid_row": null,
            "grid_template_areas": null,
            "grid_template_columns": null,
            "grid_template_rows": null,
            "height": null,
            "justify_content": null,
            "justify_items": null,
            "left": null,
            "margin": null,
            "max_height": null,
            "max_width": null,
            "min_height": null,
            "min_width": null,
            "object_fit": null,
            "object_position": null,
            "order": null,
            "overflow": null,
            "overflow_x": null,
            "overflow_y": null,
            "padding": null,
            "right": null,
            "top": null,
            "visibility": null,
            "width": null
          }
        },
        "ffba7ce6686b435786f4d13f3a7eca22": {
          "model_module": "@jupyter-widgets/base",
          "model_name": "LayoutModel",
          "model_module_version": "1.2.0",
          "state": {
            "_model_module": "@jupyter-widgets/base",
            "_model_module_version": "1.2.0",
            "_model_name": "LayoutModel",
            "_view_count": null,
            "_view_module": "@jupyter-widgets/base",
            "_view_module_version": "1.2.0",
            "_view_name": "LayoutView",
            "align_content": null,
            "align_items": null,
            "align_self": null,
            "border": null,
            "bottom": null,
            "display": null,
            "flex": null,
            "flex_flow": null,
            "grid_area": null,
            "grid_auto_columns": null,
            "grid_auto_flow": null,
            "grid_auto_rows": null,
            "grid_column": null,
            "grid_gap": null,
            "grid_row": null,
            "grid_template_areas": null,
            "grid_template_columns": null,
            "grid_template_rows": null,
            "height": null,
            "justify_content": null,
            "justify_items": null,
            "left": null,
            "margin": null,
            "max_height": null,
            "max_width": null,
            "min_height": null,
            "min_width": null,
            "object_fit": null,
            "object_position": null,
            "order": null,
            "overflow": null,
            "overflow_x": null,
            "overflow_y": null,
            "padding": null,
            "right": null,
            "top": null,
            "visibility": null,
            "width": null
          }
        },
        "7bddb5e35b0a4de7a606e289fc6702d3": {
          "model_module": "@jupyter-widgets/controls",
          "model_name": "DescriptionStyleModel",
          "model_module_version": "1.5.0",
          "state": {
            "_model_module": "@jupyter-widgets/controls",
            "_model_module_version": "1.5.0",
            "_model_name": "DescriptionStyleModel",
            "_view_count": null,
            "_view_module": "@jupyter-widgets/base",
            "_view_module_version": "1.2.0",
            "_view_name": "StyleView",
            "description_width": ""
          }
        },
        "8535fb1080dd4dc0bbc869db2a99bea2": {
          "model_module": "@jupyter-widgets/base",
          "model_name": "LayoutModel",
          "model_module_version": "1.2.0",
          "state": {
            "_model_module": "@jupyter-widgets/base",
            "_model_module_version": "1.2.0",
            "_model_name": "LayoutModel",
            "_view_count": null,
            "_view_module": "@jupyter-widgets/base",
            "_view_module_version": "1.2.0",
            "_view_name": "LayoutView",
            "align_content": null,
            "align_items": null,
            "align_self": null,
            "border": null,
            "bottom": null,
            "display": null,
            "flex": null,
            "flex_flow": null,
            "grid_area": null,
            "grid_auto_columns": null,
            "grid_auto_flow": null,
            "grid_auto_rows": null,
            "grid_column": null,
            "grid_gap": null,
            "grid_row": null,
            "grid_template_areas": null,
            "grid_template_columns": null,
            "grid_template_rows": null,
            "height": null,
            "justify_content": null,
            "justify_items": null,
            "left": null,
            "margin": null,
            "max_height": null,
            "max_width": null,
            "min_height": null,
            "min_width": null,
            "object_fit": null,
            "object_position": null,
            "order": null,
            "overflow": null,
            "overflow_x": null,
            "overflow_y": null,
            "padding": null,
            "right": null,
            "top": null,
            "visibility": null,
            "width": null
          }
        },
        "d25f1681b94344619c96cf823badd761": {
          "model_module": "@jupyter-widgets/controls",
          "model_name": "ProgressStyleModel",
          "model_module_version": "1.5.0",
          "state": {
            "_model_module": "@jupyter-widgets/controls",
            "_model_module_version": "1.5.0",
            "_model_name": "ProgressStyleModel",
            "_view_count": null,
            "_view_module": "@jupyter-widgets/base",
            "_view_module_version": "1.2.0",
            "_view_name": "StyleView",
            "bar_color": null,
            "description_width": ""
          }
        },
        "896cce36581f4d3a9956bade2ef5d589": {
          "model_module": "@jupyter-widgets/base",
          "model_name": "LayoutModel",
          "model_module_version": "1.2.0",
          "state": {
            "_model_module": "@jupyter-widgets/base",
            "_model_module_version": "1.2.0",
            "_model_name": "LayoutModel",
            "_view_count": null,
            "_view_module": "@jupyter-widgets/base",
            "_view_module_version": "1.2.0",
            "_view_name": "LayoutView",
            "align_content": null,
            "align_items": null,
            "align_self": null,
            "border": null,
            "bottom": null,
            "display": null,
            "flex": null,
            "flex_flow": null,
            "grid_area": null,
            "grid_auto_columns": null,
            "grid_auto_flow": null,
            "grid_auto_rows": null,
            "grid_column": null,
            "grid_gap": null,
            "grid_row": null,
            "grid_template_areas": null,
            "grid_template_columns": null,
            "grid_template_rows": null,
            "height": null,
            "justify_content": null,
            "justify_items": null,
            "left": null,
            "margin": null,
            "max_height": null,
            "max_width": null,
            "min_height": null,
            "min_width": null,
            "object_fit": null,
            "object_position": null,
            "order": null,
            "overflow": null,
            "overflow_x": null,
            "overflow_y": null,
            "padding": null,
            "right": null,
            "top": null,
            "visibility": null,
            "width": null
          }
        },
        "a0b7435ad0aa406c87da9cea464f6770": {
          "model_module": "@jupyter-widgets/controls",
          "model_name": "DescriptionStyleModel",
          "model_module_version": "1.5.0",
          "state": {
            "_model_module": "@jupyter-widgets/controls",
            "_model_module_version": "1.5.0",
            "_model_name": "DescriptionStyleModel",
            "_view_count": null,
            "_view_module": "@jupyter-widgets/base",
            "_view_module_version": "1.2.0",
            "_view_name": "StyleView",
            "description_width": ""
          }
        }
      }
    }
  },
  "cells": [
    {
      "cell_type": "markdown",
      "source": [
        "# Homework 11\n",
        "\n",
        "In class, we discussed various forms of position embeddings for self-attention in Transformers. One kind of position embedding we discussed in class is a relative position embedding, where we associate each offset $\\Delta = t - i$ between position query position $t$ and key position $i$ with a scalar $e_\\Delta$ that gets added to the output of the comparison function as $\\alpha(q_t, k_i) + e_\\Delta$. This is the type of position embedding used in [ALIBI](https://arxiv.org/abs/2108.12409) and [T5](https://arxiv.org/abs/2108.12409)."
      ],
      "metadata": {
        "id": "oDbMJbEU0arU"
      }
    },
    {
      "cell_type": "markdown",
      "source": [
        "# Problem 1\n",
        "\n",
        "In the T5 model, there is a single set of attention \"bias\" values ($e_\\Delta$) shared across all layers in the encoder (and another set shared across all layers in the decoder). Each attention head (of which there are 12)has its own set of bias values. The offsets in the bias values are logarithmically spaced, and there are 32 total bias values.\n",
        "\n",
        "Below you will find code for loading the [`t5-base`](https://huggingface.co/t5-base) model from the Hugging Face Model Hub and grabbing the tensor for the attention biases in the encoder. You'll also find a funcion that maps from an offset ($\\Delta$) and returns an index into the attention bias tensor. So, for example, if you wanted to get the bias for query index `t` and key index `i`, you could do `biases[relative_position_bucket(t - i)]`.\n",
        "\n",
        "1. Using this tensor and function, plot images (e.g. using `plt.imshow`) that show the relative attention bias for each offset. Your x-axis should be the query index from 0 to 128, your y-axis should be the key index from 0 to 128, and the color in the image should represent the bias.\n",
        "\n",
        "1. Pick one of the bias images for one of the heads that looks interpretable and explain what it is causing the model to do (i.e. which positions is it increasing or decreasing the attention values for)."
      ],
      "metadata": {
        "id": "Y6y2DH5f0FY7"
      }
    },
    {
      "cell_type": "code",
      "source": [
        "!pip install transformers"
      ],
      "metadata": {
        "id": "Kwidznm31T03",
        "colab": {
          "base_uri": "https://localhost:8080/"
        },
        "outputId": "f40f5c4e-2963-4d5c-9711-08fc479f8658"
      },
      "execution_count": 1,
      "outputs": [
        {
          "output_type": "stream",
          "name": "stdout",
          "text": [
            "Looking in indexes: https://pypi.org/simple, https://us-python.pkg.dev/colab-wheels/public/simple/\n",
            "Collecting transformers\n",
            "  Downloading transformers-4.27.4-py3-none-any.whl (6.8 MB)\n",
            "\u001b[2K     \u001b[90m━━━━━━━━━━━━━━━━━━━━━━━━━━━━━━━━━━━━━━━━\u001b[0m \u001b[32m6.8/6.8 MB\u001b[0m \u001b[31m40.4 MB/s\u001b[0m eta \u001b[36m0:00:00\u001b[0m\n",
            "\u001b[?25hRequirement already satisfied: tqdm>=4.27 in /usr/local/lib/python3.9/dist-packages (from transformers) (4.65.0)\n",
            "Requirement already satisfied: filelock in /usr/local/lib/python3.9/dist-packages (from transformers) (3.11.0)\n",
            "Requirement already satisfied: packaging>=20.0 in /usr/local/lib/python3.9/dist-packages (from transformers) (23.0)\n",
            "Requirement already satisfied: requests in /usr/local/lib/python3.9/dist-packages (from transformers) (2.27.1)\n",
            "Requirement already satisfied: pyyaml>=5.1 in /usr/local/lib/python3.9/dist-packages (from transformers) (6.0)\n",
            "Collecting huggingface-hub<1.0,>=0.11.0\n",
            "  Downloading huggingface_hub-0.13.4-py3-none-any.whl (200 kB)\n",
            "\u001b[2K     \u001b[90m━━━━━━━━━━━━━━━━━━━━━━━━━━━━━━━━━━━━━━\u001b[0m \u001b[32m200.1/200.1 kB\u001b[0m \u001b[31m11.5 MB/s\u001b[0m eta \u001b[36m0:00:00\u001b[0m\n",
            "\u001b[?25hRequirement already satisfied: numpy>=1.17 in /usr/local/lib/python3.9/dist-packages (from transformers) (1.22.4)\n",
            "Collecting tokenizers!=0.11.3,<0.14,>=0.11.1\n",
            "  Downloading tokenizers-0.13.3-cp39-cp39-manylinux_2_17_x86_64.manylinux2014_x86_64.whl (7.8 MB)\n",
            "\u001b[2K     \u001b[90m━━━━━━━━━━━━━━━━━━━━━━━━━━━━━━━━━━━━━━━━\u001b[0m \u001b[32m7.8/7.8 MB\u001b[0m \u001b[31m22.4 MB/s\u001b[0m eta \u001b[36m0:00:00\u001b[0m\n",
            "\u001b[?25hRequirement already satisfied: regex!=2019.12.17 in /usr/local/lib/python3.9/dist-packages (from transformers) (2022.10.31)\n",
            "Requirement already satisfied: typing-extensions>=3.7.4.3 in /usr/local/lib/python3.9/dist-packages (from huggingface-hub<1.0,>=0.11.0->transformers) (4.5.0)\n",
            "Requirement already satisfied: idna<4,>=2.5 in /usr/local/lib/python3.9/dist-packages (from requests->transformers) (3.4)\n",
            "Requirement already satisfied: urllib3<1.27,>=1.21.1 in /usr/local/lib/python3.9/dist-packages (from requests->transformers) (1.26.15)\n",
            "Requirement already satisfied: certifi>=2017.4.17 in /usr/local/lib/python3.9/dist-packages (from requests->transformers) (2022.12.7)\n",
            "Requirement already satisfied: charset-normalizer~=2.0.0 in /usr/local/lib/python3.9/dist-packages (from requests->transformers) (2.0.12)\n",
            "Installing collected packages: tokenizers, huggingface-hub, transformers\n",
            "Successfully installed huggingface-hub-0.13.4 tokenizers-0.13.3 transformers-4.27.4\n"
          ]
        }
      ]
    },
    {
      "cell_type": "code",
      "source": [
        "from transformers import AutoTokenizer, T5Model\n",
        "import matplotlib.pyplot as plt\n",
        "import numpy as np\n",
        "import torch\n",
        "import torch.nn as nn\n",
        "import torch.nn.functional as F\n",
        "import math\n",
        "\n",
        "def relative_position_bucket(relative_position, bidirectional=True, num_buckets=32, max_distance=128):\n",
        "    \"\"\"\n",
        "    Adapted from Mesh Tensorflow:\n",
        "    https://github.com/tensorflow/mesh/blob/0cb87fe07da627bf0b7e60475d59f95ed6b5be3d/mesh_tensorflow/transformer/transformer_layers.py#L593\n",
        "    Translate relative position to a bucket number for relative attention. \n",
        "    \n",
        "    The relative position is defined as memory_position - query_position, i.e. the distance in tokens \n",
        "    from the attending position to the attended-to position. If bidirectional=False, then positive relative positions are invalid. \n",
        "    We use smaller buckets for small absolute relative_position and larger buckets for larger absolute relative_positions. \n",
        "    All relative positions >=max_distance map to the same bucket. All relative positions <=-max_distance map to the same bucket.\n",
        "    This should allow for more graceful generalization to longer sequences than the model has been trained on\n",
        "    \n",
        "    Args:\n",
        "        relative_position: an int32 Tensor\n",
        "        bidirectional: a boolean - whether the attention is bidirectional\n",
        "        num_buckets: an integer\n",
        "        max_distance: an integer\n",
        "    \n",
        "    Returns:\n",
        "        a Tensor with the same shape as relative_position, containing int32 values in the range [0, num_buckets)\n",
        "    \"\"\"\n",
        "    relative_buckets = 0\n",
        "    if bidirectional:\n",
        "        num_buckets //= 2\n",
        "        relative_buckets += (relative_position > 0).to(torch.long) * num_buckets\n",
        "        relative_position = torch.abs(relative_position)\n",
        "    else:\n",
        "        relative_position = -torch.min(relative_position, torch.zeros_like(relative_position))\n",
        "    # now relative_position is in the range [0, inf)\n",
        "\n",
        "    # half of the buckets are for exact increments in positions\n",
        "    max_exact = num_buckets // 2\n",
        "    is_small = relative_position < max_exact\n",
        "\n",
        "    # The other half of the buckets are for logarithmically bigger bins in positions up to max_distance\n",
        "    relative_position_if_large = max_exact + (\n",
        "        torch.log(relative_position.float() / max_exact)\n",
        "        / math.log(max_distance / max_exact)\n",
        "        * (num_buckets - max_exact)\n",
        "    ).to(torch.long)\n",
        "    relative_position_if_large = torch.min(\n",
        "        relative_position_if_large, torch.full_like(relative_position_if_large, num_buckets - 1)\n",
        "    )\n",
        "\n",
        "    relative_buckets += torch.where(is_small, relative_position, relative_position_if_large)\n",
        "    return relative_buckets\n",
        "\n",
        "\n",
        "model = T5Model.from_pretrained(\"t5-base\")\n",
        "biases = model.get_parameter(\"encoder.block.0.layer.0.SelfAttention.relative_attention_bias.weight\").detach().numpy()"
      ],
      "metadata": {
        "id": "eOYe6qcp1C6x",
        "colab": {
          "base_uri": "https://localhost:8080/",
          "height": 81,
          "referenced_widgets": [
            "fb66f570e1bc4ea2aa45514f622b1781",
            "b22bed4926fa40b0be43385b542ade43",
            "b83570cfa99942bc99d6b3e238ffee42",
            "f986ea333e54491b8a3293a22f08ec0d",
            "8ca9993053f742d391398b989bd466d4",
            "e46f21f03c334bc687e4a1f6b6106ea4",
            "ce532357cc7b44ff8a5cb4c8344506e1",
            "edc54a941974401e84e448d6dd179e7e",
            "2b1983334c9348129413fc44d918f12b",
            "2b66f42e6a884994be8499c1ce6e6b1e",
            "a5d5d76817754f61959a545549241389",
            "b5c3a06faa9f4a03b3054498b3b667ec",
            "f3021a9c6e4d46018aaecbbcb9d6f6de",
            "2073d74217c64f2f8b01c2e435959c05",
            "fd880891c6a74614868481cc4e427c0f",
            "53869852b3484871b03fa42777dd6ac5",
            "ffba7ce6686b435786f4d13f3a7eca22",
            "7bddb5e35b0a4de7a606e289fc6702d3",
            "8535fb1080dd4dc0bbc869db2a99bea2",
            "d25f1681b94344619c96cf823badd761",
            "896cce36581f4d3a9956bade2ef5d589",
            "a0b7435ad0aa406c87da9cea464f6770"
          ]
        },
        "outputId": "d5ca0268-2cdd-4f06-b7a9-709fab8df6a2"
      },
      "execution_count": 2,
      "outputs": [
        {
          "output_type": "display_data",
          "data": {
            "text/plain": [
              "Downloading (…)lve/main/config.json:   0%|          | 0.00/1.21k [00:00<?, ?B/s]"
            ],
            "application/vnd.jupyter.widget-view+json": {
              "version_major": 2,
              "version_minor": 0,
              "model_id": "fb66f570e1bc4ea2aa45514f622b1781"
            }
          },
          "metadata": {}
        },
        {
          "output_type": "display_data",
          "data": {
            "text/plain": [
              "Downloading pytorch_model.bin:   0%|          | 0.00/892M [00:00<?, ?B/s]"
            ],
            "application/vnd.jupyter.widget-view+json": {
              "version_major": 2,
              "version_minor": 0,
              "model_id": "b5c3a06faa9f4a03b3054498b3b667ec"
            }
          },
          "metadata": {}
        }
      ]
    },
    {
      "cell_type": "code",
      "source": [
        "def plot_attention_head_biases(query_dim, key_dim, head_idx, bias_weights=biases):\n",
        "    \"\"\"\n",
        "    Plots the relative attention bias for each offset.\n",
        "    \"\"\"\n",
        "    attention_biases = np.zeros([query_dim, key_dim])\n",
        "\n",
        "    # Loop over Query/Key Positions\n",
        "    for t in range(query_dim):\n",
        "        for i in range(key_dim):\n",
        "            # Calculate Relative Positive \n",
        "            delta = t - i\n",
        "            # Get index of Attention Bias\n",
        "            idx = relative_position_bucket(torch.tensor(delta))\n",
        "            # Add Value to Image Matrix\n",
        "            attention_biases[t, i] = biases[:, head_idx][idx]\n",
        "\n",
        "    # Plot the attention biases\n",
        "    plt.imshow(attention_biases, cmap='coolwarm')\n",
        "    plt.colorbar()\n",
        "    plt.xlabel('Query Index')\n",
        "    plt.ylabel('Key Index')\n",
        "    plt.title('Attention Biases')\n",
        "    plt.show()"
      ],
      "metadata": {
        "id": "vgJ5UOuAsTth"
      },
      "execution_count": 3,
      "outputs": []
    },
    {
      "cell_type": "code",
      "source": [
        "plot_attention_head_biases(128, 128, 1)"
      ],
      "metadata": {
        "colab": {
          "base_uri": "https://localhost:8080/",
          "height": 472
        },
        "id": "3XtSWh__hH4X",
        "outputId": "ae4d16d8-0075-4887-8fbf-63e4c826574c"
      },
      "execution_count": 4,
      "outputs": [
        {
          "output_type": "display_data",
          "data": {
            "text/plain": [
              "<Figure size 640x480 with 2 Axes>"
            ],
            "image/png": "[encoded data removed]"
          },
          "metadata": {}
        }
      ]
    },
    {
      "cell_type": "markdown",
      "source": [
        "**Written Answer**: The above is an interesting attention bias map as it shows very short term attetntion. As we can see from the above, the red band is just above the diagonal indication that those values place high bias on the key indices just before the current query index. We can also see evidence of the logarithmic spacing of buckets looking diagonally at the spans of the different color bands. "
      ],
      "metadata": {
        "id": "sztugtwxXYaz"
      }
    },
    {
      "cell_type": "markdown",
      "source": [
        "# Problem 2\n",
        "\n",
        "Consider a one-dimensional convolution of a filter $[w_1, w_2, w_3]$ against a sequence $[x_1, x_2, x_3, x_4]$ with a padding of 1 and stride of 1. The output of this convolution is\n",
        "\\begin{align}\n",
        " [&w_2 x_1 + w_3 x_2, \\\\\n",
        " &w_1 x_1 + w_2 x_2 + w_3 x_3, \\\\\n",
        " &w_1 x_2 + w_2 x_3 + w_3 x_4, \\\\\n",
        " &w_1 x_3 + w_2 x_4] \\end{align}\n",
        "In addition, consider the general form of the \"relative attention bias\" approach, where $ e_\\Delta$ gets added to the output of the comparison function as $\\alpha(q_t, k_i) + e_\\Delta$. Design an attention mechanism using relative attention bias that produces the same output the convolution described above. You can set $e_\\Delta$ however you choose, i.e. don't assume they are learned. Hint: Remember, you also get to decide what the queries, keys, values, comparison function, and reduction function are. They can be whatever you want! E.g. the reduction function doesn't need to have a softmax and the comparison function's output can be constant."
      ],
      "metadata": {
        "id": "S9BbqhZY_IfD"
      }
    },
    {
      "cell_type": "markdown",
      "source": [
        "**Written Answer**: The following implementation shows my take on replicating the effect of passing a 1-D convolution using a filter of size 3 on the input of size 4 by using an attention mechanism with the standard features. Mapping the computation from thet convolution to an attention mechanism was done, yielding the following:\n",
        "\n",
        "* Map from Input to Query: Take a query vector q, which is the convolutional filter and return this constant value for any input.\n",
        "\n",
        "* Map from Input to Key: As we will see in the implementation of the comparison function, the value of the key is not relevant, so I chose to use the Identity() operator as the Key Map. However, taking a page out of the attention pooling HW, and if we want to follow the general practices of keepign the key and value dimension identical, we can also assign the key to be equivalent to the value, implemented below.\n",
        "\n",
        "* Map from Input to Value: In order to replicate the computation from a convolution with stride=1 AND padding=1, I set the value equal to the input sequence with the padding applied.\n",
        "\n",
        "* Comparison Function: The comparison function takes its from from the implementation of the reduction function below. In order to perform the convolution operation to get the same output as the above, the comparison function needs to return the query values, regardless of what the input is.\n",
        "\n",
        "* Reduction Function: The reduction function takes the outputs from the comparison functions and returns an \"attention\" weighted transformation on the values. Here is where I defined the convolution operator to take the convolutional weights (in this case the queries) and get the cross-correlation  over the input sequence.\n",
        "\n",
        "I implemented the above strategy as an attention mechanism and used a random convolutional filter and random input to test that the outputs were equivalent."
      ],
      "metadata": {
        "id": "9LgPl-9u3Zvk"
      }
    },
    {
      "cell_type": "code",
      "source": [
        "# Define An Arbitrary Convolutional Filter\n",
        "w = torch.rand(3)\n",
        "# Define An Arbitrary Input\n",
        "x = torch.rand(4)"
      ],
      "metadata": {
        "id": "xRr1l48hZqXu"
      },
      "execution_count": 5,
      "outputs": []
    },
    {
      "cell_type": "code",
      "source": [
        "# Sanity Check The Manual Version\n",
        "z1 = w[1]*x[0] + w[2]*x[1]\n",
        "z2 = w[0]*x[0] + w[1]*x[1] + w[2]*x[2]\n",
        "z3 = w[0]*x[1] + w[1]*x[2] + w[2]*x[3]\n",
        "z4 = w[0]*x[2] + w[1]*x[3]\n",
        "\n",
        "torch.tensor([z1, z2, z3, z4])"
      ],
      "metadata": {
        "colab": {
          "base_uri": "https://localhost:8080/"
        },
        "id": "HUUT4tZea0WT",
        "outputId": "373bffbd-284f-4520-b5c1-b19a8e78dad3"
      },
      "execution_count": 6,
      "outputs": [
        {
          "output_type": "execute_result",
          "data": {
            "text/plain": [
              "tensor([0.4070, 0.6126, 0.5321, 0.2838])"
            ]
          },
          "metadata": {},
          "execution_count": 6
        }
      ]
    },
    {
      "cell_type": "code",
      "source": [
        "# Test That the Convolutional Layer Gives the Same Output\n",
        "conv = torch.nn.Conv1d(1, 1, kernel_size=3, stride=1, padding=1, bias=False)\n",
        "conv.weight = torch.nn.Parameter(w.unsqueeze(0).unsqueeze(0))\n",
        "conv(x.unsqueeze(0).unsqueeze(0))"
      ],
      "metadata": {
        "id": "Vi5L2AgyZq9q",
        "colab": {
          "base_uri": "https://localhost:8080/"
        },
        "outputId": "5bd4b1c9-bb19-4dfa-c63f-248ed4a4c983"
      },
      "execution_count": 7,
      "outputs": [
        {
          "output_type": "execute_result",
          "data": {
            "text/plain": [
              "tensor([[[0.4070, 0.6126, 0.5321, 0.2838]]], grad_fn=<ConvolutionBackward0>)"
            ]
          },
          "metadata": {},
          "execution_count": 7
        }
      ]
    },
    {
      "cell_type": "code",
      "source": [
        "class CustomAttn:\n",
        "    \"\"\"\n",
        "    Define a Custom Attention Module\n",
        "\n",
        "    Args:\n",
        "        query_map: Map input to query \n",
        "        key_map: Map input to key\n",
        "        value_map: Map input to value\n",
        "        comparison_fxn: Compare Key to Query\n",
        "        reduction_fxn: Reduction Function\n",
        "\n",
        "    Returns:\n",
        "        attn_weighted_inp: Transformed inputs that are now attention weighted\n",
        "    \"\"\"\n",
        "\n",
        "    def __init__(self,\n",
        "                 comparison_fxn,\n",
        "                 reduction_fxn,\n",
        "                 query_map=None,\n",
        "                 query_weights=None,\n",
        "                 key_map=None,\n",
        "                 value_map=None,\n",
        "                 ):\n",
        "        self.reduction = reduction_fxn\n",
        "        self.comparison = comparison_fxn\n",
        "        self.query_map = query_map\n",
        "        self.q_weights = query_weights\n",
        "        self.key_map = key_map\n",
        "        self.value_map = value_map\n",
        "        \n",
        "    def forward(self, inputs):\n",
        "        queries = self.query_map(inputs, self.q_weights)\n",
        "        keys = self.key_map(inputs)\n",
        "        values = self.value_map(inputs)\n",
        "        alpha = self.comparison(queries, keys)\n",
        "        outs = self.reduction(alpha, values)\n",
        "        return outs"
      ],
      "metadata": {
        "id": "mc_FojbTbndO"
      },
      "execution_count": 15,
      "outputs": []
    },
    {
      "cell_type": "code",
      "source": [
        "def query_mapper(inputs, weights=None):\n",
        "        return weights\n",
        "            \n",
        "def conv_map(inputs, padding=\"bidirectional\", padding_len=1, padding_value=0):\n",
        "    \"\"\"\n",
        "    Treat the mapping of Inputs [batch_size, input_dim] to inputs that are \n",
        "    traditionally passed into convolutional layers by applying padding to them.\n",
        "    \"\"\"\n",
        "    if padding == \"bidirectional\":\n",
        "        pad = (padding_len, padding_len)\n",
        "    elif padding == \"left\":\n",
        "        pad = (padding_len, 0)\n",
        "    elif padding == \"right\":\n",
        "        pad = (0, padding_len)\n",
        "\n",
        "    padded_tensor = F.pad(inputs, pad, \"constant\", value=padding_value)\n",
        "\n",
        "    return padded_tensor"
      ],
      "metadata": {
        "id": "n0rior7YdenO"
      },
      "execution_count": 9,
      "outputs": []
    },
    {
      "cell_type": "code",
      "source": [
        "def dummy_comparison_function(queries, keys, good_vibes=True):\n",
        "    \"\"\"\n",
        "    Define a dummy comparison function that checks if the\n",
        "    vibes are good and then simply outputs the query vector\n",
        "    \"\"\"\n",
        "    assert good_vibes==True\n",
        "    return queries\n",
        "\n",
        "def  conv_reduction_fxn(comparisons, values, stride=1):\n",
        "    \"\"\"\n",
        "    Perform 1-D Convolution [Cross-Correlation] Between\n",
        "    The Query Vector and the Key Vector to get the Similarity\n",
        "\n",
        "    Args:\n",
        "        queries: query vector \n",
        "        values: value vector (bsz, key_dim)\n",
        "\n",
        "    Returns:\n",
        "        sims: similarity vectors\n",
        "    \"\"\"\n",
        "\n",
        "    batch_size, input_dim = values.size()\n",
        "    _, kernel_size = comparisons.shape\n",
        "\n",
        "    output_dim = (input_dim - kernel_size)//stride + 1\n",
        "    sims = torch.zeros([batch_size, output_dim])\n",
        "\n",
        "\n",
        "    for b in range(batch_size):\n",
        "        for i in range(0, input_dim - kernel_size + 1, stride):\n",
        "            input_window = values[b, i:i+kernel_size]\n",
        "            sims[b, i//stride] = torch.sum(input_window * comparisons[:, :])     \n",
        "    return sims\n",
        "\n"
      ],
      "metadata": {
        "id": "rTKYC44ZvuvI"
      },
      "execution_count": 14,
      "outputs": []
    },
    {
      "cell_type": "code",
      "source": [
        "ConvAttn = CustomAttn(dummy_comparison_function, conv_reduction_fxn, query_map=query_mapper, query_weights=w.unsqueeze(0), key_map=nn.Identity(), value_map=conv_map)\n",
        "ConvAttn.forward(x.unsqueeze(0))"
      ],
      "metadata": {
        "colab": {
          "base_uri": "https://localhost:8080/"
        },
        "id": "CwvAKPjFOMse",
        "outputId": "15283533-ab43-4a90-83d2-2c0cf4645892"
      },
      "execution_count": 16,
      "outputs": [
        {
          "output_type": "execute_result",
          "data": {
            "text/plain": [
              "tensor([[0.4070, 0.6126, 0.5321, 0.2838]])"
            ]
          },
          "metadata": {},
          "execution_count": 16
        }
      ]
    }
  ]
}