{
 "cells": [
  {
   "cell_type": "markdown",
   "metadata": {
    "id": "VYovBDSbwfYD"
   },
   "source": [
    "# 1. Receptive field and parameter count (1 point)\n",
    "\n",
    "Recall that the *receptive field* refers to size of the region in the input that are visible to a given activation (or neuron) in a convolutional neural network. \"Visible\" here means that the values of those inputs affect the value of the activation. In all of the following questions, assume that the input image is arbitrarily large, so you don't need to worry about boundary effects or padding.\n",
    "\n",
    "1. Consider a convolutional network which consists of three convolutional layers, each with a filter size of 3x3, and a stride of 1x1. What is the receptive field size of one of the activations at the final output?\n",
    "1. What is the receptive field if the stride is 2x3 at each layer?\n",
    "1. What is the receptive field if the stride is 2x2 at each layer, and there is a 2x2 max-pooling layer with stride 2x2 after each convolutional layer?\n",
    "1. Assume that the input image has 3 channels, the three convolutional layers have 16, 32, and 64 channels respectively, and that there are no biases on any of the layers. How many parameters does the network have?"
   ]
  },
  {
   "cell_type": "code",
   "execution_count": 1,
   "metadata": {
    "id": "bSLEGzakwX06"
   },
   "outputs": [],
   "source": [
    "import numpy as np\n",
    "\n",
    "# This code was built upon code from \n",
    "# https://github.com/rogertrullo/Receptive-Field-in-Pytorch/\n",
    "# https://stanford.edu/~shervine/teaching/cs-230/cheatsheet-convolutional-neural-networks\n",
    "\n",
    "\n",
    "def compute_N(outs,f,s):\n",
    "    n_dims = len(outs)\n",
    "    rez = np.zeros(n_dims)\n",
    "    for i in range(n_dims):\n",
    "        rez[i] =s[i]*(outs[i]-1)+f[i] \n",
    "    return rez\n",
    "\n",
    "def compute_RF(layers):\n",
    "    # Layers are given as tuple of tuples in (Filter, Stride)\n",
    "    outs=np.ones(len(layers[-1][0]))\n",
    "    for f,s in reversed(layers):\n",
    "        n_dims = len(f)\n",
    "        outs=compute_N(outs,f,s)\n",
    "    return np.prod(outs)"
   ]
  },
  {
   "cell_type": "code",
   "execution_count": 2,
   "metadata": {
    "colab": {
     "base_uri": "https://localhost:8080/"
    },
    "id": "JtOWIRS91YRA",
    "outputId": "14fc4f30-92d6-43e0-88ca-39fc232915ea"
   },
   "outputs": [
    {
     "data": {
      "text/plain": [
       "49.0"
      ]
     },
     "execution_count": 2,
     "metadata": {},
     "output_type": "execute_result"
    }
   ],
   "source": [
    "### Answer to Q1.1\n",
    "layers = [((3,3),(1,1))]*3\n",
    "compute_RF(layers)"
   ]
  },
  {
   "cell_type": "code",
   "execution_count": 3,
   "metadata": {
    "colab": {
     "base_uri": "https://localhost:8080/"
    },
    "id": "DRbn7OblAD1r",
    "outputId": "a5f52b04-712b-442c-ba70-592c7b4db0d2"
   },
   "outputs": [
    {
     "data": {
      "text/plain": [
       "405.0"
      ]
     },
     "execution_count": 3,
     "metadata": {},
     "output_type": "execute_result"
    }
   ],
   "source": [
    "### Answer to Q1.2\n",
    "layers = [((3,3),(2,3))]*3\n",
    "compute_RF(layers)"
   ]
  },
  {
   "cell_type": "code",
   "execution_count": 4,
   "metadata": {
    "colab": {
     "base_uri": "https://localhost:8080/"
    },
    "id": "eAiUz54UC5-n",
    "outputId": "ab46a891-f112-42f4-f77e-d26abc30f02b"
   },
   "outputs": [
    {
     "data": {
      "text/plain": [
       "7225.0"
      ]
     },
     "execution_count": 4,
     "metadata": {},
     "output_type": "execute_result"
    }
   ],
   "source": [
    "### Asnwer to Q1.3\n",
    "layers = [((3,3),(2,2)), ((2,2),(2,2))]*3\n",
    "compute_RF(layers)"
   ]
  },
  {
   "cell_type": "code",
   "execution_count": 5,
   "metadata": {
    "id": "NJlMvYVsDx58"
   },
   "outputs": [],
   "source": [
    "### No outside sources for the following code\n",
    "# https://learnopencv.com/number-of-parameters-and-tensor-sizes-in-convolutional-neural-network/\n",
    "\n",
    "\n",
    "def compute_layer_params(layer, bias):\n",
    "    k1, k2, c_i, c_o = layer\n",
    "    return (k1*k2*c_i + int(bias))*c_o\n",
    "\n",
    "def compute_network_params(layers, bias=False):\n",
    "    #Layers is a list of tuples (Filter_H, Filter_W, Input_Channels, Output_Channel)\n",
    "    # Number of parameters is independent of stride? \n",
    "    return np.sum([compute_layer_params(layer, bias) for layer in layers])"
   ]
  },
  {
   "cell_type": "code",
   "execution_count": 6,
   "metadata": {
    "colab": {
     "base_uri": "https://localhost:8080/"
    },
    "id": "SkFbQ8akYGHv",
    "outputId": "3b503c60-1ba5-41ca-bf72-5d1ccda629f4"
   },
   "outputs": [
    {
     "data": {
      "text/plain": [
       "23472"
      ]
     },
     "execution_count": 6,
     "metadata": {},
     "output_type": "execute_result"
    }
   ],
   "source": [
    "### Answer to Q1.4\n",
    "\n",
    "layers = [(3,3,3,16),(3,3, 16, 32), (3,3,32,64)]\n",
    "compute_network_params(layers)"
   ]
  },
  {
   "cell_type": "markdown",
   "metadata": {
    "id": "T8t21JGZyUr-"
   },
   "source": [
    "# 2. CIFAR-10 classification (3 points)\n",
    "\n",
    "CIFAR-10 is a standard dataset where the goal is to classify 32 x 32 images into one of 10 classes. The goal of this problem is simple: build and train a convolutional neural network to perform classification on CIFAR-10. The problem is intentionally extremely open-ended! There are dozens (hundreds?) of tutorials online describing how to train a convnet on CIFAR-10 - please seek them out and make use of them. I recommend getting started with the [CIFAR-10 tutorial from PyTorch](https://colab.research.google.com/github/pytorch/tutorials/blob/gh-pages/_downloads/cifar10_tutorial.ipynb) which includes code for loading the dataset and evaluating performance on it. You are welcome to use any other resource that you want (but please cite it!) - as I mentioned there are many, many tutorials online, and googling for help is an utterly crucial skill for a researcher! You will be graded on the final test accuracy achieved by your model:\n",
    "\n",
    "- 60% accuracy or higher: 2/3 points\n",
    "- 75% accuracy or higher: 3/3 points\n",
    "- Highest accuracy in the class: 4/3 points!\n",
    "\n",
    "Note that in order for us to know the final performance of your model, you will need to implement a function that computes the accuracy of your model on the test set (which appears in both of the linked tutorials above). The only rules are: You can only train your model on the CIFAR-10 training set (i.e. you can't use pre-trained models or other datasets for additional training, and you certaintly can't train on the CIFAR-10 test set!), and you must train the model on the free Colab GPU or TPU. This means you can only train the model for an hour or so! This is *much* less compute than is typically used for training CIFAR-10 models. As such, this is as much an exercise in building an accurate model as it is in building an efficient one. This is a popular game to play, and to the best of my knowledge the state-of-the-art is [this approach](https://myrtle.ai/learn/how-to-train-your-resnet/) which attains 96% accuracy in only *26 seconds* on a single GPU! (note that the final link on that page is broken; it should be [this](https://myrtle.ai/learn/how-to-train-your-resnet-8-bag-of-tricks/)).\n",
    "\n",
    "There are lots of things you can try to make your model more accurate and/or more efficient:\n",
    "\n",
    "1. Deeper models\n",
    "1. Residual connections\n",
    "1. [Data augmentation and normalization](https://d2l.ai/chapter_computer-vision/kaggle-cifar10.html#image-augmentation)\n",
    "1. Regularization like dropout or weight decay\n",
    "1. [Learning rate schedules](https://d2l.ai/chapter_optimization/lr-scheduler.html)\n",
    "1. [Different forms of normalization](https://d2l.ai/chapter_convolutional-modern/batch-norm.html)\n",
    "\n",
    "Note that we haven't covered all these topics in class yet, but you should be able to get to at least 60% accuracy without applying all of these ideas - and probably 75% by tweaking around a little bit. Specifically, you should be able to get about 60% accuracy by taking the basic AlexNet architecture we discussed in class and applying it directly to CIFAR-10. And, if you're feeling adventurous, feel free to go for 96% using the aforementioned blog series! Good luck!"
   ]
  },
  {
   "cell_type": "code",
   "execution_count": 1,
   "metadata": {
    "id": "Hcq8hkXJVuG6"
   },
   "outputs": [],
   "source": [
    "#Import Dependencies \n",
    "\n",
    "import torch\n",
    "import torchvision\n",
    "import torchvision.transforms as transforms\n",
    "import torch.nn as nn\n",
    "import torch.nn.functional as F\n",
    "import torch.optim as optim\n",
    "!pip install wandb -qq\n",
    "import wandb\n",
    "import matplotlib.pyplot as plt\n",
    "import numpy as np\n",
    "device = torch.device(\"cuda:0\" if torch.cuda.is_available() else \"cpu\")"
   ]
  },
  {
   "cell_type": "code",
   "execution_count": 2,
   "metadata": {
    "colab": {
     "base_uri": "https://localhost:8080/"
    },
    "id": "KaOfFDyuWOND",
    "outputId": "9a09f298-ebe2-4fc9-890d-f5e868c6ef14"
   },
   "outputs": [
    {
     "name": "stdout",
     "output_type": "stream",
     "text": [
      "Files already downloaded and verified\n",
      "Files already downloaded and verified\n"
     ]
    }
   ],
   "source": [
    "transform = transforms.Compose(\n",
    "    [transforms.ToTensor(),\n",
    "     transforms.Normalize((0.5, 0.5, 0.5), (0.5, 0.5, 0.5))])\n",
    "\n",
    "trainset = torchvision.datasets.CIFAR10(root='./data', train=True,\n",
    "                                        download=True, transform=transform)\n",
    "trainloader = torch.utils.data.DataLoader(trainset, batch_size=128,\n",
    "                                          shuffle=True)\n",
    "\n",
    "testset = torchvision.datasets.CIFAR10(root='./data', train=False,\n",
    "                                       download=True, transform=transform)\n",
    "testloader = torch.utils.data.DataLoader(testset, batch_size=128,\n",
    "                                         shuffle=False)\n",
    "\n",
    "classes = ('plane', 'car', 'bird', 'cat',\n",
    "           'deer', 'dog', 'frog', 'horse', 'ship', 'truck')"
   ]
  },
  {
   "cell_type": "code",
   "execution_count": 4,
   "metadata": {
    "colab": {
     "base_uri": "https://localhost:8080/",
     "height": 155
    },
    "id": "HKpis53VWc3A",
    "outputId": "1bf70e54-d232-4755-80ca-d2f3f3745770"
   },
   "outputs": [
    {
     "name": "stdout",
     "output_type": "stream",
     "text": [
      "  dog  ship  bird plane\n"
     ]
    },
    {
     "data": {
      "image/png": "[encoded data removed]",
      "text/plain": [
       "<Figure size 432x288 with 1 Axes>"
      ]
     },
     "metadata": {
      "needs_background": "light"
     },
     "output_type": "display_data"
    }
   ],
   "source": [
    "# functions to show an image\n",
    "\n",
    "\n",
    "def imshow(img):\n",
    "    img = img / 2 + 0.5     # unnormalize\n",
    "    npimg = img.numpy()\n",
    "    plt.imshow(np.transpose(npimg, (1, 2, 0)))\n",
    "\n",
    "\n",
    "# get some random training images\n",
    "dataiter = iter(trainloader)\n",
    "images, labels = next(dataiter)\n",
    "\n",
    "# show images\n",
    "imshow(torchvision.utils.make_grid(images[:4]))\n",
    "# print labels\n",
    "print(' '.join('%5s' % classes[labels[j]] for j in range(4)))"
   ]
  },
  {
   "cell_type": "code",
   "execution_count": 43,
   "metadata": {
    "colab": {
     "base_uri": "https://localhost:8080/"
    },
    "id": "Ax9GMnI2gCxE",
    "outputId": "836e9ece-480e-4573-9417-f996ce4638fc"
   },
   "outputs": [
    {
     "data": {
      "text/plain": [
       "torch.Size([128, 3, 32, 32])"
      ]
     },
     "execution_count": 43,
     "metadata": {},
     "output_type": "execute_result"
    }
   ],
   "source": [
    "images.shape"
   ]
  },
  {
   "cell_type": "markdown",
   "metadata": {
    "id": "jz0LQpnhDCqs"
   },
   "source": [
    "### Start a New WANDB Run"
   ]
  },
  {
   "cell_type": "code",
   "execution_count": 5,
   "metadata": {
    "colab": {
     "base_uri": "https://localhost:8080/",
     "height": 228
    },
    "id": "X7Lr4rRDWl5p",
    "outputId": "e39f7753-cbf3-4417-81d8-d2152afda92a"
   },
   "outputs": [
    {
     "name": "stderr",
     "output_type": "stream",
     "text": [
      "ERROR:wandb.jupyter:Failed to detect the name of this notebook, you can set it manually with the WANDB_NOTEBOOK_NAME environment variable to enable code saving.\n"
     ]
    },
    {
     "data": {
      "application/javascript": [
       "\n",
       "        window._wandbApiKey = new Promise((resolve, reject) => {\n",
       "            function loadScript(url) {\n",
       "            return new Promise(function(resolve, reject) {\n",
       "                let newScript = document.createElement(\"script\");\n",
       "                newScript.onerror = reject;\n",
       "                newScript.onload = resolve;\n",
       "                document.body.appendChild(newScript);\n",
       "                newScript.src = url;\n",
       "            });\n",
       "            }\n",
       "            loadScript(\"https://cdn.jsdelivr.net/npm/postmate/build/postmate.min.js\").then(() => {\n",
       "            const iframe = document.createElement('iframe')\n",
       "            iframe.style.cssText = \"width:0;height:0;border:none\"\n",
       "            document.body.appendChild(iframe)\n",
       "            const handshake = new Postmate({\n",
       "                container: iframe,\n",
       "                url: 'https://wandb.ai/authorize'\n",
       "            });\n",
       "            const timeout = setTimeout(() => reject(\"Couldn't auto authenticate\"), 5000)\n",
       "            handshake.then(function(child) {\n",
       "                child.on('authorize', data => {\n",
       "                    clearTimeout(timeout)\n",
       "                    resolve(data)\n",
       "                });\n",
       "            });\n",
       "            })\n",
       "        });\n",
       "    "
      ],
      "text/plain": [
       "<IPython.core.display.Javascript object>"
      ]
     },
     "metadata": {},
     "output_type": "display_data"
    },
    {
     "name": "stderr",
     "output_type": "stream",
     "text": [
      "\u001b[34m\u001b[1mwandb\u001b[0m: Logging into wandb.ai. (Learn how to deploy a W&B server locally: https://wandb.me/wandb-server)\n",
      "\u001b[34m\u001b[1mwandb\u001b[0m: You can find your API key in your browser here: https://wandb.ai/authorize\n",
      "wandb: Paste an API key from your profile and hit enter, or press ctrl+c to quit: "
     ]
    },
    {
     "name": "stdout",
     "output_type": "stream",
     "text": [
      "··········\n"
     ]
    },
    {
     "name": "stderr",
     "output_type": "stream",
     "text": [
      "\u001b[34m\u001b[1mwandb\u001b[0m: Appending key for api.wandb.ai to your netrc file: /root/.netrc\n"
     ]
    },
    {
     "data": {
      "text/html": [
       "Tracking run with wandb version 0.13.10"
      ],
      "text/plain": [
       "<IPython.core.display.HTML object>"
      ]
     },
     "metadata": {},
     "output_type": "display_data"
    },
    {
     "data": {
      "text/html": [
       "Run data is saved locally in <code>/content/wandb/run-20230215_115318-qslt97be</code>"
      ],
      "text/plain": [
       "<IPython.core.display.HTML object>"
      ]
     },
     "metadata": {},
     "output_type": "display_data"
    },
    {
     "data": {
      "text/html": [
       "Syncing run <strong><a href='https://wandb.ai/dhuvik/COMP658_ConvNet/runs/qslt97be' target=\"_blank\">handsome-heartthrob-6</a></strong> to <a href='https://wandb.ai/dhuvik/COMP658_ConvNet' target=\"_blank\">Weights & Biases</a> (<a href='https://wandb.me/run' target=\"_blank\">docs</a>)<br/>"
      ],
      "text/plain": [
       "<IPython.core.display.HTML object>"
      ]
     },
     "metadata": {},
     "output_type": "display_data"
    },
    {
     "data": {
      "text/html": [
       " View project at <a href='https://wandb.ai/dhuvik/COMP658_ConvNet' target=\"_blank\">https://wandb.ai/dhuvik/COMP658_ConvNet</a>"
      ],
      "text/plain": [
       "<IPython.core.display.HTML object>"
      ]
     },
     "metadata": {},
     "output_type": "display_data"
    },
    {
     "data": {
      "text/html": [
       " View run at <a href='https://wandb.ai/dhuvik/COMP658_ConvNet/runs/qslt97be' target=\"_blank\">https://wandb.ai/dhuvik/COMP658_ConvNet/runs/qslt97be</a>"
      ],
      "text/plain": [
       "<IPython.core.display.HTML object>"
      ]
     },
     "metadata": {},
     "output_type": "display_data"
    }
   ],
   "source": [
    "run = wandb.init(project=\"COMP658_ConvNet\", entity=\"dhuvik\", job_type=\"baseline2\")"
   ]
  },
  {
   "cell_type": "code",
   "execution_count": 11,
   "metadata": {
    "id": "2eXGMlmPC6J3"
   },
   "outputs": [],
   "source": [
    "### Create an Artifact for the Data\n",
    "\n",
    "data_artifact = wandb.Artifact(\"DataRepository\", type=\"data\")"
   ]
  },
  {
   "cell_type": "code",
   "execution_count": 12,
   "metadata": {
    "id": "yxZuAvD0Rw6H"
   },
   "outputs": [],
   "source": [
    "train_table100 = wandb.Table(data=list(trainset)[:100], columns=['image', 'label'])\n",
    "test_table100 = wandb.Table(data=list(testset)[:100], columns=['image', 'label'])"
   ]
  },
  {
   "cell_type": "code",
   "execution_count": 13,
   "metadata": {
    "colab": {
     "base_uri": "https://localhost:8080/"
    },
    "id": "li8FaDeaE6y1",
    "outputId": "3c21174b-6403-455e-dcb0-9944ef52e605"
   },
   "outputs": [
    {
     "data": {
      "text/plain": [
       "ArtifactManifestEntry(path='Transformed Test Dataset 100.table.json', digest='GmGLqy/A4eE6hqs40qVf/w==', ref=None, birth_artifact_id=None, size=6400161, extra={}, local_path='/root/.local/share/wandb/artifacts/staging/tmpstpru0gz')"
      ]
     },
     "execution_count": 13,
     "metadata": {},
     "output_type": "execute_result"
    }
   ],
   "source": [
    "### Add the Training and Test Data to the Artifact\n",
    "\n",
    "data_artifact.add(train_table100, \"Transformed Training Dataset 100\")\n",
    "data_artifact.add(test_table100, \"Transformed Test Dataset 100\")"
   ]
  },
  {
   "cell_type": "code",
   "execution_count": 23,
   "metadata": {
    "colab": {
     "base_uri": "https://localhost:8080/",
     "height": 150,
     "referenced_widgets": [
      "df681b74d87a4a52a83adfb4c9885ff8",
      "e0573fc73ab344f3a0680e798ae866f9",
      "b391ed0658db4c3ead29ea75004a7115",
      "13bb1cb2f6ca49a9b4edf18dbaa0dd54",
      "ec1b433384344667b0b048ae222e7be1",
      "4322781493d64c539e63037f34c08577",
      "2abe61a57dbb46ea8be4b38bc93dbe9f",
      "364570346869494b884bf0871dec5991"
     ]
    },
    "id": "k9B1kuYRFMjc",
    "outputId": "88cbe368-64ac-4450-8e30-0245f185710a"
   },
   "outputs": [
    {
     "data": {
      "text/html": [
       "Waiting for W&B process to finish... <strong style=\"color:green\">(success).</strong>"
      ],
      "text/plain": [
       "<IPython.core.display.HTML object>"
      ]
     },
     "metadata": {},
     "output_type": "display_data"
    },
    {
     "data": {
      "application/vnd.jupyter.widget-view+json": {
       "model_id": "df681b74d87a4a52a83adfb4c9885ff8",
       "version_major": 2,
       "version_minor": 0
      },
      "text/plain": [
       "VBox(children=(Label(value='0.001 MB of 0.001 MB uploaded (0.000 MB deduped)\\r'), FloatProgress(value=1.0, max…"
      ]
     },
     "metadata": {},
     "output_type": "display_data"
    },
    {
     "data": {
      "text/html": [
       " View run <strong style=\"color:#cdcd00\">handsome-heartthrob-6</strong> at: <a href='https://wandb.ai/dhuvik/COMP658_ConvNet/runs/qslt97be' target=\"_blank\">https://wandb.ai/dhuvik/COMP658_ConvNet/runs/qslt97be</a><br/>Synced 5 W&B file(s), 0 media file(s), 0 artifact file(s) and 0 other file(s)"
      ],
      "text/plain": [
       "<IPython.core.display.HTML object>"
      ]
     },
     "metadata": {},
     "output_type": "display_data"
    },
    {
     "data": {
      "text/html": [
       "Find logs at: <code>./wandb/run-20230215_115318-qslt97be/logs</code>"
      ],
      "text/plain": [
       "<IPython.core.display.HTML object>"
      ]
     },
     "metadata": {},
     "output_type": "display_data"
    }
   ],
   "source": [
    "run.finish()  # Upload to the weights and biases server"
   ]
  },
  {
   "cell_type": "markdown",
   "metadata": {
    "id": "9TrtxfYKjQHa"
   },
   "source": [
    "### Implementing the Baseline Model\n",
    "\n",
    "**Note:** The baseline model along with the code to calculate accuracy is adopted from the tutorial linked in the HW"
   ]
  },
  {
   "cell_type": "code",
   "execution_count": 24,
   "metadata": {
    "id": "xumW0qQ8VX9C"
   },
   "outputs": [],
   "source": [
    "class BaselineNet(nn.Module):\n",
    "    def __init__(self):\n",
    "        super(BaselineNet, self).__init__()\n",
    "        self.conv1 = nn.Conv2d(in_channels=3, out_channels=6, kernel_size=5)\n",
    "        self.pool = nn.MaxPool2d((2, 2))\n",
    "        self.conv2 = nn.Conv2d(in_channels=6, out_channels=16, kernel_size=5)\n",
    "        self.fc1 = nn.Linear(16 * 5 * 5, 120) # Forward Call 1 Outdim * kernel * kernel\n",
    "        self.fc2 = nn.Linear(120, 84) # Forward Call 2 Squeeze down to dimension of 84\n",
    "        self.fc3 = nn.Linear(84, 10) # Forward Call 3 Squeeze to num_classes\n",
    "\n",
    "    def forward(self, x):\n",
    "        x = self.pool(F.relu(self.conv1(x)))\n",
    "        x = self.pool(F.relu(self.conv2(x)))\n",
    "        x = x.view(-1, 16 * 5 * 5)\n",
    "        x = F.relu(self.fc1(x))\n",
    "        x = F.relu(self.fc2(x))\n",
    "        x = self.fc3(x)\n",
    "        return x"
   ]
  },
  {
   "cell_type": "code",
   "execution_count": 25,
   "metadata": {
    "id": "a7TaoK0HkejV"
   },
   "outputs": [],
   "source": [
    "bNet = BaselineNet().to(device)\n",
    "criterion = nn.CrossEntropyLoss()\n",
    "optimizer = optim.SGD(bNet.parameters(), lr=0.001, momentum=0.9)"
   ]
  },
  {
   "cell_type": "code",
   "execution_count": 3,
   "metadata": {
    "id": "IgONQ11C5Sf8"
   },
   "outputs": [],
   "source": [
    "def calc_test_loss(model, data_loader, criterion, device):\n",
    "    with torch.no_grad():\n",
    "        _, labels = next(iter(data_loader))\n",
    "        batch_size = len(labels)\n",
    "        running_loss = 0\n",
    "        for inps, labels in data_loader:\n",
    "            inps = inps.to(device)\n",
    "            labels = labels.to(device)\n",
    "            touts = model(inps)\n",
    "            tloss = criterion(touts, labels)\n",
    "            running_loss += tloss.item()\n",
    "        return running_loss / len(data_loader)\n",
    "\n",
    "def calc_test_accuracy(model, test_loader, device):\n",
    "    model = model.to(device)\n",
    "    correct = 0\n",
    "    total = 0\n",
    "    with torch.no_grad():\n",
    "        for data in test_loader:\n",
    "            images, labels = data\n",
    "            images, labels = images.to(device), labels.to(device)\n",
    "            outputs = model(images)\n",
    "            _, predicted = torch.max(outputs.data, 1)\n",
    "            total += labels.size(0)\n",
    "            correct += (predicted == labels).sum().item()\n",
    "\n",
    "    print('Accuracy of the network on the test images: %d %%' % (\n",
    "        100 * correct / total))"
   ]
  },
  {
   "cell_type": "code",
   "execution_count": 4,
   "metadata": {
    "id": "z4y_6_0lVX9D"
   },
   "outputs": [],
   "source": [
    "def train_epochs(n_epochs, train_loader, test_loader, model, optimizer, criterion, log_every=1000, dev=device):\n",
    "    #run = wandb.init(project=\"COMP658_ConvNet\", entity=\"dhuvik\", job_type=\"training_run\", settings=wandb.Settings(start_method=\"thread\"))\n",
    "    #wandb.watch(model, log_freq=log_every)\n",
    "    # See how often to log iterations\n",
    "    if log_every == None:\n",
    "        log_every = len(train_loader)\n",
    "    elif log_every > len(train_loader):\n",
    "        log_every = len(train_loader)\n",
    "\n",
    "    train_loss = []\n",
    "    test_loss = []\n",
    "    \n",
    "    for epoch in range(n_epochs):  # loop over the dataset multiple times\n",
    "        running_loss = 0.0\n",
    "        for i, data in enumerate(train_loader, 0):\n",
    "            # get the inputs\n",
    "            inputs, labels = data\n",
    "            inputs, labels = inputs.to(dev), labels.to(dev)\n",
    "\n",
    "            # zero the parameter gradients\n",
    "            optimizer.zero_grad()\n",
    "\n",
    "            # forward + backward + optimize\n",
    "            outputs = model(inputs)\n",
    "            loss = criterion(outputs, labels)\n",
    "            loss.backward()\n",
    "            optimizer.step()\n",
    "\n",
    "            # print statistics\n",
    "            running_loss += loss.item()\n",
    "            if i % log_every == log_every - 1:    \n",
    "                print('[%d, %5d] loss: %.3f' %\n",
    "                    (epoch + 1, i + 1, running_loss / log_every))\n",
    "                train_loss += [running_loss / log_every]\n",
    "                test_loss += [calc_test_loss(model, test_loader, criterion, dev)]\n",
    "                #wandb.log({\"train_loss\": running_loss / log_every})\n",
    "                #wandb.log({\"test_loss\": calc_test_loss(model, test_loader, criterion, dev)})\n",
    "                running_loss = 0.0\n",
    "\n",
    "    print('Finished Training')\n",
    "    #run.finish()\n",
    "    return model, train_loss, test_loss"
   ]
  },
  {
   "cell_type": "code",
   "execution_count": 50,
   "metadata": {
    "colab": {
     "base_uri": "https://localhost:8080/"
    },
    "id": "QYVEWdd_7G9b",
    "outputId": "1a9d7ea0-fd2f-472b-8e5f-322a2cc93397"
   },
   "outputs": [
    {
     "name": "stdout",
     "output_type": "stream",
     "text": [
      "[1,   250] loss: 2.302\n",
      "[2,   250] loss: 2.298\n",
      "[3,   250] loss: 2.280\n",
      "[4,   250] loss: 2.181\n",
      "[5,   250] loss: 2.042\n",
      "[6,   250] loss: 1.943\n",
      "[7,   250] loss: 1.811\n",
      "[8,   250] loss: 1.695\n",
      "[9,   250] loss: 1.607\n",
      "[10,   250] loss: 1.561\n",
      "[11,   250] loss: 1.516\n",
      "[12,   250] loss: 1.479\n",
      "[13,   250] loss: 1.446\n",
      "[14,   250] loss: 1.424\n",
      "[15,   250] loss: 1.394\n",
      "[16,   250] loss: 1.367\n",
      "[17,   250] loss: 1.350\n",
      "[18,   250] loss: 1.328\n",
      "[19,   250] loss: 1.307\n",
      "[20,   250] loss: 1.286\n",
      "[21,   250] loss: 1.275\n",
      "[22,   250] loss: 1.251\n",
      "[23,   250] loss: 1.238\n",
      "[24,   250] loss: 1.230\n",
      "[25,   250] loss: 1.213\n",
      "[26,   250] loss: 1.190\n",
      "[27,   250] loss: 1.168\n",
      "[28,   250] loss: 1.161\n",
      "[29,   250] loss: 1.141\n",
      "[30,   250] loss: 1.128\n",
      "[31,   250] loss: 1.123\n",
      "[32,   250] loss: 1.102\n",
      "[33,   250] loss: 1.088\n",
      "[34,   250] loss: 1.075\n",
      "[35,   250] loss: 1.065\n",
      "Finished Training\n"
     ]
    }
   ],
   "source": [
    "opt_baseline = train_epochs(35, trainloader, testloader, bNet, optimizer, criterion, log_every=250)"
   ]
  },
  {
   "cell_type": "code",
   "execution_count": 51,
   "metadata": {
    "colab": {
     "base_uri": "https://localhost:8080/"
    },
    "id": "ToF7UUf6iMyr",
    "outputId": "900941f6-c6a5-438b-cf9e-bb8b250f5dbc"
   },
   "outputs": [
    {
     "name": "stdout",
     "output_type": "stream",
     "text": [
      "Accuracy of the network on the test images: 59 %\n"
     ]
    }
   ],
   "source": [
    "calc_test_accuracy(opt_baseline, testloader, device)"
   ]
  },
  {
   "cell_type": "markdown",
   "metadata": {
    "id": "8x6Ul--oktEF"
   },
   "source": [
    "### Moving Past the Baseline: Deepening the Network and Adding BatchNorm"
   ]
  },
  {
   "cell_type": "code",
   "execution_count": 72,
   "metadata": {
    "id": "eA8S8PO45Pg0"
   },
   "outputs": [],
   "source": [
    "def conv_block_scheme1(layer_specs):\n",
    "    # layer_specs = [(kernel, stride, padding, in_channels, out_channels)]\n",
    "    layers = []\n",
    "    for spec in layer_specs:\n",
    "        kernel, stride, padding, in_channels, out_channels = spec\n",
    "        layers.append(nn.Conv2d(in_channels, out_channels, kernel_size=kernel, \n",
    "                                stride=stride, padding=padding, bias=False))\n",
    "        layers.append(nn.BatchNorm2d(out_channels))\n",
    "        layers.append(nn.ReLU())\n",
    "    layers.append(nn.MaxPool2d(kernel_size=2,stride=2))\n",
    "    return nn.Sequential(*layers)"
   ]
  },
  {
   "cell_type": "code",
   "execution_count": 122,
   "metadata": {
    "id": "7zTqaWmffC8t"
   },
   "outputs": [],
   "source": [
    "def conv_block_scheme2(layer_specs):\n",
    "    # layer_specs = [(kernel, stride, padding, in_channels, out_channels)]\n",
    "    layers = []\n",
    "    for spec in layer_specs:\n",
    "        kernel, stride, padding, in_channels, out_channels = spec\n",
    "        layers.append(nn.Conv2d(in_channels, out_channels, kernel_size=kernel, \n",
    "                                stride=stride, padding=padding, bias=False))\n",
    "        layers.append(nn.Conv2d(out_channels, out_channels, kernel_size=kernel+2, \n",
    "                                stride=stride, padding=int((kernel+1)/2), bias=False))\n",
    "        layers.append(nn.BatchNorm2d(out_channels))\n",
    "        layers.append(nn.ReLU())\n",
    "    layers.append(nn.MaxPool2d(kernel_size=2,stride=2))\n",
    "    return nn.Sequential(*layers)"
   ]
  },
  {
   "cell_type": "code",
   "execution_count": 130,
   "metadata": {
    "id": "AwaUL3oxkris"
   },
   "outputs": [],
   "source": [
    "class BatchNormNet(nn.Module):\n",
    "    def __init__(self, layer_specs, scheme):\n",
    "        super(BatchNormNet, self).__init__() \n",
    "        arch = scheme(layer_specs)\n",
    "        self.net = nn.Sequential(\n",
    "            *arch, nn.Flatten(),\n",
    "            nn.LazyLinear(4096), nn.ReLU(), nn.Dropout(0.5),\n",
    "            nn.Linear(4096,400), nn.ReLU(), nn.Dropout(0.25),\n",
    "            nn.Linear(400,10)\n",
    "        )\n",
    "        \n",
    "    def forward(self, x):\n",
    "        y = self.net(x)\n",
    "        return y"
   ]
  },
  {
   "cell_type": "code",
   "execution_count": 127,
   "metadata": {
    "id": "GsyvD-PU6h7b"
   },
   "outputs": [],
   "source": [
    "layer_specs = [(3,1,1,3,16), # Layer 1\n",
    "                (3,1,1,16,32), # Layer 2\n",
    "                (3,1,1,32,64), # Layer 3\n",
    "                (3,1,1,64,64)] # Layer 4\n",
    "bNet2 = BatchNormNet(layer_specs, conv_block_scheme1).to(device)\n",
    "criterion = nn.CrossEntropyLoss()\n",
    "optimizer = optim.SGD(bNet2.parameters(), lr=0.001, momentum=0.9)"
   ]
  },
  {
   "cell_type": "code",
   "execution_count": 128,
   "metadata": {
    "colab": {
     "base_uri": "https://localhost:8080/"
    },
    "id": "kBOp01xpTxHx",
    "outputId": "21e44ad6-1d0c-4675-f4aa-7af8cc266d1b"
   },
   "outputs": [
    {
     "data": {
      "text/plain": [
       "torch.Size([128, 16384])"
      ]
     },
     "execution_count": 128,
     "metadata": {},
     "output_type": "execute_result"
    }
   ],
   "source": [
    "# Pre-Load Lazy Loading\n",
    "sample_input_batched = next(iter(trainloader))[0].to(device)\n",
    "bNet2(sample_input_batched).shape"
   ]
  },
  {
   "cell_type": "code",
   "execution_count": 92,
   "metadata": {
    "colab": {
     "base_uri": "https://localhost:8080/"
    },
    "id": "icUEbRzv7Nez",
    "outputId": "11953b25-488b-43bb-ba83-0c6651d6f185"
   },
   "outputs": [
    {
     "name": "stdout",
     "output_type": "stream",
     "text": [
      "[1,   250] loss: 1.811\n",
      "[2,   250] loss: 1.293\n",
      "[3,   250] loss: 1.107\n",
      "[4,   250] loss: 0.969\n",
      "[5,   250] loss: 0.878\n",
      "[6,   250] loss: 0.789\n",
      "[7,   250] loss: 0.735\n",
      "[8,   250] loss: 0.675\n",
      "[9,   250] loss: 0.619\n",
      "[10,   250] loss: 0.571\n",
      "[11,   250] loss: 0.509\n",
      "[12,   250] loss: 0.457\n",
      "[13,   250] loss: 0.409\n",
      "[14,   250] loss: 0.352\n",
      "Finished Training\n"
     ]
    }
   ],
   "source": [
    "opt2_earlystopping = train_epochs(14, trainloader, testloader, bNet2, optimizer, criterion, log_every=250)"
   ]
  },
  {
   "cell_type": "code",
   "execution_count": 93,
   "metadata": {
    "colab": {
     "base_uri": "https://localhost:8080/"
    },
    "id": "x8BJcCOJ77lw",
    "outputId": "a455eecb-e6ab-438a-bb1b-2c97a564391f"
   },
   "outputs": [
    {
     "name": "stdout",
     "output_type": "stream",
     "text": [
      "Accuracy of the network on the test images: 73 %\n"
     ]
    }
   ],
   "source": [
    "calc_test_accuracy(opt2_earlystopping, testloader, device)"
   ]
  },
  {
   "cell_type": "code",
   "execution_count": 131,
   "metadata": {
    "colab": {
     "base_uri": "https://localhost:8080/"
    },
    "id": "IIdMb6z9nJOB",
    "outputId": "d93d86d3-1a66-4545-ecb2-ed57df3b4b23"
   },
   "outputs": [
    {
     "name": "stderr",
     "output_type": "stream",
     "text": [
      "/usr/local/lib/python3.8/dist-packages/torch/nn/modules/lazy.py:180: UserWarning: Lazy modules are a new feature under heavy development so changes to the API or functionality can happen at any moment.\n",
      "  warnings.warn('Lazy modules are a new feature under heavy development '\n"
     ]
    },
    {
     "data": {
      "text/plain": [
       "torch.Size([128, 10])"
      ]
     },
     "execution_count": 131,
     "metadata": {},
     "output_type": "execute_result"
    }
   ],
   "source": [
    "layer_specs = [(3,1,1,3,16), # Layer 1\n",
    "                (3,1,1,16,32), # Layer 2\n",
    "                (3,1,1,32,64), # Layer 3\n",
    "                (3,1,1,64,64)] # Layer 4\n",
    "bNet3 = BatchNormNet(layer_specs, conv_block_scheme2).to(device)\n",
    "criterion = nn.CrossEntropyLoss()\n",
    "optimizer = optim.SGD(bNet3.parameters(), lr=0.001, momentum=0.9)\n",
    "\n",
    "# Pre-Load Lazy Loading\n",
    "sample_input_batched = next(iter(trainloader))[0].to(device)\n",
    "bNet3(sample_input_batched).shape"
   ]
  },
  {
   "cell_type": "code",
   "execution_count": 140,
   "metadata": {
    "colab": {
     "base_uri": "https://localhost:8080/"
    },
    "id": "oluPryc6qSLq",
    "outputId": "af3de71a-b783-46ee-dbb9-a27d4ad5c8c9"
   },
   "outputs": [
    {
     "name": "stdout",
     "output_type": "stream",
     "text": [
      "[1,   250] loss: 1.764\n",
      "[2,   250] loss: 1.267\n",
      "[3,   250] loss: 1.051\n",
      "[4,   250] loss: 0.900\n",
      "[5,   250] loss: 0.801\n",
      "[6,   250] loss: 0.731\n",
      "[7,   250] loss: 0.664\n",
      "[8,   250] loss: 0.618\n",
      "[9,   250] loss: 0.576\n",
      "[10,   250] loss: 0.523\n",
      "[11,   250] loss: 0.487\n",
      "[12,   250] loss: 0.449\n",
      "[13,   250] loss: 0.413\n",
      "[14,   250] loss: 0.379\n",
      "[15,   250] loss: 0.339\n",
      "[16,   250] loss: 0.309\n",
      "[17,   250] loss: 0.275\n",
      "[18,   250] loss: 0.235\n",
      "[19,   250] loss: 0.206\n",
      "[20,   250] loss: 0.176\n",
      "Finished Training\n"
     ]
    }
   ],
   "source": [
    "opt3, trl, tsl = train_epochs(20, trainloader, testloader, bNet3, optimizer, criterion, log_every=250)"
   ]
  },
  {
   "cell_type": "code",
   "execution_count": 141,
   "metadata": {
    "colab": {
     "base_uri": "https://localhost:8080/",
     "height": 295
    },
    "id": "LWRAKTy0sVFi",
    "outputId": "5e5e7348-4d45-40e1-eb02-9c03801d6ecd"
   },
   "outputs": [
    {
     "data": {
      "image/png": "[encoded data removed]",
      "text/plain": [
       "<Figure size 432x288 with 1 Axes>"
      ]
     },
     "metadata": {
      "needs_background": "light"
     },
     "output_type": "display_data"
    }
   ],
   "source": [
    "plt.plot(trl)\n",
    "plt.plot(tsl)\n",
    "plt.legend(['Train', 'Test'])\n",
    "plt.xlabel('Iterations')\n",
    "plt.ylabel('Cross Entropy Loss')\n",
    "plt.title('Training Graph')\n",
    "plt.show()"
   ]
  },
  {
   "cell_type": "code",
   "execution_count": 142,
   "metadata": {
    "colab": {
     "base_uri": "https://localhost:8080/"
    },
    "id": "Yk-KzdU8sU3j",
    "outputId": "3549e983-f3bc-446e-eb39-c0bd6ac4b16e"
   },
   "outputs": [
    {
     "name": "stdout",
     "output_type": "stream",
     "text": [
      "Accuracy of the network on the test images: 78 %\n"
     ]
    }
   ],
   "source": [
    "calc_test_accuracy(opt3, testloader, device)"
   ]
  },
  {
   "cell_type": "markdown",
   "metadata": {
    "id": "ZPYVQQWYsUcx"
   },
   "source": [
    "### Moving Past Normalization: Residual Connections"
   ]
  },
  {
   "cell_type": "code",
   "execution_count": 10,
   "metadata": {
    "id": "vT5g2g9krkOQ"
   },
   "outputs": [],
   "source": [
    "class ResBlock(nn.Module):\n",
    "    def __init__(self, layer_spec, dims_scales, scheme, ff=True, device=device):\n",
    "        super(ResBlock, self).__init__() \n",
    "        arch = scheme(layer_spec, dims_scales)\n",
    "        self.ff = ff\n",
    "        self.convs = nn.Sequential(*arch)\n",
    "    def forward(self, x):\n",
    "        y = self.convs(x)\n",
    "        if self.ff:\n",
    "            add_conv = nn.Sequential(nn.Conv2d(x.shape[1], y.shape[1], kernel_size=1),\n",
    "                               nn.MaxPool2d(2)).to(device)\n",
    "            y+= add_conv(x)\n",
    "        return F.relu(y)"
   ]
  },
  {
   "cell_type": "code",
   "execution_count": 6,
   "metadata": {
    "id": "fBECKhR1yvy9"
   },
   "outputs": [],
   "source": [
    "def conv_block_scheme3(layer_spec, dims_scales):\n",
    "    # layer_specs = [(kernel, stride, out_channels)]\n",
    "    layers = []\n",
    "    kernel, stride, out_channels = layer_spec\n",
    "    for scale in dims_scales:\n",
    "        out_channels = out_channels * scale\n",
    "        layers.append(nn.LazyConv2d(out_channels, kernel_size=kernel, \n",
    "                                stride=stride, padding=int((kernel-1)/2), bias=False))\n",
    "        layers.append(nn.BatchNorm2d(out_channels))\n",
    "        layers.append(nn.ReLU())\n",
    "        layers.append(nn.Conv2d(out_channels, out_channels, kernel_size=kernel+2, \n",
    "                                stride=stride, padding=int((kernel+1)/2), bias=False))\n",
    "        layers.append(nn.BatchNorm2d(out_channels))\n",
    "        layers.append(nn.ReLU())\n",
    "    layers.append(nn.MaxPool2d(kernel_size=2,stride=2))\n",
    "    return nn.Sequential(*layers)"
   ]
  },
  {
   "cell_type": "code",
   "execution_count": 11,
   "metadata": {
    "colab": {
     "base_uri": "https://localhost:8080/"
    },
    "id": "Cly0Eed22on6",
    "outputId": "04d8a5b1-925c-43bb-8f62-8b3e73b9997d"
   },
   "outputs": [
    {
     "name": "stderr",
     "output_type": "stream",
     "text": [
      "/usr/local/lib/python3.8/dist-packages/torch/nn/modules/lazy.py:180: UserWarning: Lazy modules are a new feature under heavy development so changes to the API or functionality can happen at any moment.\n",
      "  warnings.warn('Lazy modules are a new feature under heavy development '\n"
     ]
    },
    {
     "data": {
      "text/plain": [
       "torch.Size([128, 512, 16, 16])"
      ]
     },
     "execution_count": 11,
     "metadata": {},
     "output_type": "execute_result"
    }
   ],
   "source": [
    "testnet = ResBlock((3,1,16), [1,2,4,4], conv_block_scheme3).to(device)\n",
    "sample_input_batched = next(iter(trainloader))[0].to(device)\n",
    "testnet(sample_input_batched).shape"
   ]
  },
  {
   "cell_type": "code",
   "execution_count": 13,
   "metadata": {
    "id": "MfiDoE9xz8lg"
   },
   "outputs": [],
   "source": [
    "class ConvResNet(nn.Module):\n",
    "    def __init__(self, n_res_blocks, layer_spec, dims_scales, conv_scheme):\n",
    "        super(ConvResNet, self).__init__()\n",
    "        res_chain = [ResBlock(layer_spec, dims_scales, conv_scheme, ff=False)] + [ResBlock(layer_spec, dims_scales, conv_scheme) for i in range(1, n_res_blocks)]\n",
    "        self.net = nn.Sequential(\n",
    "            *res_chain, nn.Flatten(),\n",
    "        nn.LazyLinear(192), nn.Linear(192,10))\n",
    "\n",
    "    def forward(self, x):\n",
    "        y = self.net(x)\n",
    "        return y"
   ]
  },
  {
   "cell_type": "code",
   "execution_count": 14,
   "metadata": {
    "colab": {
     "base_uri": "https://localhost:8080/"
    },
    "id": "itibiVV274SL",
    "outputId": "5078f2f7-7eca-433f-c28e-d785d5b56435"
   },
   "outputs": [
    {
     "data": {
      "text/plain": [
       "torch.Size([128, 10])"
      ]
     },
     "execution_count": 14,
     "metadata": {},
     "output_type": "execute_result"
    }
   ],
   "source": [
    "testnet2 = ConvResNet(3, (3,1,6), [1,2,4,4], conv_block_scheme3).to(device)\n",
    "criterion = nn.CrossEntropyLoss()\n",
    "optimizer = optim.SGD(testnet2.parameters(), lr=0.001, momentum=0.9)\n",
    "testnet2(sample_input_batched).shape"
   ]
  },
  {
   "cell_type": "code",
   "execution_count": null,
   "metadata": {
    "colab": {
     "base_uri": "https://localhost:8080/"
    },
    "id": "0izrR2H_8Nr0",
    "outputId": "a2882aa4-2b5c-41bd-addb-e3cc8205d9d3"
   },
   "outputs": [
    {
     "name": "stdout",
     "output_type": "stream",
     "text": [
      "[1,   250] loss: 2.006\n",
      "[2,   250] loss: 1.571\n",
      "[3,   250] loss: 1.391\n",
      "[4,   250] loss: 1.248\n",
      "[5,   250] loss: 1.144\n",
      "[6,   250] loss: 1.054\n",
      "[7,   250] loss: 0.985\n",
      "[8,   250] loss: 0.909\n",
      "[9,   250] loss: 0.853\n",
      "[10,   250] loss: 0.791\n",
      "[11,   250] loss: 0.746\n",
      "[12,   250] loss: 0.703\n",
      "[13,   250] loss: 0.651\n",
      "[14,   250] loss: 0.616\n",
      "[15,   250] loss: 0.556\n",
      "[16,   250] loss: 0.528\n",
      "[17,   250] loss: 0.495\n",
      "[18,   250] loss: 0.439\n"
     ]
    }
   ],
   "source": [
    "opt4, trl, tsl = train_epochs(20, trainloader, testloader, testnet2, optimizer, criterion, log_every=250)"
   ]
  },
  {
   "cell_type": "code",
   "execution_count": null,
   "metadata": {
    "id": "yNJ_4rx6-FXT"
   },
   "outputs": [],
   "source": [
    "plt.plot(trl)\n",
    "plt.plot(tsl)\n",
    "plt.legend(['Train', 'Test'])\n",
    "plt.xlabel('Iterations')\n",
    "plt.ylabel('Cross Entropy Loss')\n",
    "plt.title('Training Graph')\n",
    "plt.show()"
   ]
  },
  {
   "cell_type": "code",
   "execution_count": null,
   "metadata": {
    "id": "5Ky8sBqhBKgm"
   },
   "outputs": [],
   "source": [
    "calc_test_accuracy(opt3, testloader, device)"
   ]
  }
 ],
 "metadata": {
  "accelerator": "GPU",
  "colab": {
   "provenance": []
  },
  "gpuClass": "standard",
  "kernelspec": {
   "display_name": "Python 3 (ipykernel)",
   "language": "python",
   "name": "python3"
  },
  "language_info": {
   "codemirror_mode": {
    "name": "ipython",
    "version": 3
   },
   "file_extension": ".py",
   "mimetype": "text/x-python",
   "name": "python",
   "nbconvert_exporter": "python",
   "pygments_lexer": "ipython3",
   "version": "3.10.8"
  },
  "widgets": {
   "application/vnd.jupyter.widget-state+json": {
    "13bb1cb2f6ca49a9b4edf18dbaa0dd54": {
     "model_module": "@jupyter-widgets/base",
     "model_module_version": "1.2.0",
     "model_name": "LayoutModel",
     "state": {
      "_model_module": "@jupyter-widgets/base",
      "_model_module_version": "1.2.0",
      "_model_name": "LayoutModel",
      "_view_count": null,
      "_view_module": "@jupyter-widgets/base",
      "_view_module_version": "1.2.0",
      "_view_name": "LayoutView",
      "align_content": null,
      "align_items": null,
      "align_self": null,
      "border": null,
      "bottom": null,
      "display": null,
      "flex": null,
      "flex_flow": null,
      "grid_area": null,
      "grid_auto_columns": null,
      "grid_auto_flow": null,
      "grid_auto_rows": null,
      "grid_column": null,
      "grid_gap": null,
      "grid_row": null,
      "grid_template_areas": null,
      "grid_template_columns": null,
      "grid_template_rows": null,
      "height": null,
      "justify_content": null,
      "justify_items": null,
      "left": null,
      "margin": null,
      "max_height": null,
      "max_width": null,
      "min_height": null,
      "min_width": null,
      "object_fit": null,
      "object_position": null,
      "order": null,
      "overflow": null,
      "overflow_x": null,
      "overflow_y": null,
      "padding": null,
      "right": null,
      "top": null,
      "visibility": null,
      "width": null
     }
    },
    "2abe61a57dbb46ea8be4b38bc93dbe9f": {
     "model_module": "@jupyter-widgets/base",
     "model_module_version": "1.2.0",
     "model_name": "LayoutModel",
     "state": {
      "_model_module": "@jupyter-widgets/base",
      "_model_module_version": "1.2.0",
      "_model_name": "LayoutModel",
      "_view_count": null,
      "_view_module": "@jupyter-widgets/base",
      "_view_module_version": "1.2.0",
      "_view_name": "LayoutView",
      "align_content": null,
      "align_items": null,
      "align_self": null,
      "border": null,
      "bottom": null,
      "display": null,
      "flex": null,
      "flex_flow": null,
      "grid_area": null,
      "grid_auto_columns": null,
      "grid_auto_flow": null,
      "grid_auto_rows": null,
      "grid_column": null,
      "grid_gap": null,
      "grid_row": null,
      "grid_template_areas": null,
      "grid_template_columns": null,
      "grid_template_rows": null,
      "height": null,
      "justify_content": null,
      "justify_items": null,
      "left": null,
      "margin": null,
      "max_height": null,
      "max_width": null,
      "min_height": null,
      "min_width": null,
      "object_fit": null,
      "object_position": null,
      "order": null,
      "overflow": null,
      "overflow_x": null,
      "overflow_y": null,
      "padding": null,
      "right": null,
      "top": null,
      "visibility": null,
      "width": null
     }
    },
    "364570346869494b884bf0871dec5991": {
     "model_module": "@jupyter-widgets/controls",
     "model_module_version": "1.5.0",
     "model_name": "ProgressStyleModel",
     "state": {
      "_model_module": "@jupyter-widgets/controls",
      "_model_module_version": "1.5.0",
      "_model_name": "ProgressStyleModel",
      "_view_count": null,
      "_view_module": "@jupyter-widgets/base",
      "_view_module_version": "1.2.0",
      "_view_name": "StyleView",
      "bar_color": null,
      "description_width": ""
     }
    },
    "4322781493d64c539e63037f34c08577": {
     "model_module": "@jupyter-widgets/controls",
     "model_module_version": "1.5.0",
     "model_name": "DescriptionStyleModel",
     "state": {
      "_model_module": "@jupyter-widgets/controls",
      "_model_module_version": "1.5.0",
      "_model_name": "DescriptionStyleModel",
      "_view_count": null,
      "_view_module": "@jupyter-widgets/base",
      "_view_module_version": "1.2.0",
      "_view_name": "StyleView",
      "description_width": ""
     }
    },
    "b391ed0658db4c3ead29ea75004a7115": {
     "model_module": "@jupyter-widgets/controls",
     "model_module_version": "1.5.0",
     "model_name": "FloatProgressModel",
     "state": {
      "_dom_classes": [],
      "_model_module": "@jupyter-widgets/controls",
      "_model_module_version": "1.5.0",
      "_model_name": "FloatProgressModel",
      "_view_count": null,
      "_view_module": "@jupyter-widgets/controls",
      "_view_module_version": "1.5.0",
      "_view_name": "ProgressView",
      "bar_style": "",
      "description": "",
      "description_tooltip": null,
      "layout": "IPY_MODEL_2abe61a57dbb46ea8be4b38bc93dbe9f",
      "max": 1,
      "min": 0,
      "orientation": "horizontal",
      "style": "IPY_MODEL_364570346869494b884bf0871dec5991",
      "value": 0.08534365043240782
     }
    },
    "df681b74d87a4a52a83adfb4c9885ff8": {
     "model_module": "@jupyter-widgets/controls",
     "model_module_version": "1.5.0",
     "model_name": "VBoxModel",
     "state": {
      "_dom_classes": [],
      "_model_module": "@jupyter-widgets/controls",
      "_model_module_version": "1.5.0",
      "_model_name": "VBoxModel",
      "_view_count": null,
      "_view_module": "@jupyter-widgets/controls",
      "_view_module_version": "1.5.0",
      "_view_name": "VBoxView",
      "box_style": "",
      "children": [
       "IPY_MODEL_e0573fc73ab344f3a0680e798ae866f9",
       "IPY_MODEL_b391ed0658db4c3ead29ea75004a7115"
      ],
      "layout": "IPY_MODEL_13bb1cb2f6ca49a9b4edf18dbaa0dd54"
     }
    },
    "e0573fc73ab344f3a0680e798ae866f9": {
     "model_module": "@jupyter-widgets/controls",
     "model_module_version": "1.5.0",
     "model_name": "LabelModel",
     "state": {
      "_dom_classes": [],
      "_model_module": "@jupyter-widgets/controls",
      "_model_module_version": "1.5.0",
      "_model_name": "LabelModel",
      "_view_count": null,
      "_view_module": "@jupyter-widgets/controls",
      "_view_module_version": "1.5.0",
      "_view_name": "LabelView",
      "description": "",
      "description_tooltip": null,
      "layout": "IPY_MODEL_ec1b433384344667b0b048ae222e7be1",
      "placeholder": "​",
      "style": "IPY_MODEL_4322781493d64c539e63037f34c08577",
      "value": "0.001 MB of 0.008 MB uploaded (0.000 MB deduped)\r"
     }
    },
    "ec1b433384344667b0b048ae222e7be1": {
     "model_module": "@jupyter-widgets/base",
     "model_module_version": "1.2.0",
     "model_name": "LayoutModel",
     "state": {
      "_model_module": "@jupyter-widgets/base",
      "_model_module_version": "1.2.0",
      "_model_name": "LayoutModel",
      "_view_count": null,
      "_view_module": "@jupyter-widgets/base",
      "_view_module_version": "1.2.0",
      "_view_name": "LayoutView",
      "align_content": null,
      "align_items": null,
      "align_self": null,
      "border": null,
      "bottom": null,
      "display": null,
      "flex": null,
      "flex_flow": null,
      "grid_area": null,
      "grid_auto_columns": null,
      "grid_auto_flow": null,
      "grid_auto_rows": null,
      "grid_column": null,
      "grid_gap": null,
      "grid_row": null,
      "grid_template_areas": null,
      "grid_template_columns": null,
      "grid_template_rows": null,
      "height": null,
      "justify_content": null,
      "justify_items": null,
      "left": null,
      "margin": null,
      "max_height": null,
      "max_width": null,
      "min_height": null,
      "min_width": null,
      "object_fit": null,
      "object_position": null,
      "order": null,
      "overflow": null,
      "overflow_x": null,
      "overflow_y": null,
      "padding": null,
      "right": null,
      "top": null,
      "visibility": null,
      "width": null
     }
    }
   }
  }
 },
 "nbformat": 4,
 "nbformat_minor": 1
}
